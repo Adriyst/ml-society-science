{
 "cells": [
  {
   "cell_type": "markdown",
   "metadata": {},
   "source": [
    "# Project 1: Bank Credit\n",
    "### adrianty & sondrewo"
   ]
  },
  {
   "cell_type": "markdown",
   "metadata": {},
   "source": [
    "### The implementation of the functions for `name_banker.py` can be found in the source code folder. We used the TestLending.py code as a baseline for the model development."
   ]
  },
  {
   "cell_type": "markdown",
   "metadata": {},
   "source": [
    "We started our model development by inspecting the different columns in the data set, identifying both numerical and discrete  features. As is well known, the Naive Bayes classifier supports catergorical features natively and can be adjusted to use numerical ones as well. Thus, we formulated the following hypothesis:\n",
    "\n",
    "H<sub>0</sub> : The Multinomial Naive Bayes classifier will provide a high accuracy\n",
    "\n",
    "We then attempted to falsify this hypothesis (Exp 1) by testing out different models: Logistic regression, KNN, BernoulliNB"
   ]
  },
  {
   "cell_type": "code",
   "execution_count": 134,
   "metadata": {},
   "outputs": [],
   "source": [
    "from sklearn.naive_bayes import MultinomialNB \n",
    "from sklearn.naive_bayes import BernoulliNB \n",
    "from sklearn.naive_bayes import GaussianNB \n",
    "from sklearn.linear_model import LogisticRegression\n",
    "from sklearn.neighbors import KNeighborsClassifier\n",
    "from sklearn.ensemble import RandomForestClassifier, AdaBoostClassifier\n",
    "from sklearn.neural_network import MLPClassifier\n",
    "import pandas\n",
    "import math\n",
    "import matplotlib.pyplot as plt"
   ]
  },
  {
   "cell_type": "code",
   "execution_count": 110,
   "metadata": {},
   "outputs": [],
   "source": [
    "PATH = \"./data/credit/D_valid.csv\"\n",
    "features = ['checking account balance', 'duration', 'credit history',\n",
    "            'purpose', 'amount', 'savings', 'employment', 'installment',\n",
    "            'marital status', 'other debtors', 'residence time',\n",
    "            'property', 'age', 'other installments', 'housing', 'credits',\n",
    "            'job', 'persons', 'phone', 'foreign']\n",
    "target = 'repaid'\n",
    "\n",
    "df = pandas.read_csv(PATH, sep=' ',\n",
    "                     names=features+[target])"
   ]
  },
  {
   "cell_type": "code",
   "execution_count": 111,
   "metadata": {},
   "outputs": [],
   "source": [
    "numerical_features = ['duration', 'age', 'residence time', 'installment', 'amount', 'persons', 'credits']\n",
    "quantitative_features = list(filter(lambda x: x not in numerical_features, features))\n",
    "X = pandas.get_dummies(df, columns=quantitative_features, drop_first=True)\n",
    "encoded_features = list(filter(lambda x: x != target, X.columns))"
   ]
  },
  {
   "cell_type": "code",
   "execution_count": 117,
   "metadata": {},
   "outputs": [],
   "source": [
    "def test_decision_maker(X_test, y_test, interest_rate, decision_maker):\n",
    "    n_test_examples = len(X_test)\n",
    "    utility = 0\n",
    "\n",
    "    ## Example test function - this is only an unbiased test if the data has not been seen in training\n",
    "    total_amount = 0\n",
    "    total_utility = 0\n",
    "    decision_maker.set_interest_rate(interest_rate)\n",
    "    for t in range(n_test_examples):\n",
    "        action = decision_maker.get_best_action(X_test.iloc[t])\n",
    "        good_loan = y_test.iloc[t] # assume the labels are correct\n",
    "        duration = X_test['duration'].iloc[t]\n",
    "        amount = X_test['amount'].iloc[t]\n",
    "        # If we don't grant the loan then nothing happens\n",
    "        if (action==1):\n",
    "            if (good_loan != 1):\n",
    "                utility -= amount\n",
    "            else:\n",
    "                utility += amount*(pow(1 + interest_rate, duration) - 1)\n",
    "        total_utility += utility\n",
    "        total_amount += amount\n",
    "    return utility, total_utility/total_amount"
   ]
  },
  {
   "cell_type": "code",
   "execution_count": 119,
   "metadata": {},
   "outputs": [],
   "source": [
    "import name_banker\n",
    "from sklearn.model_selection import train_test_split\n",
    "\n",
    "interest_rate = 0.017\n",
    "\n",
    "\n",
    "n_tests = 100\n",
    "\n",
    "### Do a number of preliminary tests by splitting the data in parts\n",
    "def run_test(models):\n",
    "    '''\n",
    "    args:\n",
    "        models (dict): dictionary of models to test on. key=str (name of model), value=model\n",
    "    returns:\n",
    "        results: dictionary of the total utility and avg investment return per n, per model\n",
    "    '''\n",
    "    results = {}\n",
    "    for name, model in models.items():\n",
    "        print(name)\n",
    "        decision_maker = name_banker.NameBanker(model)\n",
    "        utility = 0\n",
    "        investment_return = 0\n",
    "        for iter in range(n_tests):\n",
    "            X_train, X_test, y_train, y_test = train_test_split(X[encoded_features], X[target], test_size=0.2)\n",
    "            decision_maker.set_interest_rate(interest_rate)\n",
    "            decision_maker.fit(X_train, y_train)\n",
    "            Ui, Ri = test_decision_maker(X_test, y_test, interest_rate, decision_maker)\n",
    "            utility += Ui\n",
    "            investment_return += Ri\n",
    "        results[name] = [math.floor((utility / n_tests) * 100)/100.0, math.floor((investment_return / n_tests) * 100)/100.0]\n",
    "    return results"
   ]
  },
  {
   "cell_type": "markdown",
   "metadata": {},
   "source": [
    "## Exp 1: Comparing different classification models:"
   ]
  },
  {
   "cell_type": "code",
   "execution_count": 135,
   "metadata": {},
   "outputs": [
    {
     "name": "stdout",
     "output_type": "stream",
     "text": [
      "KNN\n",
      "BernoulliNB\n",
      "MultinomialNB\n",
      "Log.regression\n",
      "Neural Net\n",
      "AdaBoost\n"
     ]
    }
   ],
   "source": [
    "results = run_test({\"KNN\": KNeighborsClassifier(n_neighbors=31),\n",
    "                    \"BernoulliNB\": BernoulliNB(),\n",
    "                    \"MultinomialNB\": MultinomialNB(),\n",
    "                    \"Log.regression\": LogisticRegression(max_iter=1500),\n",
    "                    \"Neural Net\": MLPClassifier(alpha=1, max_iter=1000),\n",
    "                    \"AdaBoost\": AdaBoostClassifier()})"
   ]
  },
  {
   "cell_type": "code",
   "execution_count": 136,
   "metadata": {},
   "outputs": [
    {
     "data": {
      "text/html": [
       "<div>\n",
       "<style scoped>\n",
       "    .dataframe tbody tr th:only-of-type {\n",
       "        vertical-align: middle;\n",
       "    }\n",
       "\n",
       "    .dataframe tbody tr th {\n",
       "        vertical-align: top;\n",
       "    }\n",
       "\n",
       "    .dataframe thead th {\n",
       "        text-align: right;\n",
       "    }\n",
       "</style>\n",
       "<table border=\"1\" class=\"dataframe\">\n",
       "  <thead>\n",
       "    <tr style=\"text-align: right;\">\n",
       "      <th></th>\n",
       "      <th>Model</th>\n",
       "      <th>Total Utility, Avg Investment Return</th>\n",
       "    </tr>\n",
       "  </thead>\n",
       "  <tbody>\n",
       "    <tr>\n",
       "      <th>0</th>\n",
       "      <td>KNN</td>\n",
       "      <td>[375992.19, 9.17]</td>\n",
       "    </tr>\n",
       "    <tr>\n",
       "      <th>1</th>\n",
       "      <td>BernoulliNB</td>\n",
       "      <td>[2194591.89, 55.39]</td>\n",
       "    </tr>\n",
       "    <tr>\n",
       "      <th>2</th>\n",
       "      <td>MultinomialNB</td>\n",
       "      <td>[4410305.44, 107.24]</td>\n",
       "    </tr>\n",
       "    <tr>\n",
       "      <th>3</th>\n",
       "      <td>Log.regression</td>\n",
       "      <td>[1388105.99, 37.12]</td>\n",
       "    </tr>\n",
       "    <tr>\n",
       "      <th>4</th>\n",
       "      <td>Neural Net</td>\n",
       "      <td>[690783.72, 18.38]</td>\n",
       "    </tr>\n",
       "    <tr>\n",
       "      <th>5</th>\n",
       "      <td>AdaBoost</td>\n",
       "      <td>[2005530.97, 55.42]</td>\n",
       "    </tr>\n",
       "  </tbody>\n",
       "</table>\n",
       "</div>"
      ],
      "text/plain": [
       "            Model Total Utility, Avg Investment Return\n",
       "0             KNN                    [375992.19, 9.17]\n",
       "1     BernoulliNB                  [2194591.89, 55.39]\n",
       "2   MultinomialNB                 [4410305.44, 107.24]\n",
       "3  Log.regression                  [1388105.99, 37.12]\n",
       "4      Neural Net                   [690783.72, 18.38]\n",
       "5        AdaBoost                  [2005530.97, 55.42]"
      ]
     },
     "execution_count": 136,
     "metadata": {},
     "output_type": "execute_result"
    }
   ],
   "source": [
    "pandas.DataFrame(results.items(), columns=[\"Model\", \"Total Utility, Avg Investment Return\"])"
   ]
  },
  {
   "cell_type": "markdown",
   "metadata": {},
   "source": [
    "### Results of Exp 1:"
   ]
  },
  {
   "cell_type": "markdown",
   "metadata": {},
   "source": [
    "Based on these results, we chose to keep our hypothesis H<sub>0</sub> and continue the development using the Multinomial NB model. \n",
    "\n",
    "<b> Assumption 1 </b>: \n",
    "    Since the results for Multinomial NB was that much better than for KNN, we assumed that changing the amount of neighbours would not out-perform NB and decided to only test for `k=floor(sqrt(n))=31` (a common approach for K selection for KNN)"
   ]
  },
  {
   "cell_type": "markdown",
   "metadata": {},
   "source": [
    "## Exp 2: Comparison with RandomBanker.py"
   ]
  },
  {
   "cell_type": "code",
   "execution_count": 123,
   "metadata": {},
   "outputs": [],
   "source": [
    "def run_test_single_model(maker):\n",
    "    res = []\n",
    "    decision_maker = maker\n",
    "    utility = 0\n",
    "    investment_return = 0\n",
    "    for iter in range(n_tests):\n",
    "        X_train, X_test, y_train, y_test = train_test_split(X[encoded_features], X[target], test_size=0.2)\n",
    "        decision_maker.set_interest_rate(interest_rate)\n",
    "        decision_maker.fit(X_train, y_train)\n",
    "        Ui, Ri = test_decision_maker(X_test, y_test, interest_rate, decision_maker)\n",
    "        utility += Ui\n",
    "        investment_return += Ri\n",
    "    \n",
    "    res.append(math.floor((utility / n_tests) * 100)/100.0)\n",
    "    res.append(math.floor((investment_return / n_tests) * 100)/100.0)\n",
    "    return res"
   ]
  },
  {
   "cell_type": "code",
   "execution_count": 124,
   "metadata": {},
   "outputs": [],
   "source": [
    "comp_test = {}\n",
    "comp_test[\"Random banker\"] = run_test_single_model(random_banker.RandomBanker())\n",
    "comp_test[\"Name banker (our model)\"] = run_test_single_model(name_banker.NameBanker(MultinomialNB()))"
   ]
  },
  {
   "cell_type": "code",
   "execution_count": 128,
   "metadata": {},
   "outputs": [
    {
     "data": {
      "text/html": [
       "<div>\n",
       "<style scoped>\n",
       "    .dataframe tbody tr th:only-of-type {\n",
       "        vertical-align: middle;\n",
       "    }\n",
       "\n",
       "    .dataframe tbody tr th {\n",
       "        vertical-align: top;\n",
       "    }\n",
       "\n",
       "    .dataframe thead th {\n",
       "        text-align: right;\n",
       "    }\n",
       "</style>\n",
       "<table border=\"1\" class=\"dataframe\">\n",
       "  <thead>\n",
       "    <tr style=\"text-align: right;\">\n",
       "      <th></th>\n",
       "      <th>Model</th>\n",
       "      <th>Total Utility, Avg Investment Return</th>\n",
       "    </tr>\n",
       "  </thead>\n",
       "  <tbody>\n",
       "    <tr>\n",
       "      <th>0</th>\n",
       "      <td>Random banker</td>\n",
       "      <td>[1830630.53, 51.92]</td>\n",
       "    </tr>\n",
       "    <tr>\n",
       "      <th>1</th>\n",
       "      <td>Name banker (our model)</td>\n",
       "      <td>[4851005.15, 123.77]</td>\n",
       "    </tr>\n",
       "  </tbody>\n",
       "</table>\n",
       "</div>"
      ],
      "text/plain": [
       "                     Model Total Utility, Avg Investment Return\n",
       "0            Random banker                  [1830630.53, 51.92]\n",
       "1  Name banker (our model)                 [4851005.15, 123.77]"
      ]
     },
     "execution_count": 128,
     "metadata": {},
     "output_type": "execute_result"
    }
   ],
   "source": [
    "pandas.DataFrame(comp_test.items(), columns=[\"Model\", \"Total Utility, Avg Investment Return\"])"
   ]
  },
  {
   "cell_type": "markdown",
   "metadata": {},
   "source": [
    "### Results of Exp 2"
   ]
  },
  {
   "cell_type": "markdown",
   "metadata": {},
   "source": [
    "The table above shows that our model performed better than the random banker module"
   ]
  },
  {
   "cell_type": "code",
   "execution_count": null,
   "metadata": {},
   "outputs": [],
   "source": []
  }
 ],
 "metadata": {
  "kernelspec": {
   "display_name": "Python 3",
   "language": "python",
   "name": "python3"
  },
  "language_info": {
   "codemirror_mode": {
    "name": "ipython",
    "version": 3
   },
   "file_extension": ".py",
   "mimetype": "text/x-python",
   "name": "python",
   "nbconvert_exporter": "python",
   "pygments_lexer": "ipython3",
   "version": "3.8.3"
  }
 },
 "nbformat": 4,
 "nbformat_minor": 4
}
