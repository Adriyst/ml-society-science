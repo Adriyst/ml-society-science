{
 "cells": [
  {
   "cell_type": "markdown",
   "metadata": {},
   "source": [
    "# Bank Credit\n",
    "adrianty & sondrewo"
   ]
  },
  {
   "cell_type": "markdown",
   "metadata": {},
   "source": [
    "## Table of contents:\n",
    "\n",
    "* [Implicit assumptions and discussion](#implicit_assumptions)\n",
    "* [Model Development](#model_dev)\n",
    "    * [Hypothesis and heuristics](#hypothesis)\n",
    "    * [Exp 1: Comparing different classification models](#comparing_different)  \n",
    "        - [Testing different smoothing parameters](#smoothing)\n",
    "        - [Estimating actual performance of MultinomialNB](#actual_performance)\n",
    "    * [Exp 2: Feature Selection](#feature_selection)\n",
    "    * [Exp 3: Comparison with RandomBanker.py](#comparison) \n",
    "* [Fairness](#fairness)\n",
    "    * [Sensitive variables](#fairness_sensitive)\n",
    "    * [p%-metric](#fairness_p)\n",
    "    * [Exp 4: p%-score of sensitive variables](#fairness_exp4)\n",
    "    * [The balance between utility and fairness](#fairness_balance)\n",
    "    * [Exp 5: How sensitive variables affect total utility](#fairness_exp5)\n",
    "* [Reproducibility and reliability](#reproduce)\n",
    "* [Privacy](#privacy)\n",
    "* [Discussion](#discussion)\n",
    "\n",
    "\n",
    "   "
   ]
  },
  {
   "cell_type": "markdown",
   "metadata": {},
   "source": [
    "## Implicit assumptions of the data <a id=\"implicit_assumptions\"></a>"
   ]
  },
  {
   "cell_type": "markdown",
   "metadata": {},
   "source": [
    "The data was already labeled with some named columns in the provided TestLending script. We still decided to do some explorative testing, to see if we could use some heuristics to develop some additional understanding of the data. We found out that there were many more elements that were labelled with <em>2</em>, which is described in the documentation as <em>bad</em>, than there were those that were labelled with <em>1</em>, or <em>good</em>. Further inspection revealed that the average amount for the <em>bad</em> loans were quite a lot higher than the <em>good</em> ones. This could suggest that the data is taken from a position in time where the <em>bad</em> loans have already defaulted, and the <em>good</em> ones are in the process of being paid off.\n",
    "\n",
    "This of course would make modelling extremely difficult, as we would have to normalize the amounts for the duration remaining. This would be extremely speculative and probably not make for good generalization, so we make the assumption that this is not the case, and that the duration and amount listed are initial values."
   ]
  },
  {
   "cell_type": "markdown",
   "metadata": {},
   "source": [
    "## Model development <a id=\"model_dev\"></a>"
   ]
  },
  {
   "cell_type": "markdown",
   "metadata": {},
   "source": [
    "## Intro <a id=\"hypothesis\"></a>"
   ]
  },
  {
   "cell_type": "markdown",
   "metadata": {},
   "source": [
    "We started our model development by inspecting the different columns in the data set, identifying both numerical and discrete  features. As is well known, the Naive Bayes classifier supports catergorical features natively and can be adjusted to use numerical ones as well. Thus, we formulated the following hypothesis:\n",
    "\n",
    "<strong>H</strong><sub>0</sub> : The Multinomial Naive Bayes classifier will perform well\n",
    "\n",
    "We then attempted to falsify this hypothesis (Exp 1) by testing out different models: Logistic regression, KNN, BernoulliNB, AdaBoost with Decision Tree and a simple multi-layered perceptron (MLP)."
   ]
  },
  {
   "cell_type": "markdown",
   "metadata": {},
   "source": [
    "## Setup"
   ]
  },
  {
   "cell_type": "code",
   "execution_count": 1,
   "metadata": {},
   "outputs": [],
   "source": [
    "class AdrianSondreBanker:\n",
    "    def __init__(self, MODEL):\n",
    "        self.model = MODEL\n",
    "    \n",
    "    def fit(self, X, y):\n",
    "        self.data = [X, y]\n",
    "        self.model.fit(X, y)\n",
    "\n",
    "    def set_interest_rate(self, rate):\n",
    "        self.rate = rate\n",
    "        return\n",
    "\n",
    "    def predict_proba(self, x):\n",
    "        \"\"\"\n",
    "        Gets the probability distribution over two classes. \n",
    "        Reshape is done to get the result as a simple 1d array.\n",
    "        \"\"\"\n",
    "        return self.model.predict_proba(np.array(x).reshape(1, -1))[0]\n",
    "\n",
    "    def expected_utility(self, x, action):\n",
    "        \"\"\"\n",
    "        Calculates the expected utility of an individual. Uses the formula\n",
    "        \n",
    "        utility = amount_of_loan * (1 + lend_rate)^duration_of_loan\n",
    "        \"\"\"\n",
    "        utility = x[\"amount\"] * ((1 + self.rate) ** x['duration'])\n",
    "        \n",
    "        # Generate a utility matrix for the loan.\n",
    "        # will look like this for a utility of 100 for a loan of 20:\n",
    "        \n",
    "        #                    ___________________\n",
    "        #                   |will pay | wont pay|\n",
    "        # ------------------|---------|---------|\n",
    "        # dont give loan    |    0    |    0    |\n",
    "        #-------------------|---------|---------|\n",
    "        # do give loan      |   100   |  - 20   |\n",
    "        #----------------------------------------\n",
    "        U = np.matrix(f\"0 0; {utility} {x['amount'] * -1}\")\n",
    "\n",
    "        # get the probabilities of the classes (will pay, wont pay)\n",
    "        probs = self.predict_proba(x)\n",
    "        \n",
    "        # get the index of the highest probability - 0 if wont pay, 1 if will pay\n",
    "        repaid = np.where(probs == max(probs))\n",
    "\n",
    "        return U[action, repaid]\n",
    "\n",
    "    def get_best_action(self, x):\n",
    "        \"\"\"\n",
    "        Decide whether to give a loan to some individual x.\n",
    "        \n",
    "        Returns:\n",
    "            the index of the highest expected utility - 0 if loan denied, 1 if loan given\n",
    "        \"\"\"\n",
    "        util = [self.expected_utility(x, a) for a in [0,1]]\n",
    "        return util.index(max(util))"
   ]
  },
  {
   "cell_type": "code",
   "execution_count": 26,
   "metadata": {},
   "outputs": [],
   "source": [
    "from sklearn.naive_bayes import MultinomialNB \n",
    "from sklearn.naive_bayes import BernoulliNB \n",
    "from sklearn.naive_bayes import GaussianNB \n",
    "from sklearn.linear_model import LogisticRegression\n",
    "from sklearn.neighbors import KNeighborsClassifier\n",
    "from sklearn.ensemble import RandomForestClassifier, AdaBoostClassifier\n",
    "from sklearn.neural_network import MLPClassifier\n",
    "import pandas\n",
    "import math\n",
    "import matplotlib.pyplot as plt\n",
    "import numpy as np\n",
    "from sklearn.model_selection import train_test_split\n",
    "import random_banker\n",
    "%matplotlib inline"
   ]
  },
  {
   "cell_type": "code",
   "execution_count": 41,
   "metadata": {},
   "outputs": [],
   "source": [
    "VALID_PATH = \"./data/credit/D_valid.csv\"\n",
    "TRAIN_PATH = \"./data/credit/D_train.csv\"\n",
    "TEST_PATH = \"./data/credit/D_test.csv\"\n",
    "interest_rate = 0.017\n",
    "\n",
    "def get_data(path):\n",
    "    \"\"\"\n",
    "    Fetches a dataset with the desirable features. Discussion on the \n",
    "    different datasets can be found below.\n",
    "    \"\"\"\n",
    "    features = ['checking account balance', 'duration', 'credit history',\n",
    "                'purpose', 'amount', 'savings', 'employment', 'installment',\n",
    "                'marital status', 'other debtors', 'residence time',\n",
    "                'property', 'age', 'other installments', 'housing', 'credits',\n",
    "                'job', 'persons', 'phone', 'foreign']\n",
    "    target = 'repaid'\n",
    "\n",
    "    df = pandas.read_csv(path, sep=' ',\n",
    "                         names=features+[target])\n",
    "    numerical_features = ['duration', 'age', 'residence time', 'installment', 'amount', 'persons', 'credits']\n",
    "    quantitative_features = list(filter(lambda x: x not in numerical_features, features))\n",
    "    X = pandas.get_dummies(df, columns=quantitative_features, drop_first=True)\n",
    "    encoded_features = list(filter(lambda x: x != target, X.columns))\n",
    "    return X, encoded_features, target"
   ]
  },
  {
   "cell_type": "code",
   "execution_count": 42,
   "metadata": {},
   "outputs": [],
   "source": [
    "def test_decision_maker(X_test, y_test, interest_rate, decision_maker):\n",
    "    \"\"\"\n",
    "    Default standard test - copied from TestLending.py\n",
    "    \"\"\"\n",
    "    n_test_examples = len(X_test)\n",
    "    utility = 0\n",
    "\n",
    "    ## Example test function - this is only an unbiased test if the data has not been seen in training\n",
    "    total_amount = 0\n",
    "    total_utility = 0\n",
    "    decision_maker.set_interest_rate(interest_rate)\n",
    "    for t in range(n_test_examples):\n",
    "        action = decision_maker.get_best_action(X_test.iloc[t])\n",
    "        good_loan = y_test.iloc[t] # assume the labels are correct\n",
    "        duration = X_test['duration'].iloc[t]\n",
    "        amount = X_test['amount'].iloc[t]\n",
    "        # If we don't grant the loan then nothing happens\n",
    "        if (action==1):\n",
    "            if (good_loan != 1):\n",
    "                utility -= amount\n",
    "            else:\n",
    "                utility += amount*(pow(1 + interest_rate, duration) - 1)\n",
    "        total_utility += utility\n",
    "        total_amount += amount\n",
    "    return utility, total_utility/total_amount"
   ]
  },
  {
   "cell_type": "code",
   "execution_count": 152,
   "metadata": {},
   "outputs": [],
   "source": [
    "### Do a number of preliminary tests by splitting the data in parts\n",
    "def run_test(models, X, encoded_features, target, n_tests=100):\n",
    "    '''\n",
    "    Default testing of a (or multiple) model(s), mostly taken from TestLending.py\n",
    "    \n",
    "    args:\n",
    "        models (dict): dictionary of models to test on. key=str (name of model), value=model\n",
    "    returns:\n",
    "        results: dictionary of the total utility and avg investment return per n, per model\n",
    "    '''\n",
    "    results = {}\n",
    "    n_tests = n_tests\n",
    "    for name, model in models.items():\n",
    "        decision_maker = AdrianSondreBanker(model)\n",
    "        utility = 0\n",
    "        investment_return = 0\n",
    "        for iter in range(n_tests):\n",
    "            X_train, X_test, y_train, y_test = train_test_split(X[encoded_features], X[target], test_size=0.2)\n",
    "            decision_maker.set_interest_rate(interest_rate)\n",
    "            decision_maker.fit(X_train, y_train)\n",
    "            Ui, Ri = test_decision_maker(X_test[encoded_features], y_test, interest_rate, decision_maker)\n",
    "            utility += Ui\n",
    "            investment_return += Ri\n",
    "        results[name] = [math.floor((utility / n_tests) * 100)/100.0, math.floor((investment_return / n_tests) * 100)/100.0]\n",
    "    return results, decision_maker"
   ]
  },
  {
   "cell_type": "markdown",
   "metadata": {},
   "source": [
    "## Exp 1: Comparing different classification models: <a id=\"comparing_different\"></a>"
   ]
  },
  {
   "cell_type": "code",
   "execution_count": 155,
   "metadata": {},
   "outputs": [],
   "source": [
    "def run_tests_for_all_classifiers():\n",
    "    \"\"\"\n",
    "    Compare results from different classifiers, using the default test above.\n",
    "    \"\"\"\n",
    "    X, encoded_f, tar = get_data(\"./data/credit/D_valid.csv\")\n",
    "    results = run_test({\"KNN\": KNeighborsClassifier(n_neighbors=31),\n",
    "                    \"BernoulliNB\": BernoulliNB(),\n",
    "                    \"MultinomialNB\": MultinomialNB(),\n",
    "                    \"Log.regression\": LogisticRegression(max_iter=1500),\n",
    "                    \"Neural Net\": MLPClassifier(alpha=1, max_iter=1000)}, X, encoded_f, tar)\n",
    "    return pandas.DataFrame(results[0].items(), columns=[\"Model\", \"Total Utility, Avg Investment Return\"])"
   ]
  },
  {
   "cell_type": "code",
   "execution_count": 154,
   "metadata": {
    "scrolled": true
   },
   "outputs": [
    {
     "data": {
      "text/html": [
       "<div>\n",
       "<style scoped>\n",
       "    .dataframe tbody tr th:only-of-type {\n",
       "        vertical-align: middle;\n",
       "    }\n",
       "\n",
       "    .dataframe tbody tr th {\n",
       "        vertical-align: top;\n",
       "    }\n",
       "\n",
       "    .dataframe thead th {\n",
       "        text-align: right;\n",
       "    }\n",
       "</style>\n",
       "<table border=\"1\" class=\"dataframe\">\n",
       "  <thead>\n",
       "    <tr style=\"text-align: right;\">\n",
       "      <th></th>\n",
       "      <th>Model</th>\n",
       "      <th>Total Utility, Avg Investment Return</th>\n",
       "    </tr>\n",
       "  </thead>\n",
       "  <tbody>\n",
       "    <tr>\n",
       "      <th>0</th>\n",
       "      <td>KNN</td>\n",
       "      <td>[342904.53, 8.11]</td>\n",
       "    </tr>\n",
       "    <tr>\n",
       "      <th>1</th>\n",
       "      <td>BernoulliNB</td>\n",
       "      <td>[2644012.29, 64.94]</td>\n",
       "    </tr>\n",
       "    <tr>\n",
       "      <th>2</th>\n",
       "      <td>MultinomialNB</td>\n",
       "      <td>[4477676.99, 107.81]</td>\n",
       "    </tr>\n",
       "    <tr>\n",
       "      <th>3</th>\n",
       "      <td>Log.regression</td>\n",
       "      <td>[1583650.59, 38.31]</td>\n",
       "    </tr>\n",
       "    <tr>\n",
       "      <th>4</th>\n",
       "      <td>Neural Net</td>\n",
       "      <td>[869995.86, 21.01]</td>\n",
       "    </tr>\n",
       "  </tbody>\n",
       "</table>\n",
       "</div>"
      ],
      "text/plain": [
       "            Model Total Utility, Avg Investment Return\n",
       "0             KNN                    [342904.53, 8.11]\n",
       "1     BernoulliNB                  [2644012.29, 64.94]\n",
       "2   MultinomialNB                 [4477676.99, 107.81]\n",
       "3  Log.regression                  [1583650.59, 38.31]\n",
       "4      Neural Net                   [869995.86, 21.01]"
      ]
     },
     "execution_count": 154,
     "metadata": {},
     "output_type": "execute_result"
    }
   ],
   "source": [
    "run_tests_for_all_classifiers()"
   ]
  },
  {
   "cell_type": "markdown",
   "metadata": {},
   "source": [
    "### Exp 1.1 Testing for multiple smoothing parameters <a id=\"smoothing\"></a>"
   ]
  },
  {
   "cell_type": "code",
   "execution_count": 119,
   "metadata": {},
   "outputs": [],
   "source": [
    "def test_smoothings():\n",
    "    X, encoded_f, tar = get_data(\"./data/credit/D_valid.csv\")\n",
    "    params = np.linspace(0.01, 10, 100) #[0.1, 0.5, 1.0, 10.0, 100.0] \n",
    "    models = {}\n",
    "    results = None\n",
    "    for i in params:\n",
    "        models[i] = MultinomialNB(alpha=i)\n",
    "    results,_ = run_test(models, X, encoded_f, tar)\n",
    "    return results\n",
    "    "
   ]
  },
  {
   "cell_type": "code",
   "execution_count": 120,
   "metadata": {},
   "outputs": [],
   "source": [
    "res = test_smoothings()"
   ]
  },
  {
   "cell_type": "code",
   "execution_count": 151,
   "metadata": {},
   "outputs": [
    {
     "data": {
      "text/plain": [
       "<AxesSubplot:xlabel='laplace', ylabel='utility'>"
      ]
     },
     "execution_count": 151,
     "metadata": {},
     "output_type": "execute_result"
    },
    {
     "data": {
      "image/png": "[encoded data removed]",
      "text/plain": [
       "<Figure size 432x288 with 1 Axes>"
      ]
     },
     "metadata": {
      "needs_background": "light"
     },
     "output_type": "display_data"
    }
   ],
   "source": [
    "res_formatted = {key:value[0] for key,value in res.items()}\n",
    "df = pandas.DataFrame(res_formatted.items(), columns=[\"laplace\",\"utility\"])\n",
    "df.plot.scatter(x=\"laplace\", y=\"utility\")\n"
   ]
  },
  {
   "cell_type": "markdown",
   "metadata": {},
   "source": [
    "### Results of Exp 1:"
   ]
  },
  {
   "cell_type": "markdown",
   "metadata": {},
   "source": [
    "Based on these results, we chose to keep our hypothesis H<sub>0</sub> and continue the development using the Multinomial NB model as a baseline, using the default laplace smoothing of `1.0`. Testing different smoothing parameters over time did not affect the utility.\n",
    "\n",
    "<b> Assumption 1 </b>: \n",
    "    Since the results for Multinomial NB was that much better than for KNN, we assumed that changing the amount of neighbours would not out-perform NB and decided to only test for `k=floor(sqrt(n))=31` (a common approach for K selection for KNN)\n"
   ]
  },
  {
   "cell_type": "markdown",
   "metadata": {},
   "source": [
    "## Estimating actual performance of Multinomial Naive Bayes <a id=\"actual_performance\"></a>"
   ]
  },
  {
   "cell_type": "markdown",
   "metadata": {},
   "source": [
    "It seems that Multinomial Naive Bayes is the best technique for modelling this dataset. But to get a better understanding of the span of the model, we visualize it by resampling the data retrieved from n iterations of training and testing."
   ]
  },
  {
   "cell_type": "code",
   "execution_count": 46,
   "metadata": {},
   "outputs": [],
   "source": [
    "def avg_for_n_runs(X, n, encoded_features, target, model):\n",
    "    \"\"\"\n",
    "    Compact function that fetches utility scores and averages for n runs.\n",
    "    \"\"\"\n",
    "    utis, avg = [], []\n",
    "    for _ in range(n):\n",
    "        X_tr, X_te, y_tr, y_te = train_test_split(X[encoded_features], X[target], test_size=0.2)\n",
    "        banker = model\n",
    "        banker.fit(X_tr, y_tr)\n",
    "        uti, div = test_decision_maker(X_te, y_te, interest_rate, banker)\n",
    "        utis.append(uti)\n",
    "        avg.append(div)\n",
    "    return utis, avg"
   ]
  },
  {
   "cell_type": "markdown",
   "metadata": {},
   "source": [
    "We have experimented with both the provided D_valid and D_train datasets, as they have quite different content. in the D_valid set, about 1/3 of the individuals are granted a loan, while in D_train, about 2/3 are. We are leaving the D_test set untill we feel like we are completely finished with the model development, so that we have some fundament to evaluate how well our model can generalize."
   ]
  },
  {
   "cell_type": "code",
   "execution_count": 47,
   "metadata": {},
   "outputs": [],
   "source": [
    "from sklearn.utils import resample"
   ]
  },
  {
   "cell_type": "code",
   "execution_count": 48,
   "metadata": {},
   "outputs": [],
   "source": [
    "def get_samples(dataset, model=None, info=None):\n",
    "    \"\"\"\n",
    "    Helper function to fetch resampling of a set of results. \n",
    "    \n",
    "    Args:\n",
    "        dataset (str): the name of the dataset.\n",
    "        info (tuple): A tuple of a dataset, features, and the target value name\n",
    "    Returns:\n",
    "        a list of averages of resampled results.\n",
    "    \"\"\"\n",
    "    if not info:\n",
    "        X, encoded_f, tar = get_data(f\"./data/credit/D_{dataset}.csv\")\n",
    "    else:\n",
    "        X, encoded_f, tar = info\n",
    "    n = 500\n",
    "    m = model if model is not None else AdrianSondreBanker(MultinomialNB())\n",
    "    m_uti, m_avg = avg_for_n_runs(X, n, encoded_f, tar, m)\n",
    "    m_uti = np.array(m_uti)\n",
    "    return [resample(m_uti).sum()/n for _ in range(10000)]"
   ]
  },
  {
   "cell_type": "code",
   "execution_count": 49,
   "metadata": {},
   "outputs": [],
   "source": [
    "def create_hist_for_valid():\n",
    "    \"\"\"\n",
    "    Create a histogram for the D_valid dataset.\n",
    "    \"\"\"\n",
    "    data = [round(x/1000000,3) for x in get_samples(\"valid\")]\n",
    "    plt.hist(data, bins=20)\n",
    "    plt.xlabel('utility')\n",
    "    plt.ylabel('count')\n",
    "    plt.title('Histogram of utilities - D_valid')"
   ]
  },
  {
   "cell_type": "code",
   "execution_count": 50,
   "metadata": {},
   "outputs": [
    {
     "data": {
      "image/png": "[encoded data removed]",
      "text/plain": [
       "<Figure size 432x288 with 1 Axes>"
      ]
     },
     "metadata": {
      "needs_background": "light"
     },
     "output_type": "display_data"
    }
   ],
   "source": [
    "create_hist_for_valid()"
   ]
  },
  {
   "cell_type": "markdown",
   "metadata": {},
   "source": [
    "A histogram of the total utility of our model over 500 runs, resampled 1000 times. The model is trained on the D_valid data set. There is a clear gaussian tendency of the data, with the average being around 4.8 million."
   ]
  },
  {
   "cell_type": "code",
   "execution_count": 11,
   "metadata": {},
   "outputs": [],
   "source": [
    "def create_hist_for_train():\n",
    "    \"\"\"\n",
    "    Create a histogram for the D_train dataset.\n",
    "    \"\"\"\n",
    "    data = [round(x/1000000, 3) for x in get_samples(\"train\")]\n",
    "    plt.hist(data, bins=20)\n",
    "    plt.xlabel(\"utility\")\n",
    "    plt.ylabel(\"count\")\n",
    "    plt.title(\"Histogram of utilities - D_train\")"
   ]
  },
  {
   "cell_type": "code",
   "execution_count": 22,
   "metadata": {},
   "outputs": [
    {
     "data": {
      "image/png": "[encoded data removed]",
      "text/plain": [
       "<Figure size 432x288 with 1 Axes>"
      ]
     },
     "metadata": {
      "needs_background": "light"
     },
     "output_type": "display_data"
    }
   ],
   "source": [
    "create_hist_for_train()"
   ]
  },
  {
   "cell_type": "markdown",
   "metadata": {},
   "source": [
    "A histogram like the one above, but on the D_train set The same tendencies can be found, but the numbers are likely different due to the one above due to the difference in class distributions - but we will put this to the test in the next section."
   ]
  },
  {
   "cell_type": "code",
   "execution_count": 12,
   "metadata": {},
   "outputs": [],
   "source": [
    "def create_hist_for_both():\n",
    "    \"\"\"\n",
    "    Create a histogram for both the D_valid and D_train datasets.\n",
    "    \"\"\"\n",
    "    X, encoded_f, tar = get_data(VALID_PATH)\n",
    "    X_t, _, _ = get_data(TRAIN_PATH)\n",
    "    X = pandas.concat([X, X_t])\n",
    "    data = get_samples(\"\", info=(X, encoded_f, tar))\n",
    "    plt.hist(data, bins=20)\n",
    "    plt.xlabel(\"utility\")\n",
    "    plt.ylabel(\"count\")\n",
    "    plt.title(\"Histogram of utilities - both sets\")"
   ]
  },
  {
   "cell_type": "code",
   "execution_count": 24,
   "metadata": {},
   "outputs": [
    {
     "data": {
      "image/png": "[encoded data removed]",
      "text/plain": [
       "<Figure size 432x288 with 1 Axes>"
      ]
     },
     "metadata": {
      "needs_background": "light"
     },
     "output_type": "display_data"
    }
   ],
   "source": [
    "create_hist_for_both()"
   ]
  },
  {
   "cell_type": "markdown",
   "metadata": {},
   "source": [
    "We see that the utility is increasing proportionally with the size of the dataset, meaning that the model likely does not benefit from the extra data. This might be because some of the features we are using are diffusing the generalization process. We will explore that in the following section."
   ]
  },
  {
   "cell_type": "markdown",
   "metadata": {},
   "source": [
    "## Exp 2:  Feature selection <a id=\"feature_selection\"></a>"
   ]
  },
  {
   "cell_type": "markdown",
   "metadata": {},
   "source": [
    "Next, we decided to try forward stepwise feature selection, based on the lab session by Dirk Hesse, using the baseline model."
   ]
  },
  {
   "cell_type": "code",
   "execution_count": 13,
   "metadata": {},
   "outputs": [],
   "source": [
    "from sklearn.model_selection import cross_val_score\n",
    "from random import sample"
   ]
  },
  {
   "cell_type": "markdown",
   "metadata": {},
   "source": [
    "### Feature Selection"
   ]
  },
  {
   "cell_type": "code",
   "execution_count": 14,
   "metadata": {},
   "outputs": [],
   "source": [
    "def stepwise_selection(features, target, classifier=MultinomialNB()): #Credit: Dirk's notebooks\n",
    "    \"\"\"\n",
    "    Extract the best 0 > N > 12 features from the dataset.\n",
    "    \n",
    "    Args:\n",
    "        features (pandas DataFrame): The dataset\n",
    "        target (str): The target column of the dataset\n",
    "        classifier (sklearn model): some classifier\n",
    "    Returns:\n",
    "        a list of the best scores, and a list of the best features.\n",
    "    \n",
    "    \"\"\"\n",
    "    global_best_features = []\n",
    "    global_best_scores = []\n",
    "    global_best_score = pandas.Series([0])\n",
    "    for N in range(1, 12):\n",
    "        columns = list(filter(lambda x: x != \"repaid\", features.columns))\n",
    "        columns = sample(columns, len(columns))\n",
    "        selected_features = []\n",
    "        scores = []\n",
    "        while len(selected_features) < N:\n",
    "            best_score = pandas.Series([0])\n",
    "            best_feature = None\n",
    "            for feature in columns:\n",
    "                score = cross_val_score(classifier,\n",
    "                                       features[selected_features + [feature]], features[target])\n",
    "                if score.mean() > best_score.mean():\n",
    "                    best_feature = feature\n",
    "                    best_score = score\n",
    "            columns.remove(best_feature)\n",
    "            selected_features.append(best_feature)\n",
    "            scores.append(best_score)\n",
    "        best_scores = list(sorted(scores, reverse=True, key=lambda x: x.mean()))[0]\n",
    "        if np.array(best_scores).mean() > np.array(global_best_score).mean():\n",
    "            global_best_features = selected_features \n",
    "            global_best_score = np.array(scores).mean()\n",
    "        global_best_scores.append(best_scores)\n",
    "    return global_best_scores, global_best_features"
   ]
  },
  {
   "cell_type": "code",
   "execution_count": 15,
   "metadata": {},
   "outputs": [],
   "source": [
    "def create_hist_for_stepwise(path=VALID_PATH):\n",
    "    \"\"\"\n",
    "    Create a histogram using the stepwise function.\n",
    "    \"\"\"\n",
    "    if isinstance(path, str):\n",
    "        X, encoded_f, tar = get_data(path)\n",
    "    elif isinstance(path, bool):\n",
    "        X, encoded_f, tar = get_data(VALID_PATH)\n",
    "        X_t, _, _ = get_data(TRAIN_PATH)\n",
    "        X = pandas.concat([X, X_t])\n",
    "    scores, selected_features = stepwise_selection(X, tar)\n",
    "    if \"amount\" not in selected_features:\n",
    "        selected_features = selected_features + [\"amount\"]\n",
    "    if \"duration\" not in selected_features:\n",
    "        selected_features = selected_features + [\"duration\"]\n",
    "    data = get_samples(\"\", info=(X, selected_features, tar))\n",
    "    data = [round(x/1000000,3) for x in data]\n",
    "    plt.hist(data, bins=20)\n",
    "    plt.xlabel(\"utility\")\n",
    "    plt.ylabel(\"count\")\n",
    "    plt.title(\"Histogram with selected features\")\n",
    "    return scores, selected_features"
   ]
  },
  {
   "cell_type": "code",
   "execution_count": 87,
   "metadata": {},
   "outputs": [
    {
     "data": {
      "image/png": "[encoded data removed]",
      "text/plain": [
       "<Figure size 432x288 with 1 Axes>"
      ]
     },
     "metadata": {
      "needs_background": "light"
     },
     "output_type": "display_data"
    }
   ],
   "source": [
    "scores, selected_features = create_hist_for_stepwise()"
   ]
  },
  {
   "cell_type": "markdown",
   "metadata": {},
   "source": [
    "The fewer selected features have seemingly little effect on the valid dataset, as the numbers are very similar to the above figure."
   ]
  },
  {
   "cell_type": "code",
   "execution_count": 88,
   "metadata": {},
   "outputs": [
    {
     "data": {
      "image/png": "[encoded data removed]",
      "text/plain": [
       "<Figure size 432x288 with 1 Axes>"
      ]
     },
     "metadata": {
      "needs_background": "light"
     },
     "output_type": "display_data"
    }
   ],
   "source": [
    "train_scores, train_selected_features = create_hist_for_stepwise(path=TRAIN_PATH)"
   ]
  },
  {
   "cell_type": "markdown",
   "metadata": {},
   "source": [
    "These values however are distinguishly higher than before. Using the train dataset, it would seem that higher utility is achievable by removing some of the features."
   ]
  },
  {
   "cell_type": "code",
   "execution_count": 89,
   "metadata": {},
   "outputs": [
    {
     "data": {
      "image/png": "[encoded data removed]",
      "text/plain": [
       "<Figure size 432x288 with 1 Axes>"
      ]
     },
     "metadata": {
      "needs_background": "light"
     },
     "output_type": "display_data"
    }
   ],
   "source": [
    "both_scores, both_selected_Features = create_hist_for_stepwise(path=True)"
   ]
  },
  {
   "cell_type": "markdown",
   "metadata": {},
   "source": [
    "We see that the values for both sets are very similar for both sets, albeit more concentrated around the average. It is clear that there is little extra information to extract by using both datasets."
   ]
  },
  {
   "cell_type": "markdown",
   "metadata": {},
   "source": [
    "We can plot some graphs to visualize how the model behaves when trained on different datasets:"
   ]
  },
  {
   "cell_type": "markdown",
   "metadata": {},
   "source": [
    "#### FIG 1 <a id=\"fig_1\"></a>"
   ]
  },
  {
   "cell_type": "code",
   "execution_count": 90,
   "metadata": {
    "scrolled": false
   },
   "outputs": [
    {
     "data": {
      "text/plain": [
       "[<matplotlib.lines.Line2D at 0x7f9f51c5d350>]"
      ]
     },
     "execution_count": 90,
     "metadata": {},
     "output_type": "execute_result"
    },
    {
     "data": {
      "image/png": "[encoded data removed]",
      "text/plain": [
       "<Figure size 432x288 with 1 Axes>"
      ]
     },
     "metadata": {
      "needs_background": "light"
     },
     "output_type": "display_data"
    }
   ],
   "source": [
    "# VALID SET\n",
    "plt.plot([s.mean() for s in scores])\n",
    "plt.plot([s.max() for s in scores])\n",
    "plt.plot([s.min() for s in scores])"
   ]
  },
  {
   "cell_type": "markdown",
   "metadata": {},
   "source": [
    "#### FIG 2 <a id=\"fig_2\"></a>"
   ]
  },
  {
   "cell_type": "code",
   "execution_count": 91,
   "metadata": {
    "scrolled": false
   },
   "outputs": [
    {
     "data": {
      "text/plain": [
       "[<matplotlib.lines.Line2D at 0x7f9f515c6d90>]"
      ]
     },
     "execution_count": 91,
     "metadata": {},
     "output_type": "execute_result"
    },
    {
     "data": {
      "image/png": "[encoded data removed]",
      "text/plain": [
       "<Figure size 432x288 with 1 Axes>"
      ]
     },
     "metadata": {
      "needs_background": "light"
     },
     "output_type": "display_data"
    }
   ],
   "source": [
    "# TRAIN SET\n",
    "plt.plot([s.mean() for s in train_scores])\n",
    "plt.plot([s.max() for s in train_scores])\n",
    "plt.plot([s.min() for s in train_scores])"
   ]
  },
  {
   "cell_type": "markdown",
   "metadata": {},
   "source": [
    "#### FIG 3 <a id=\"fig_3\"></a>"
   ]
  },
  {
   "cell_type": "code",
   "execution_count": 92,
   "metadata": {
    "scrolled": true
   },
   "outputs": [
    {
     "data": {
      "text/plain": [
       "[<matplotlib.lines.Line2D at 0x7f9f5224f290>]"
      ]
     },
     "execution_count": 92,
     "metadata": {},
     "output_type": "execute_result"
    },
    {
     "data": {
      "image/png": "[encoded data removed]",
      "text/plain": [
       "<Figure size 432x288 with 1 Axes>"
      ]
     },
     "metadata": {
      "needs_background": "light"
     },
     "output_type": "display_data"
    }
   ],
   "source": [
    "# BOTH SETS\n",
    "plt.plot([s.mean() for s in both_scores])\n",
    "plt.plot([s.max() for s in both_scores])\n",
    "plt.plot([s.min() for s in both_scores])"
   ]
  },
  {
   "cell_type": "markdown",
   "metadata": {},
   "source": [
    "### Results of Exp 2:"
   ]
  },
  {
   "cell_type": "markdown",
   "metadata": {},
   "source": [
    "We can see that the model is behaving differently to different amounts of features, but for most the differences between >4 and <10 are not really indicative of anything - possibly except for the model trained on the D_train-dataset in [Fig 2](#fig_2). Which is interesting, considering that it was the only model that performed better with fewer parameters. There might be a sweet spot beyond the values we tested for."
   ]
  },
  {
   "cell_type": "markdown",
   "metadata": {},
   "source": [
    "## Exp 3: Comparison with RandomBanker.py <a id=\"comparison\"></a>"
   ]
  },
  {
   "cell_type": "code",
   "execution_count": 38,
   "metadata": {},
   "outputs": [],
   "source": [
    "def run_test_single_model(X, features, target, maker):\n",
    "    res = []\n",
    "    decision_maker = maker\n",
    "    utility = 0\n",
    "    investment_return = 0\n",
    "    n_tests = 100\n",
    "    for iter in range(n_tests):\n",
    "        X_train, X_test, y_train, y_test = train_test_split(X[features], X[target], test_size=0.2)\n",
    "        decision_maker.set_interest_rate(interest_rate)\n",
    "        decision_maker.fit(X_train, y_train)\n",
    "        Ui, Ri = test_decision_maker(X_test, y_test, interest_rate, decision_maker)\n",
    "        utility += Ui\n",
    "        investment_return += Ri\n",
    "    \n",
    "    res.append(math.floor((utility / n_tests) * 100)/100.0)\n",
    "    res.append(math.floor((investment_return / n_tests) * 100)/100.0)\n",
    "    return res"
   ]
  },
  {
   "cell_type": "code",
   "execution_count": 39,
   "metadata": {},
   "outputs": [],
   "source": [
    "def compare_models():\n",
    "    comp_test = {}\n",
    "    for i in [\"train\", \"valid\", \"both\"]:\n",
    "        if i == \"train\":\n",
    "            X, features, tar = get_data(TRAIN_PATH)\n",
    "        elif i == \"valid\":\n",
    "            X, features, tar = get_data(VALID_PATH)\n",
    "        else:\n",
    "            X, features, tar = get_data(VALID_PATH)\n",
    "            X_t, _, _ = get_data(TRAIN_PATH)\n",
    "            X = pandas.concat([X, X_t])\n",
    "        comp_test[f\"Random banker_{i}\"] = run_test_single_model(X, features, tar, random_banker.RandomBanker())\n",
    "        comp_test[f\"AdrianSondreBanker_{i}\"] = run_test_single_model(X, features, tar, AdrianSondreBanker(MultinomialNB()))\n",
    "    return pandas.DataFrame(comp_test.items(), columns=[\"Model\", \"Total Utility, Avg Investment Return\"])"
   ]
  },
  {
   "cell_type": "code",
   "execution_count": 35,
   "metadata": {},
   "outputs": [],
   "source": [
    "def compare_dists():\n",
    "    data = [round(x/1000000, 3) for x in get_samples(\"train\", AdrianSondreBanker(MultinomialNB()))]\n",
    "    data_random = [round(x/1000000, 3) for x in get_samples(\"train\", random_banker.RandomBanker())]\n",
    "    plt.hist(data, bins=20, alpha=0.5, label='AdrianSondreBanker')\n",
    "    plt.hist(data_random, bins=20, alpha=0.5, label='RandomBanker')\n",
    "    plt.legend(loc='upper right')\n",
    "    plt.title(\"Distribution of utility over N=500 runs\")\n",
    "    plt.xlabel(\"Utility\")\n",
    "    plt.ylabel(\"Frequency of outcome\")   \n",
    "    plt.show()\n",
    "    "
   ]
  },
  {
   "cell_type": "code",
   "execution_count": 40,
   "metadata": {},
   "outputs": [
    {
     "data": {
      "text/html": [
       "<div>\n",
       "<style scoped>\n",
       "    .dataframe tbody tr th:only-of-type {\n",
       "        vertical-align: middle;\n",
       "    }\n",
       "\n",
       "    .dataframe tbody tr th {\n",
       "        vertical-align: top;\n",
       "    }\n",
       "\n",
       "    .dataframe thead th {\n",
       "        text-align: right;\n",
       "    }\n",
       "</style>\n",
       "<table border=\"1\" class=\"dataframe\">\n",
       "  <thead>\n",
       "    <tr style=\"text-align: right;\">\n",
       "      <th></th>\n",
       "      <th>Model</th>\n",
       "      <th>Total Utility, Avg Investment Return</th>\n",
       "    </tr>\n",
       "  </thead>\n",
       "  <tbody>\n",
       "    <tr>\n",
       "      <th>0</th>\n",
       "      <td>Random banker_train</td>\n",
       "      <td>[5114542.04, 129.35]</td>\n",
       "    </tr>\n",
       "    <tr>\n",
       "      <th>1</th>\n",
       "      <td>AdrianSondreBanker_train</td>\n",
       "      <td>[9516358.31, 233.4]</td>\n",
       "    </tr>\n",
       "    <tr>\n",
       "      <th>2</th>\n",
       "      <td>Random banker_valid</td>\n",
       "      <td>[1351951.45, 29.55]</td>\n",
       "    </tr>\n",
       "    <tr>\n",
       "      <th>3</th>\n",
       "      <td>AdrianSondreBanker_valid</td>\n",
       "      <td>[5183428.05, 128.54]</td>\n",
       "    </tr>\n",
       "    <tr>\n",
       "      <th>4</th>\n",
       "      <td>Random banker_both</td>\n",
       "      <td>[6148312.33, 152.08]</td>\n",
       "    </tr>\n",
       "    <tr>\n",
       "      <th>5</th>\n",
       "      <td>AdrianSondreBanker_both</td>\n",
       "      <td>[13657303.36, 321.43]</td>\n",
       "    </tr>\n",
       "  </tbody>\n",
       "</table>\n",
       "</div>"
      ],
      "text/plain": [
       "                      Model Total Utility, Avg Investment Return\n",
       "0       Random banker_train                 [5114542.04, 129.35]\n",
       "1  AdrianSondreBanker_train                  [9516358.31, 233.4]\n",
       "2       Random banker_valid                  [1351951.45, 29.55]\n",
       "3  AdrianSondreBanker_valid                 [5183428.05, 128.54]\n",
       "4        Random banker_both                 [6148312.33, 152.08]\n",
       "5   AdrianSondreBanker_both                [13657303.36, 321.43]"
      ]
     },
     "execution_count": 40,
     "metadata": {},
     "output_type": "execute_result"
    }
   ],
   "source": [
    "compare_models()"
   ]
  },
  {
   "cell_type": "code",
   "execution_count": 37,
   "metadata": {},
   "outputs": [
    {
     "data": {
      "image/png": "[encoded data removed]",
      "text/plain": [
       "<Figure size 432x288 with 1 Axes>"
      ]
     },
     "metadata": {
      "needs_background": "light"
     },
     "output_type": "display_data"
    }
   ],
   "source": [
    "compare_dists()"
   ]
  },
  {
   "cell_type": "markdown",
   "metadata": {},
   "source": [
    "### Results of Exp 3"
   ]
  },
  {
   "cell_type": "markdown",
   "metadata": {},
   "source": [
    "The table above shows that our model performed better than the random banker module by quite a substantial amount. From the histogram, the distribution over 500 runs are also seperated by quite a high amount of utility. We can therefore conclude that our model performs better than the RandmBanker module."
   ]
  },
  {
   "cell_type": "markdown",
   "metadata": {},
   "source": [
    "# PART 2 & 3"
   ]
  },
  {
   "cell_type": "code",
   "execution_count": 156,
   "metadata": {},
   "outputs": [],
   "source": [
    "def get_df_with_gender(df):\n",
    "    #male = 0, female = 1\n",
    "    df[\"gender\"] = np.where((df[\"marital status_2\"] + df[\"marital status_5\"] == 1), 1, 0)\n",
    "    return df\n",
    "\n",
    "def get_over_age(df):\n",
    "    #over = 1, under = 0\n",
    "    df[\"over60\"] = np.where((df[\"age\"] >= 60), 1, 0)\n",
    "    return df"
   ]
  },
  {
   "cell_type": "code",
   "execution_count": 157,
   "metadata": {},
   "outputs": [],
   "source": [
    "#Creating some baselines to use in this section\n",
    "X, encoded_features, target = get_data(TRAIN_PATH)\n",
    "X = get_df_with_gender(X)\n",
    "X = get_over_age(X)\n",
    "X_train, X_test, y_train, y_test = train_test_split(X, X[target], test_size=0.2)\n",
    "model = MultinomialNB() #use our baseline\n",
    "model.fit(X_train, y_train)\n",
    "None"
   ]
  },
  {
   "cell_type": "markdown",
   "metadata": {},
   "source": [
    "## Fairness <a id=\"fairness\"></a>"
   ]
  },
  {
   "cell_type": "markdown",
   "metadata": {},
   "source": [
    "### Sensitive variables <a id=\"fairness_sensitive\"></a>"
   ]
  },
  {
   "cell_type": "markdown",
   "metadata": {},
   "source": [
    "We identified primarily three sensitive variables in the data: gender (calculated from the marital status column), foreign worker status, and age. Ensuring that our model performs well – without discriminating on these variables – is crucial. Failing to do so might hinder its deployment. In order to more accurtaly test for disparate treatment in regard to age, we constucted a new feature out of the original data: `over60` - a binary indicating whether or not a single record was older than 60.\n",
    "\n",
    "What follows is an attempt to quantify fairness, defined here, somewhat holisticly, as sensitive variables that should not influence the predictions of the model. Then, we try to optimise our model so that we have a reasonable tradeoff between utility and fairness."
   ]
  },
  {
   "cell_type": "markdown",
   "metadata": {},
   "source": [
    "### Introducing the p-percent metric <a id=\"fairness_p\"></a>"
   ]
  },
  {
   "cell_type": "markdown",
   "metadata": {},
   "source": [
    "We wanted to quantitatively measure fairness in our model. One way to do that is through the p-percent metric (Zafar et.al, 2017):\n",
    "\n",
    "$$ p\\%score=min ( \\frac{𝑃(𝑦̂ =1|𝑧=1)}{𝑃(𝑦̂ =1|𝑧=0)}, \\frac{𝑃(𝑦̂ =1|𝑧=0)}{𝑃(𝑦̂ =1|𝑧=1)})$$ \n",
    "\n",
    "The method gives us a measure on the demographic parity of our model. We wanted the rate of positive outcomes to be equal for our sensitive variables: `gender`, `over60` and `foreign_worker2`. \n",
    "According to Zafar et.al (2017), we can say that a model satisifes the criterion of disparate treatment if the ratio between the percentage of applicants with and without the sensitive attribute is no less than 80:100 in regard to the output variable.\n",
    "\n",
    "<strong> The table below calculates the p-percent score for gender, foreign worker status and age(over 60): </strong>\n"
   ]
  },
  {
   "cell_type": "code",
   "execution_count": 158,
   "metadata": {},
   "outputs": [],
   "source": [
    "from sklego.metrics import p_percent_score"
   ]
  },
  {
   "cell_type": "code",
   "execution_count": 283,
   "metadata": {},
   "outputs": [],
   "source": [
    "def get_p_scores(features):\n",
    "    res = {}\n",
    "    for f in features:\n",
    "        p = (p_percent_score(sensitive_column=f)(model, X))\n",
    "        res[str(f)] = p\n",
    "    return res"
   ]
  },
  {
   "cell_type": "markdown",
   "metadata": {},
   "source": [
    "### Exp 4: P-Percent score for Foreign worker status, gender and age <a id=\"fairness_exp4\"></a>"
   ]
  },
  {
   "cell_type": "code",
   "execution_count": 284,
   "metadata": {
    "scrolled": false
   },
   "outputs": [
    {
     "data": {
      "text/html": [
       "<div>\n",
       "<style scoped>\n",
       "    .dataframe tbody tr th:only-of-type {\n",
       "        vertical-align: middle;\n",
       "    }\n",
       "\n",
       "    .dataframe tbody tr th {\n",
       "        vertical-align: top;\n",
       "    }\n",
       "\n",
       "    .dataframe thead th {\n",
       "        text-align: right;\n",
       "    }\n",
       "</style>\n",
       "<table border=\"1\" class=\"dataframe\">\n",
       "  <thead>\n",
       "    <tr style=\"text-align: right;\">\n",
       "      <th></th>\n",
       "      <th>Feature</th>\n",
       "      <th>P-score</th>\n",
       "    </tr>\n",
       "  </thead>\n",
       "  <tbody>\n",
       "    <tr>\n",
       "      <th>0</th>\n",
       "      <td>foreign_2</td>\n",
       "      <td>0.933807</td>\n",
       "    </tr>\n",
       "    <tr>\n",
       "      <th>1</th>\n",
       "      <td>gender</td>\n",
       "      <td>0.950722</td>\n",
       "    </tr>\n",
       "    <tr>\n",
       "      <th>2</th>\n",
       "      <td>over60</td>\n",
       "      <td>0.744538</td>\n",
       "    </tr>\n",
       "  </tbody>\n",
       "</table>\n",
       "</div>"
      ],
      "text/plain": [
       "     Feature   P-score\n",
       "0  foreign_2  0.933807\n",
       "1     gender  0.950722\n",
       "2     over60  0.744538"
      ]
     },
     "execution_count": 284,
     "metadata": {},
     "output_type": "execute_result"
    }
   ],
   "source": [
    "res = get_p_scores([\"foreign_2\",\"gender\", \"over60\"])\n",
    "df = pandas.DataFrame(res.items(), columns=[\"Feature\", \"P-score\"])\n",
    "df"
   ]
  },
  {
   "cell_type": "markdown",
   "metadata": {},
   "source": [
    "### Exp 4 Results:"
   ]
  },
  {
   "cell_type": "markdown",
   "metadata": {},
   "source": [
    "Both the foreign worker and gender feature are well above the acceptable threshold of 80%.\n",
    "The \"over60\" feature, however, failed to meet the criteria – indicating that being over 60 years of age actually influences the output of the classification, which according to our definition of fairness should not happen. Any use of this model should take this deficiency into account."
   ]
  },
  {
   "cell_type": "markdown",
   "metadata": {},
   "source": [
    "### The balance between utility and fairness <a id=\"fairness_balance\"></a>"
   ]
  },
  {
   "cell_type": "code",
   "execution_count": 70,
   "metadata": {},
   "outputs": [],
   "source": [
    "def sample_run(X, encoded_f, tar, model, n=1000):\n",
    "    m_uti, m_avg = avg_for_n_runs(X, n, encoded_f, tar, model)\n",
    "    m_uti = np.array(m_uti)\n",
    "    return [resample(m_uti).sum()/n for _ in range(10000)]    "
   ]
  },
  {
   "cell_type": "code",
   "execution_count": 88,
   "metadata": {},
   "outputs": [],
   "source": [
    "def compare_fairness(column_to_drop, gender=False):\n",
    "    X, encoded_features, target = get_data(TRAIN_PATH)\n",
    "    if gender:\n",
    "        X = get_df_with_gender(X) #need to actually create this column out of other features (marital status)\n",
    "        X_no_variable = X.copy()\n",
    "        X_no_variable.drop([column_to_drop], axis=1)\n",
    "    else:\n",
    "        X_no_variable,_,_ = get_data(TRAIN_PATH)\n",
    "        X_no_variable.drop([column_to_drop], axis=1)\n",
    "    data = [round(x/1000000, 3) for x in sample_run(X, encoded_features, target, AdrianSondreBanker(MultinomialNB()))]\n",
    "    data_no_var = [round(x/1000000, 3) for x in sample_run(X_no_variable, encoded_features, target, AdrianSondreBanker(MultinomialNB()))]\n",
    "    \n",
    "    plt.hist(data, bins=20, alpha=0.5, label='With ' + column_to_drop)\n",
    "    plt.hist(data_no_var, bins=20, alpha=0.5, label='Without ' + column_to_drop)\n",
    "    plt.legend(loc='upper right')\n",
    "    plt.title(\"Distribution of utility over N=1000 runs\")\n",
    "    plt.xlabel(\"Utility (in millions)\")\n",
    "    plt.ylabel(\"Frequency of outcome\")   \n",
    "    plt.show()"
   ]
  },
  {
   "cell_type": "markdown",
   "metadata": {},
   "source": [
    "### Exp 5: Total average utility with and without sensitive variables <a id=\"fairness_exp5\"></a>"
   ]
  },
  {
   "cell_type": "code",
   "execution_count": 89,
   "metadata": {},
   "outputs": [
    {
     "data": {
      "image/png": "[encoded data removed]",
      "text/plain": [
       "<Figure size 432x288 with 1 Axes>"
      ]
     },
     "metadata": {
      "needs_background": "light"
     },
     "output_type": "display_data"
    }
   ],
   "source": [
    "compare_fairness(\"age\")"
   ]
  },
  {
   "cell_type": "code",
   "execution_count": 90,
   "metadata": {
    "scrolled": true
   },
   "outputs": [
    {
     "data": {
      "image/png": "[encoded data removed]",
      "text/plain": [
       "<Figure size 432x288 with 1 Axes>"
      ]
     },
     "metadata": {
      "needs_background": "light"
     },
     "output_type": "display_data"
    }
   ],
   "source": [
    "compare_fairness(\"gender\", gender=True)"
   ]
  },
  {
   "cell_type": "code",
   "execution_count": 91,
   "metadata": {},
   "outputs": [
    {
     "data": {
      "image/png": "[encoded data removed]",
      "text/plain": [
       "<Figure size 432x288 with 1 Axes>"
      ]
     },
     "metadata": {
      "needs_background": "light"
     },
     "output_type": "display_data"
    }
   ],
   "source": [
    "compare_fairness(\"foreign_2\")"
   ]
  },
  {
   "cell_type": "markdown",
   "metadata": {},
   "source": [
    "### Exp 5 Results"
   ]
  },
  {
   "cell_type": "markdown",
   "metadata": {},
   "source": [
    "Overall, the probability mass of the utility distribution leans more to the left when allowed to classify based on gender, age and foreign worker status. Therefore, it might be the case that it is better overall, both in regards to utility and fairness, to disregard these variables in training and production. "
   ]
  },
  {
   "cell_type": "markdown",
   "metadata": {},
   "source": [
    "## Reproducibility and reliability <a id=\"reproduce\"></a>"
   ]
  },
  {
   "cell_type": "markdown",
   "metadata": {},
   "source": [
    "We have used multiple datasets in our modelling. It can be useful to see the differences in these datasets when trying to generalize from them. They are quite different, most significantly in the class distribution (in our code the classes (1,2) are converted to classes (1,2)):\n",
    "\n",
    "| Class | D_train | D_valid |\n",
    "|-------|---------|---------|\n",
    "|   1   |   683   |   365   |\n",
    "|   2   |   317   |   635   |\n",
    "\n",
    "The values are almost entirely inverted, but most of the other values stay relatively similar. For example, both the average amount values - 20348 in train vs 20643 in dev - are very similar. So are the numbers for average duration. \n",
    "\n",
    "For any model that allows us to generalize over new data, we have to make sacrifices in its reliability. The most prominent sacrifice in our best model, which is based on the Naive Bayes technique, is the precise fundament that allows for such a model. The core assumption of Naive Bayes is that the variables are independent, which obviously cannot hold for a datset like ours. What we do get from utilizing the technique is a very stable and reproducable model, that will generalize better (in the form of maximizing the utility, i.e. revenue) than the competing models - see results of above experiments.\n",
    "\n",
    "That being said, reproducibility and reliability are not necessarily disjoint. There are several methods that improve both aspects. For example, a utilizing kfold will allow us to see if a part of the dataset is significantly structurally different than others, and thus stop the decision boundary of the model to become skewed, but it will also allow the model to see more data, improving the reliability. Data will always be both limited and biased in some way, and generalizing perfectly will never happen in an open world. If we think that the data is too limited to learn enough from, for example in the form of an underrepresented class, we can apply bootstrapping to generate some samples from the data of the samples that we do have to get a broader fundament.\n",
    "\n",
    "As for the goal of our model, and managing the risks of it being wrong, we will have to make some assumptions. We can introduce some heuristics to make our model best fit the situation it will be used for. We can for example introduce a higher threshold for lending money, making the assumption that it is worse for a bank to lose money to someone who will default the loan, than to not make money from not lending to someone that would not have defaulted. We could implement such a threshold $\\gamma$ by applying a softmax function (or simply utilizing a Naive Bayes model) to the result of the model, and deducting $\\gamma$ from the likelyhood of the individual being classified as a valuable lender."
   ]
  },
  {
   "cell_type": "markdown",
   "metadata": {},
   "source": [
    "## Privacy <a id=\"privacy\"></a>"
   ]
  },
  {
   "cell_type": "markdown",
   "metadata": {},
   "source": [
    "Use of machine learning algorithms raises multiple privacy concerns. How can we protect the identity of the participants in the data sets we train our models on? In our case, we note that the original data is anonymised. However, it is our judgement that this data set may potentially be exploited in linkeage attacks. \n",
    "The dataset has features indicating a range of personal attributes per record; combining age, job status, foreign worker status and amound/duration may narrow a search substantially – making identification of individuals not unthinkable. \n",
    "\n",
    "<strong> In order to protect the identity of \"our\" participants, we here outline the development process of a general procedure: </strong>"
   ]
  },
  {
   "cell_type": "markdown",
   "metadata": {},
   "source": [
    "### Step 1: Randomised Response mechanism"
   ]
  },
  {
   "cell_type": "markdown",
   "metadata": {},
   "source": [
    "We here try to randomise the response for the feature \"Repaid\", as this feature could potentially incriminate an individual associated with a negative record. We start of by randomising the repaid column with a theta of `0.5`. We then present the mean of the actual values and the randomised values. After that, we show a histogram of different samples.\n",
    "\n",
    "<strong> Obs: This is also greatly inspired by Dirk's lab sessions. </strong>"
   ]
  },
  {
   "cell_type": "code",
   "execution_count": 45,
   "metadata": {},
   "outputs": [],
   "source": [
    "def randomized_response(a, theta=0.5):\n",
    "    repaids = np.random.choice([True, False], len(a), p=(theta, 1-theta))\n",
    "    response = a.copy()\n",
    "    noise = np.random.choice([0, 1], len(a))\n",
    "    response[~repaids] = noise[~repaids]\n",
    "    return response"
   ]
  },
  {
   "cell_type": "code",
   "execution_count": 157,
   "metadata": {},
   "outputs": [],
   "source": [
    "X, encoded_f, tar = get_data(VALID_PATH)\n",
    "res = {}\n",
    "data = np.asarray(X[\"repaid\"])\n",
    "# 2 == bad loan, 1 == good\n",
    "data = np.where(data == 2, 0, 1)\n",
    "res[\"actual\"] = data.mean()\n",
    "res[\"randomised\"] = randomized_response(data).mean()"
   ]
  },
  {
   "cell_type": "code",
   "execution_count": 19,
   "metadata": {},
   "outputs": [
    {
     "data": {
      "text/html": [
       "<div>\n",
       "<style scoped>\n",
       "    .dataframe tbody tr th:only-of-type {\n",
       "        vertical-align: middle;\n",
       "    }\n",
       "\n",
       "    .dataframe tbody tr th {\n",
       "        vertical-align: top;\n",
       "    }\n",
       "\n",
       "    .dataframe thead th {\n",
       "        text-align: right;\n",
       "    }\n",
       "</style>\n",
       "<table border=\"1\" class=\"dataframe\">\n",
       "  <thead>\n",
       "    <tr style=\"text-align: right;\">\n",
       "      <th></th>\n",
       "      <th>Set</th>\n",
       "      <th>Results</th>\n",
       "    </tr>\n",
       "  </thead>\n",
       "  <tbody>\n",
       "    <tr>\n",
       "      <th>0</th>\n",
       "      <td>actual</td>\n",
       "      <td>0.365</td>\n",
       "    </tr>\n",
       "    <tr>\n",
       "      <th>1</th>\n",
       "      <td>randomised</td>\n",
       "      <td>0.431</td>\n",
       "    </tr>\n",
       "  </tbody>\n",
       "</table>\n",
       "</div>"
      ],
      "text/plain": [
       "          Set  Results\n",
       "0      actual    0.365\n",
       "1  randomised    0.431"
      ]
     },
     "execution_count": 19,
     "metadata": {},
     "output_type": "execute_result"
    }
   ],
   "source": [
    "df = pandas.DataFrame(res.items(), columns=[\"Set\", \"Results\"])\n",
    "df"
   ]
  },
  {
   "cell_type": "code",
   "execution_count": 16,
   "metadata": {},
   "outputs": [],
   "source": [
    "def gen_sample(p, n=1000):\n",
    "    return np.random.choice([0, 1], 1000, p=(1-p, p))\n",
    "def show_hists(p, theta):\n",
    "    approx = [approx_p(gen_sample(p), theta) for _ in range(1000)]\n",
    "    true_v = [gen_sample(p).mean() for _ in range(1000)]\n",
    "    plt.hist(approx, bins=15, alpha=0.5, label=\"noisy dist\")\n",
    "    plt.hist(true_v, bins=15, alpha=0.5, label=\"actual dist\")\n",
    "    plt.legend()\n",
    "def approx_p(sample, theta=0.5):\n",
    "    return (randomized_response(sample, theta).mean() - (1-theta)*0.5)/theta"
   ]
  },
  {
   "cell_type": "code",
   "execution_count": 17,
   "metadata": {},
   "outputs": [
    {
     "data": {
      "image/png": "[encoded data removed]",
      "text/plain": [
       "<Figure size 432x288 with 1 Axes>"
      ]
     },
     "metadata": {
      "needs_background": "light"
     },
     "output_type": "display_data"
    }
   ],
   "source": [
    "p = approx_p(data)\n",
    "show_hists(p, 0.5)"
   ]
  },
  {
   "cell_type": "markdown",
   "metadata": {},
   "source": [
    "As one can see from the histogram, having a randomised response mechanism creates some noise around values, and one gets a more spread distribution. However, the noisy and actual distributions both have similar averages. However, since our data is extremely sensitive to a false label due to the vast differences in potential utilities, even a few wrong labels might bring the classifier from good to terrible."
   ]
  },
  {
   "cell_type": "markdown",
   "metadata": {},
   "source": [
    "### Step 2:  Outline of a $\\epsilon$ -DP rutine on the \"repaid\" column\n"
   ]
  },
  {
   "cell_type": "markdown",
   "metadata": {},
   "source": [
    "The formula for any algorithm being differentially private:"
   ]
  },
  {
   "cell_type": "markdown",
   "metadata": {},
   "source": [
    "$$\\left|\\log\\frac{\\pi(a, x)}{\\pi(a, x')}\\right| \\leq \\epsilon$$"
   ]
  },
  {
   "cell_type": "code",
   "execution_count": 119,
   "metadata": {},
   "outputs": [],
   "source": [
    "data_reg = np.asarray(data[1:10])\n",
    "data_prime = data_reg.copy()\n",
    "data_prime[-1] = 1 if data_prime[-1] == 0 else 0"
   ]
  },
  {
   "cell_type": "code",
   "execution_count": 120,
   "metadata": {},
   "outputs": [],
   "source": [
    "thetas = np.linspace(0.1, 0.5, 20)\n",
    "ratios = [\n",
    "    np.fromiter(((randomized_response(data_reg, theta) == data_reg).all() for _ in range(1000)), bool).mean() /\n",
    "    np.fromiter(((randomized_response(data_prime, theta) == data_reg).all() for _ in range(1000)), bool).mean()\n",
    "    for theta in thetas\n",
    "]"
   ]
  },
  {
   "cell_type": "code",
   "execution_count": 121,
   "metadata": {},
   "outputs": [],
   "source": [
    "%matplotlib inline"
   ]
  },
  {
   "cell_type": "code",
   "execution_count": 122,
   "metadata": {},
   "outputs": [
    {
     "data": {
      "image/png": "[encoded data removed]",
      "text/plain": [
       "<Figure size 432x288 with 1 Axes>"
      ]
     },
     "metadata": {
      "needs_background": "light"
     },
     "output_type": "display_data"
    }
   ],
   "source": [
    "plt.scatter(thetas, np.log(ratios))\n",
    "plt.xlabel(\"Thetas\")\n",
    "plt.ylabel(\"Information loss\")\n",
    "None"
   ]
  },
  {
   "cell_type": "markdown",
   "metadata": {},
   "source": [
    "# Possible Deficiencies <a id=\"discussion\"></a>"
   ]
  },
  {
   "cell_type": "markdown",
   "metadata": {},
   "source": [
    "### Overfitting"
   ]
  },
  {
   "cell_type": "markdown",
   "metadata": {},
   "source": [
    "text about the distributions of the variables."
   ]
  },
  {
   "cell_type": "markdown",
   "metadata": {},
   "source": [
    "### Weakness in the study/experiment design"
   ]
  },
  {
   "cell_type": "markdown",
   "metadata": {},
   "source": [
    "# References"
   ]
  },
  {
   "cell_type": "markdown",
   "metadata": {},
   "source": [
    "Zafar, M. B., Valera, I., Gomez-Rodriguez, M., & Gummadi, K. P. (2019). Fairness Constraints: A Flexible Approach for Fair Classification. J. Mach. Learn. Res., 20(75), 1-42."
   ]
  }
 ],
 "metadata": {
  "kernelspec": {
   "display_name": "Python 3",
   "language": "python",
   "name": "python3"
  },
  "language_info": {
   "codemirror_mode": {
    "name": "ipython",
    "version": 3
   },
   "file_extension": ".py",
   "mimetype": "text/x-python",
   "name": "python",
   "nbconvert_exporter": "python",
   "pygments_lexer": "ipython3",
   "version": "3.7.7"
  }
 },
 "nbformat": 4,
 "nbformat_minor": 4
}
