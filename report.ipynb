{
 "cells": [
  {
   "cell_type": "markdown",
   "metadata": {},
   "source": [
    "# Bank Credit\n",
    "adrianty & sondrewo"
   ]
  },
  {
   "cell_type": "markdown",
   "metadata": {},
   "source": [
    "## Table of contents:\n",
    "\n",
    "* [Implicit assumptions and discussion](#implicit_assumptions)\n",
    "* [Model Development](#model_dev)\n",
    "    * [Hypothesis and heuristics](#hypothesis)\n",
    "    * [Exp 1: Comparing different classification models](#comparing_different)    \n",
    "        - [Estimating actual performance of MultinomialNB](#actual_performance)\n",
    "    * [Exp 2: Feature Selection](#feature_selection)\n",
    "    * [Exp 3: Comparison with RandomBanker.py](#comparison) \n",
    "* [Fairness](#fairness)\n",
    "* [Reproducibility and reliability](#reproduce)\n",
    "* [Privacy](#privacy)\n",
    "\n",
    "\n",
    "   "
   ]
  },
  {
   "cell_type": "markdown",
   "metadata": {},
   "source": [
    "## Implicit assumptions of the data <a id=\"implicit_assumptions\"></a>"
   ]
  },
  {
   "cell_type": "markdown",
   "metadata": {},
   "source": [
    "The data was already labeled with some named columns in the provided TestLending script. We still decided to do some explorative testing, to see if we could use some heuristics to develop some additional understanding of the data. We found out that there were many more elements that were labelled with <em>2</em>, which is described in the documentation as <em>bad</em>, than there were those that were labelled with <em>1</em>, or <em>good</em>. Further inspection revealed that the average amount for the <em>bad</em> loans were quite a lot higher than the <em>good</em> ones. This could suggest that the data is taken from a position in time where the <em>bad</em> loans have already defaulted, and the <em>good</em> ones are in the process of being paid off.\n",
    "\n",
    "This of course would make modelling extremely difficult, as we would have to normalize the amounts for the duration remaining. This would be extremely speculative and probably not make for good generalization, so we make the assumption that this is not the case, and that the duration and amount listed are initial values."
   ]
  },
  {
   "cell_type": "markdown",
   "metadata": {},
   "source": [
    "## Model development <a id=\"model_dev\"></a>"
   ]
  },
  {
   "cell_type": "markdown",
   "metadata": {},
   "source": [
    "## Intro <a id=\"hypothesis\"></a>"
   ]
  },
  {
   "cell_type": "markdown",
   "metadata": {},
   "source": [
    "We started our model development by inspecting the different columns in the data set, identifying both numerical and discrete  features. As is well known, the Naive Bayes classifier supports catergorical features natively and can be adjusted to use numerical ones as well. Thus, we formulated the following hypothesis:\n",
    "\n",
    "<strong>H</strong><sub>0</sub> : The Multinomial Naive Bayes classifier will provide a high accuracy\n",
    "\n",
    "We then attempted to falsify this hypothesis (Exp 1) by testing out different models: Logistic regression, KNN, BernoulliNB, AdaBoost with Decision Tree and a simple multi-layered perceptron (MLP)."
   ]
  },
  {
   "cell_type": "markdown",
   "metadata": {},
   "source": [
    "## Setup"
   ]
  },
  {
   "cell_type": "code",
   "execution_count": 74,
   "metadata": {},
   "outputs": [],
   "source": [
    "class AdrianSondreBanker:\n",
    "    def __init__(self, MODEL):\n",
    "        self.model = MODEL\n",
    "    \n",
    "    def fit(self, X, y):\n",
    "        self.data = [X, y]\n",
    "        self.model.fit(X, y)\n",
    "        self.probas = []\n",
    "\n",
    "    def set_interest_rate(self, rate):\n",
    "        self.rate = rate\n",
    "        return\n",
    "\n",
    "    def predict_proba(self, x):\n",
    "        \"\"\"\n",
    "        Gets the probability distribution over two classes. \n",
    "        Reshape is done to get the result as a simple 1d array.\n",
    "        \"\"\"\n",
    "        return self.model.predict_proba(np.array(x).reshape(1, -1))[0]\n",
    "\n",
    "    def expected_utility(self, x, action):\n",
    "        \"\"\"\n",
    "        Calculates the expected utility of an individual. Uses the formula\n",
    "        \n",
    "        utility = amount_of_loan * (1 + lend_rate)^duration_of_loan - amount of loan\n",
    "        \"\"\"\n",
    "        utility = (x[\"amount\"] * ((1 + self.rate) ** x['duration'])) - x[\"amount\"]\n",
    "        \n",
    "        # Generate a utility matrix for the loan.\n",
    "        # will look like this for a utility of 100 for a loan of 20:\n",
    "        \n",
    "        #                    ___________________\n",
    "        #                   |will pay | wont pay|\n",
    "        # ------------------|---------|---------|\n",
    "        # dont give loan    |    0    |    0    |\n",
    "        #-------------------|---------|---------|\n",
    "        # do give loan      |   100   |  - 20   |\n",
    "        #----------------------------------------\n",
    "        U = np.matrix(f\"0 0; {utility} {x['amount'] * -1}\")\n",
    "\n",
    "        # get the probabilities of the classes (will pay, wont pay)\n",
    "        probs = self.predict_proba(x)\n",
    "        self.probas.append(max(probs))\n",
    "        \n",
    "        # get the index of the highest probability - 0 if wont pay, 1 if will pay\n",
    "        # repaid = np.where(probs == max(probs))\n",
    "        \n",
    "        repaid = 1 if probs[1] > .3 else 0\n",
    "        \n",
    "\n",
    "        return U[action, repaid]\n",
    "\n",
    "    def get_best_action(self, x):\n",
    "        \"\"\"\n",
    "        Decide whether to give a loan to some individual x.\n",
    "        \n",
    "        Returns:\n",
    "            the index of the highest expected utility - 0 if loan denied, 1 if loan given\n",
    "        \"\"\"\n",
    "        util = [self.expected_utility(x, a) for a in [0,1]]\n",
    "        return util.index(max(util))"
   ]
  },
  {
   "cell_type": "code",
   "execution_count": 66,
   "metadata": {},
   "outputs": [
    {
     "data": {
      "text/plain": [
       "({'NB': [23985140.45, 737.31]},\n",
       " <__main__.AdrianSondreBanker at 0x7ff43cb4b250>)"
      ]
     },
     "execution_count": 66,
     "metadata": {},
     "output_type": "execute_result"
    }
   ],
   "source": [
    "X, enc, t = get_data(TRAIN_PATH)\n",
    "X_te, _, _ = get_data(VALID_PATH)\n",
    "res = run_test({\"NB\": MultinomialNB()}, X, X_te, enc, t)\n",
    "res"
   ]
  },
  {
   "cell_type": "code",
   "execution_count": 69,
   "metadata": {},
   "outputs": [
    {
     "data": {
      "text/plain": [
       "dict_items([('NB', [23985140.45, 737.31])])"
      ]
     },
     "execution_count": 69,
     "metadata": {},
     "output_type": "execute_result"
    }
   ],
   "source": [
    "res[0].items()"
   ]
  },
  {
   "cell_type": "code",
   "execution_count": 41,
   "metadata": {},
   "outputs": [],
   "source": [
    "from sklearn.naive_bayes import MultinomialNB \n",
    "from sklearn.naive_bayes import BernoulliNB \n",
    "from sklearn.naive_bayes import GaussianNB \n",
    "from sklearn.linear_model import LogisticRegression\n",
    "from sklearn.neighbors import KNeighborsClassifier\n",
    "from sklearn.ensemble import RandomForestClassifier, AdaBoostClassifier\n",
    "from sklearn.neural_network import MLPClassifier\n",
    "import pandas\n",
    "import math\n",
    "import matplotlib.pyplot as plt\n",
    "import numpy as np\n",
    "from sklearn.model_selection import train_test_split\n",
    "import random_banker\n",
    "%matplotlib inline"
   ]
  },
  {
   "cell_type": "code",
   "execution_count": 42,
   "metadata": {},
   "outputs": [],
   "source": [
    "VALID_PATH = \"./data/credit/D_valid.csv\"\n",
    "TRAIN_PATH = \"./data/credit/D_train.csv\"\n",
    "TEST_PATH = \"./data/credit/D_test.csv\"\n",
    "interest_rate = 0.017\n",
    "\n",
    "def get_data(path):\n",
    "    \"\"\"\n",
    "    Fetches a dataset with the desirable features. Discussion on the \n",
    "    different datasets can be found below.\n",
    "    \"\"\"\n",
    "    features = ['checking account balance', 'duration', 'credit history',\n",
    "                'purpose', 'amount', 'savings', 'employment', 'installment',\n",
    "                'marital status', 'other debtors', 'residence time',\n",
    "                'property', 'age', 'other installments', 'housing', 'credits',\n",
    "                'job', 'persons', 'phone', 'foreign']\n",
    "    target = 'repaid'\n",
    "\n",
    "    df = pandas.read_csv(path, sep=' ',\n",
    "                         names=features+[target])\n",
    "    numerical_features = ['duration', 'age', 'residence time', 'installment', 'amount', 'persons', 'credits']\n",
    "    quantitative_features = list(filter(lambda x: x not in numerical_features, features))\n",
    "    X = pandas.get_dummies(df, columns=quantitative_features, drop_first=True)\n",
    "    encoded_features = list(filter(lambda x: x != target, X.columns))\n",
    "    return X, encoded_features, target"
   ]
  },
  {
   "cell_type": "code",
   "execution_count": 43,
   "metadata": {},
   "outputs": [],
   "source": [
    "def test_decision_maker(X_test, y_test, interest_rate, decision_maker):\n",
    "    \"\"\"\n",
    "    Default standard test - copied from TestLending.py\n",
    "    \"\"\"\n",
    "    n_test_examples = len(X_test)\n",
    "    utility = 0\n",
    "\n",
    "    ## Example test function - this is only an unbiased test if the data has not been seen in training\n",
    "    total_amount = 0\n",
    "    total_utility = 0\n",
    "    decision_maker.set_interest_rate(interest_rate)\n",
    "    for t in range(n_test_examples):\n",
    "        action = decision_maker.get_best_action(X_test.iloc[t])\n",
    "        good_loan = y_test.iloc[t] # assume the labels are correct\n",
    "        duration = X_test['duration'].iloc[t]\n",
    "        amount = X_test['amount'].iloc[t]\n",
    "        # If we don't grant the loan then nothing happens\n",
    "        if (action==1):\n",
    "            if (good_loan != 1):\n",
    "                utility -= amount\n",
    "            else:\n",
    "                utility += amount*(pow(1 + interest_rate, duration) - 1)\n",
    "        total_utility += utility\n",
    "        total_amount += amount\n",
    "    return utility, total_utility/total_amount"
   ]
  },
  {
   "cell_type": "code",
   "execution_count": 76,
   "metadata": {},
   "outputs": [],
   "source": [
    "### Do a number of preliminary tests by splitting the data in parts\n",
    "def run_test(models, X_tr, X_te, encoded_features, target):\n",
    "    '''\n",
    "    Default testing of a (or multiple) model(s), mostly taken from TestLending.py\n",
    "    \n",
    "    args:\n",
    "        models (dict): dictionary of models to test on. key=str (name of model), value=model\n",
    "    returns:\n",
    "        results: dictionary of the total utility and avg investment return per n, per model\n",
    "    '''\n",
    "    results = {}\n",
    "    n_tests = 100\n",
    "    for name, model in models.items():\n",
    "        decision_maker = AdrianSondreBanker(model)\n",
    "        utility = 0\n",
    "        investment_return = 0\n",
    "        for iter in range(n_tests):\n",
    "            decision_maker.set_interest_rate(interest_rate)\n",
    "            decision_maker.fit(X_tr[encoded_features], X_tr[target])\n",
    "            Ui, Ri = test_decision_maker(X_te[encoded_features], X_te[target], interest_rate, decision_maker)\n",
    "            utility += Ui\n",
    "            investment_return += Ri\n",
    "        print(\"probas for \", name)\n",
    "        print(np.percentile(decision_maker.probas, [2.5, 10, 25, 50, 75, 90, 97.5]))\n",
    "        results[name] = [math.floor((utility / n_tests) * 100)/100.0, math.floor((investment_return / n_tests) * 100)/100.0]\n",
    "    return results, decision_maker"
   ]
  },
  {
   "cell_type": "code",
   "execution_count": 71,
   "metadata": {},
   "outputs": [],
   "source": [
    "?np.percentile"
   ]
  },
  {
   "cell_type": "code",
   "execution_count": 240,
   "metadata": {},
   "outputs": [],
   "source": [
    "X, enc, tar = get_data(VALID_PATH)\n",
    "X_tr, X_te, y_tr, y_te = train_test_split(X[enc], X[tar])\n",
    "mod = LogisticRegression(max_iter=1000, class_weight={1:.65, 2:.35})\n",
    "mod.fit(X_tr, y_tr)\n",
    "log_scores = mod.predict(X_te)"
   ]
  },
  {
   "cell_type": "code",
   "execution_count": 200,
   "metadata": {},
   "outputs": [
    {
     "name": "stdout",
     "output_type": "stream",
     "text": [
      "              precision    recall  f1-score   support\n",
      "\n",
      "           1       0.46      0.65      0.54        80\n",
      "           2       0.79      0.64      0.71       170\n",
      "\n",
      "    accuracy                           0.64       250\n",
      "   macro avg       0.63      0.64      0.62       250\n",
      "weighted avg       0.69      0.64      0.65       250\n",
      "\n"
     ]
    }
   ],
   "source": [
    "from sklearn.metrics import classification_report\n",
    "\n",
    "print(classification_report(y_te, scores))"
   ]
  },
  {
   "cell_type": "code",
   "execution_count": null,
   "metadata": {},
   "outputs": [
    {
     "name": "stderr",
     "output_type": "stream",
     "text": [
      "/home/adrian/.local/lib/python3.7/site-packages/sklearn/linear_model/_logistic.py:764: ConvergenceWarning: lbfgs failed to converge (status=1):\n",
      "STOP: TOTAL NO. of ITERATIONS REACHED LIMIT.\n",
      "\n",
      "Increase the number of iterations (max_iter) or scale the data as shown in:\n",
      "    https://scikit-learn.org/stable/modules/preprocessing.html\n",
      "Please also refer to the documentation for alternative solver options:\n",
      "    https://scikit-learn.org/stable/modules/linear_model.html#logistic-regression\n",
      "  extra_warning_msg=_LOGISTIC_SOLVER_CONVERGENCE_MSG)\n",
      "/home/adrian/.local/lib/python3.7/site-packages/sklearn/linear_model/_logistic.py:764: ConvergenceWarning: lbfgs failed to converge (status=1):\n",
      "STOP: TOTAL NO. of ITERATIONS REACHED LIMIT.\n",
      "\n",
      "Increase the number of iterations (max_iter) or scale the data as shown in:\n",
      "    https://scikit-learn.org/stable/modules/preprocessing.html\n",
      "Please also refer to the documentation for alternative solver options:\n",
      "    https://scikit-learn.org/stable/modules/linear_model.html#logistic-regression\n",
      "  extra_warning_msg=_LOGISTIC_SOLVER_CONVERGENCE_MSG)\n",
      "/home/adrian/.local/lib/python3.7/site-packages/sklearn/linear_model/_logistic.py:764: ConvergenceWarning: lbfgs failed to converge (status=1):\n",
      "STOP: TOTAL NO. of ITERATIONS REACHED LIMIT.\n",
      "\n",
      "Increase the number of iterations (max_iter) or scale the data as shown in:\n",
      "    https://scikit-learn.org/stable/modules/preprocessing.html\n",
      "Please also refer to the documentation for alternative solver options:\n",
      "    https://scikit-learn.org/stable/modules/linear_model.html#logistic-regression\n",
      "  extra_warning_msg=_LOGISTIC_SOLVER_CONVERGENCE_MSG)\n",
      "/home/adrian/.local/lib/python3.7/site-packages/sklearn/linear_model/_logistic.py:764: ConvergenceWarning: lbfgs failed to converge (status=1):\n",
      "STOP: TOTAL NO. of ITERATIONS REACHED LIMIT.\n",
      "\n",
      "Increase the number of iterations (max_iter) or scale the data as shown in:\n",
      "    https://scikit-learn.org/stable/modules/preprocessing.html\n",
      "Please also refer to the documentation for alternative solver options:\n",
      "    https://scikit-learn.org/stable/modules/linear_model.html#logistic-regression\n",
      "  extra_warning_msg=_LOGISTIC_SOLVER_CONVERGENCE_MSG)\n",
      "/home/adrian/.local/lib/python3.7/site-packages/sklearn/linear_model/_logistic.py:764: ConvergenceWarning: lbfgs failed to converge (status=1):\n",
      "STOP: TOTAL NO. of ITERATIONS REACHED LIMIT.\n",
      "\n",
      "Increase the number of iterations (max_iter) or scale the data as shown in:\n",
      "    https://scikit-learn.org/stable/modules/preprocessing.html\n",
      "Please also refer to the documentation for alternative solver options:\n",
      "    https://scikit-learn.org/stable/modules/linear_model.html#logistic-regression\n",
      "  extra_warning_msg=_LOGISTIC_SOLVER_CONVERGENCE_MSG)\n",
      "/home/adrian/.local/lib/python3.7/site-packages/sklearn/linear_model/_logistic.py:764: ConvergenceWarning: lbfgs failed to converge (status=1):\n",
      "STOP: TOTAL NO. of ITERATIONS REACHED LIMIT.\n",
      "\n",
      "Increase the number of iterations (max_iter) or scale the data as shown in:\n",
      "    https://scikit-learn.org/stable/modules/preprocessing.html\n",
      "Please also refer to the documentation for alternative solver options:\n",
      "    https://scikit-learn.org/stable/modules/linear_model.html#logistic-regression\n",
      "  extra_warning_msg=_LOGISTIC_SOLVER_CONVERGENCE_MSG)\n",
      "/home/adrian/.local/lib/python3.7/site-packages/sklearn/linear_model/_logistic.py:764: ConvergenceWarning: lbfgs failed to converge (status=1):\n",
      "STOP: TOTAL NO. of ITERATIONS REACHED LIMIT.\n",
      "\n",
      "Increase the number of iterations (max_iter) or scale the data as shown in:\n",
      "    https://scikit-learn.org/stable/modules/preprocessing.html\n",
      "Please also refer to the documentation for alternative solver options:\n",
      "    https://scikit-learn.org/stable/modules/linear_model.html#logistic-regression\n",
      "  extra_warning_msg=_LOGISTIC_SOLVER_CONVERGENCE_MSG)\n",
      "/home/adrian/.local/lib/python3.7/site-packages/sklearn/linear_model/_logistic.py:764: ConvergenceWarning: lbfgs failed to converge (status=1):\n",
      "STOP: TOTAL NO. of ITERATIONS REACHED LIMIT.\n",
      "\n",
      "Increase the number of iterations (max_iter) or scale the data as shown in:\n",
      "    https://scikit-learn.org/stable/modules/preprocessing.html\n",
      "Please also refer to the documentation for alternative solver options:\n",
      "    https://scikit-learn.org/stable/modules/linear_model.html#logistic-regression\n",
      "  extra_warning_msg=_LOGISTIC_SOLVER_CONVERGENCE_MSG)\n",
      "/home/adrian/.local/lib/python3.7/site-packages/sklearn/linear_model/_logistic.py:764: ConvergenceWarning: lbfgs failed to converge (status=1):\n",
      "STOP: TOTAL NO. of ITERATIONS REACHED LIMIT.\n",
      "\n",
      "Increase the number of iterations (max_iter) or scale the data as shown in:\n",
      "    https://scikit-learn.org/stable/modules/preprocessing.html\n",
      "Please also refer to the documentation for alternative solver options:\n",
      "    https://scikit-learn.org/stable/modules/linear_model.html#logistic-regression\n",
      "  extra_warning_msg=_LOGISTIC_SOLVER_CONVERGENCE_MSG)\n",
      "/home/adrian/.local/lib/python3.7/site-packages/sklearn/linear_model/_logistic.py:764: ConvergenceWarning: lbfgs failed to converge (status=1):\n",
      "STOP: TOTAL NO. of ITERATIONS REACHED LIMIT.\n",
      "\n",
      "Increase the number of iterations (max_iter) or scale the data as shown in:\n",
      "    https://scikit-learn.org/stable/modules/preprocessing.html\n",
      "Please also refer to the documentation for alternative solver options:\n",
      "    https://scikit-learn.org/stable/modules/linear_model.html#logistic-regression\n",
      "  extra_warning_msg=_LOGISTIC_SOLVER_CONVERGENCE_MSG)\n",
      "/home/adrian/.local/lib/python3.7/site-packages/sklearn/linear_model/_logistic.py:764: ConvergenceWarning: lbfgs failed to converge (status=1):\n",
      "STOP: TOTAL NO. of ITERATIONS REACHED LIMIT.\n",
      "\n",
      "Increase the number of iterations (max_iter) or scale the data as shown in:\n",
      "    https://scikit-learn.org/stable/modules/preprocessing.html\n",
      "Please also refer to the documentation for alternative solver options:\n",
      "    https://scikit-learn.org/stable/modules/linear_model.html#logistic-regression\n",
      "  extra_warning_msg=_LOGISTIC_SOLVER_CONVERGENCE_MSG)\n",
      "/home/adrian/.local/lib/python3.7/site-packages/sklearn/linear_model/_logistic.py:764: ConvergenceWarning: lbfgs failed to converge (status=1):\n",
      "STOP: TOTAL NO. of ITERATIONS REACHED LIMIT.\n",
      "\n",
      "Increase the number of iterations (max_iter) or scale the data as shown in:\n",
      "    https://scikit-learn.org/stable/modules/preprocessing.html\n",
      "Please also refer to the documentation for alternative solver options:\n",
      "    https://scikit-learn.org/stable/modules/linear_model.html#logistic-regression\n",
      "  extra_warning_msg=_LOGISTIC_SOLVER_CONVERGENCE_MSG)\n",
      "/home/adrian/.local/lib/python3.7/site-packages/sklearn/linear_model/_logistic.py:764: ConvergenceWarning: lbfgs failed to converge (status=1):\n",
      "STOP: TOTAL NO. of ITERATIONS REACHED LIMIT.\n",
      "\n",
      "Increase the number of iterations (max_iter) or scale the data as shown in:\n",
      "    https://scikit-learn.org/stable/modules/preprocessing.html\n",
      "Please also refer to the documentation for alternative solver options:\n",
      "    https://scikit-learn.org/stable/modules/linear_model.html#logistic-regression\n",
      "  extra_warning_msg=_LOGISTIC_SOLVER_CONVERGENCE_MSG)\n",
      "/home/adrian/.local/lib/python3.7/site-packages/sklearn/linear_model/_logistic.py:764: ConvergenceWarning: lbfgs failed to converge (status=1):\n",
      "STOP: TOTAL NO. of ITERATIONS REACHED LIMIT.\n",
      "\n",
      "Increase the number of iterations (max_iter) or scale the data as shown in:\n",
      "    https://scikit-learn.org/stable/modules/preprocessing.html\n",
      "Please also refer to the documentation for alternative solver options:\n",
      "    https://scikit-learn.org/stable/modules/linear_model.html#logistic-regression\n",
      "  extra_warning_msg=_LOGISTIC_SOLVER_CONVERGENCE_MSG)\n",
      "/home/adrian/.local/lib/python3.7/site-packages/sklearn/linear_model/_logistic.py:764: ConvergenceWarning: lbfgs failed to converge (status=1):\n",
      "STOP: TOTAL NO. of ITERATIONS REACHED LIMIT.\n",
      "\n",
      "Increase the number of iterations (max_iter) or scale the data as shown in:\n",
      "    https://scikit-learn.org/stable/modules/preprocessing.html\n",
      "Please also refer to the documentation for alternative solver options:\n",
      "    https://scikit-learn.org/stable/modules/linear_model.html#logistic-regression\n",
      "  extra_warning_msg=_LOGISTIC_SOLVER_CONVERGENCE_MSG)\n",
      "/home/adrian/.local/lib/python3.7/site-packages/sklearn/linear_model/_logistic.py:764: ConvergenceWarning: lbfgs failed to converge (status=1):\n",
      "STOP: TOTAL NO. of ITERATIONS REACHED LIMIT.\n",
      "\n",
      "Increase the number of iterations (max_iter) or scale the data as shown in:\n",
      "    https://scikit-learn.org/stable/modules/preprocessing.html\n",
      "Please also refer to the documentation for alternative solver options:\n",
      "    https://scikit-learn.org/stable/modules/linear_model.html#logistic-regression\n",
      "  extra_warning_msg=_LOGISTIC_SOLVER_CONVERGENCE_MSG)\n"
     ]
    },
    {
     "name": "stderr",
     "output_type": "stream",
     "text": [
      "/home/adrian/.local/lib/python3.7/site-packages/sklearn/linear_model/_logistic.py:764: ConvergenceWarning: lbfgs failed to converge (status=1):\n",
      "STOP: TOTAL NO. of ITERATIONS REACHED LIMIT.\n",
      "\n",
      "Increase the number of iterations (max_iter) or scale the data as shown in:\n",
      "    https://scikit-learn.org/stable/modules/preprocessing.html\n",
      "Please also refer to the documentation for alternative solver options:\n",
      "    https://scikit-learn.org/stable/modules/linear_model.html#logistic-regression\n",
      "  extra_warning_msg=_LOGISTIC_SOLVER_CONVERGENCE_MSG)\n",
      "/home/adrian/.local/lib/python3.7/site-packages/sklearn/linear_model/_logistic.py:764: ConvergenceWarning: lbfgs failed to converge (status=1):\n",
      "STOP: TOTAL NO. of ITERATIONS REACHED LIMIT.\n",
      "\n",
      "Increase the number of iterations (max_iter) or scale the data as shown in:\n",
      "    https://scikit-learn.org/stable/modules/preprocessing.html\n",
      "Please also refer to the documentation for alternative solver options:\n",
      "    https://scikit-learn.org/stable/modules/linear_model.html#logistic-regression\n",
      "  extra_warning_msg=_LOGISTIC_SOLVER_CONVERGENCE_MSG)\n",
      "/home/adrian/.local/lib/python3.7/site-packages/sklearn/linear_model/_logistic.py:764: ConvergenceWarning: lbfgs failed to converge (status=1):\n",
      "STOP: TOTAL NO. of ITERATIONS REACHED LIMIT.\n",
      "\n",
      "Increase the number of iterations (max_iter) or scale the data as shown in:\n",
      "    https://scikit-learn.org/stable/modules/preprocessing.html\n",
      "Please also refer to the documentation for alternative solver options:\n",
      "    https://scikit-learn.org/stable/modules/linear_model.html#logistic-regression\n",
      "  extra_warning_msg=_LOGISTIC_SOLVER_CONVERGENCE_MSG)\n",
      "/home/adrian/.local/lib/python3.7/site-packages/sklearn/linear_model/_logistic.py:764: ConvergenceWarning: lbfgs failed to converge (status=1):\n",
      "STOP: TOTAL NO. of ITERATIONS REACHED LIMIT.\n",
      "\n",
      "Increase the number of iterations (max_iter) or scale the data as shown in:\n",
      "    https://scikit-learn.org/stable/modules/preprocessing.html\n",
      "Please also refer to the documentation for alternative solver options:\n",
      "    https://scikit-learn.org/stable/modules/linear_model.html#logistic-regression\n",
      "  extra_warning_msg=_LOGISTIC_SOLVER_CONVERGENCE_MSG)\n",
      "/home/adrian/.local/lib/python3.7/site-packages/sklearn/linear_model/_logistic.py:764: ConvergenceWarning: lbfgs failed to converge (status=1):\n",
      "STOP: TOTAL NO. of ITERATIONS REACHED LIMIT.\n",
      "\n",
      "Increase the number of iterations (max_iter) or scale the data as shown in:\n",
      "    https://scikit-learn.org/stable/modules/preprocessing.html\n",
      "Please also refer to the documentation for alternative solver options:\n",
      "    https://scikit-learn.org/stable/modules/linear_model.html#logistic-regression\n",
      "  extra_warning_msg=_LOGISTIC_SOLVER_CONVERGENCE_MSG)\n",
      "/home/adrian/.local/lib/python3.7/site-packages/sklearn/linear_model/_logistic.py:764: ConvergenceWarning: lbfgs failed to converge (status=1):\n",
      "STOP: TOTAL NO. of ITERATIONS REACHED LIMIT.\n",
      "\n",
      "Increase the number of iterations (max_iter) or scale the data as shown in:\n",
      "    https://scikit-learn.org/stable/modules/preprocessing.html\n",
      "Please also refer to the documentation for alternative solver options:\n",
      "    https://scikit-learn.org/stable/modules/linear_model.html#logistic-regression\n",
      "  extra_warning_msg=_LOGISTIC_SOLVER_CONVERGENCE_MSG)\n",
      "/home/adrian/.local/lib/python3.7/site-packages/sklearn/linear_model/_logistic.py:764: ConvergenceWarning: lbfgs failed to converge (status=1):\n",
      "STOP: TOTAL NO. of ITERATIONS REACHED LIMIT.\n",
      "\n",
      "Increase the number of iterations (max_iter) or scale the data as shown in:\n",
      "    https://scikit-learn.org/stable/modules/preprocessing.html\n",
      "Please also refer to the documentation for alternative solver options:\n",
      "    https://scikit-learn.org/stable/modules/linear_model.html#logistic-regression\n",
      "  extra_warning_msg=_LOGISTIC_SOLVER_CONVERGENCE_MSG)\n",
      "/home/adrian/.local/lib/python3.7/site-packages/sklearn/linear_model/_logistic.py:764: ConvergenceWarning: lbfgs failed to converge (status=1):\n",
      "STOP: TOTAL NO. of ITERATIONS REACHED LIMIT.\n",
      "\n",
      "Increase the number of iterations (max_iter) or scale the data as shown in:\n",
      "    https://scikit-learn.org/stable/modules/preprocessing.html\n",
      "Please also refer to the documentation for alternative solver options:\n",
      "    https://scikit-learn.org/stable/modules/linear_model.html#logistic-regression\n",
      "  extra_warning_msg=_LOGISTIC_SOLVER_CONVERGENCE_MSG)\n",
      "/home/adrian/.local/lib/python3.7/site-packages/sklearn/linear_model/_logistic.py:764: ConvergenceWarning: lbfgs failed to converge (status=1):\n",
      "STOP: TOTAL NO. of ITERATIONS REACHED LIMIT.\n",
      "\n",
      "Increase the number of iterations (max_iter) or scale the data as shown in:\n",
      "    https://scikit-learn.org/stable/modules/preprocessing.html\n",
      "Please also refer to the documentation for alternative solver options:\n",
      "    https://scikit-learn.org/stable/modules/linear_model.html#logistic-regression\n",
      "  extra_warning_msg=_LOGISTIC_SOLVER_CONVERGENCE_MSG)\n",
      "/home/adrian/.local/lib/python3.7/site-packages/sklearn/linear_model/_logistic.py:764: ConvergenceWarning: lbfgs failed to converge (status=1):\n",
      "STOP: TOTAL NO. of ITERATIONS REACHED LIMIT.\n",
      "\n",
      "Increase the number of iterations (max_iter) or scale the data as shown in:\n",
      "    https://scikit-learn.org/stable/modules/preprocessing.html\n",
      "Please also refer to the documentation for alternative solver options:\n",
      "    https://scikit-learn.org/stable/modules/linear_model.html#logistic-regression\n",
      "  extra_warning_msg=_LOGISTIC_SOLVER_CONVERGENCE_MSG)\n",
      "/home/adrian/.local/lib/python3.7/site-packages/sklearn/linear_model/_logistic.py:764: ConvergenceWarning: lbfgs failed to converge (status=1):\n",
      "STOP: TOTAL NO. of ITERATIONS REACHED LIMIT.\n",
      "\n",
      "Increase the number of iterations (max_iter) or scale the data as shown in:\n",
      "    https://scikit-learn.org/stable/modules/preprocessing.html\n",
      "Please also refer to the documentation for alternative solver options:\n",
      "    https://scikit-learn.org/stable/modules/linear_model.html#logistic-regression\n",
      "  extra_warning_msg=_LOGISTIC_SOLVER_CONVERGENCE_MSG)\n"
     ]
    }
   ],
   "source": [
    "lspace = np.linspace(0.1,1,10)\n",
    "clfs = {\n",
    "    f\"log_{f}\":LogisticRegression(max_iter=1000, class_weight={1:f,2:t})\n",
    "    for f,t in zip(lspace, reversed(lspace))\n",
    "}\n",
    "\n",
    "\n",
    "resy = run_test(clfs, X, enc, tar)"
   ]
  },
  {
   "cell_type": "code",
   "execution_count": 248,
   "metadata": {},
   "outputs": [
    {
     "data": {
      "text/plain": [
       "({'log': [1349926.46, 29.28]}, <__main__.AdrianSondreBanker at 0x7fef47e42c90>)"
      ]
     },
     "execution_count": 248,
     "metadata": {},
     "output_type": "execute_result"
    }
   ],
   "source": [
    "from sklearn.utils.testing import ignore_warnings\n",
    "from sklearn.exceptions import ConvergenceWarning\n",
    "\n",
    "@ignore_warnings(category=ConvergenceWarning)\n",
    "def checkky():\n",
    "    return run_test({\"log\": LogisticRegression(max_iter=1000)}, X, enc, tar)\n",
    "checkky()"
   ]
  },
  {
   "cell_type": "code",
   "execution_count": 112,
   "metadata": {},
   "outputs": [
    {
     "data": {
      "text/plain": [
       "9"
      ]
     },
     "execution_count": 112,
     "metadata": {},
     "output_type": "execute_result"
    }
   ],
   "source": [
    "gender_cs = [c for c in X.columns if \"marital\" in c]\n",
    "genderless_before_preds = list(X_te[X_te[gender_cs].sum(axis=1) == 0].index)\n",
    "real_genderless_vals = X.loc[genderless_before_preds][tar]\n",
    "len(np.where(np.array(real_genderless_vals) == 1)[0])"
   ]
  },
  {
   "cell_type": "code",
   "execution_count": 113,
   "metadata": {},
   "outputs": [
    {
     "name": "stderr",
     "output_type": "stream",
     "text": [
      "/home/adrian/.local/lib/python3.7/site-packages/ipykernel_launcher.py:3: SettingWithCopyWarning: \n",
      "A value is trying to be set on a copy of a slice from a DataFrame.\n",
      "Try using .loc[row_indexer,col_indexer] = value instead\n",
      "\n",
      "See the caveats in the documentation: http://pandas.pydata.org/pandas-docs/stable/user_guide/indexing.html#returning-a-view-versus-a-copy\n",
      "  This is separate from the ipykernel package so we can avoid doing imports until\n"
     ]
    },
    {
     "data": {
      "text/plain": [
       "13"
      ]
     },
     "execution_count": 113,
     "metadata": {},
     "output_type": "execute_result"
    }
   ],
   "source": [
    "preds = mod.predict(X_te)\n",
    "bra = X_te.copy()\n",
    "bra[tar] = preds\n",
    "genderless_after_preds = list(bra[bra[gender_cs].sum(axis=1) == 0].index)\n",
    "pred_genderless_vals = bra.loc[genderless_after_preds][tar]\n",
    "len(np.where(np.array(pred_genderless_vals) == 1)[0])"
   ]
  },
  {
   "cell_type": "code",
   "execution_count": 156,
   "metadata": {},
   "outputs": [
    {
     "data": {
      "text/plain": [
       "0.392"
      ]
     },
     "execution_count": 156,
     "metadata": {},
     "output_type": "execute_result"
    }
   ],
   "source": [
    "len(np.where(np.array(y_te) == 1)[0])/len(y_te)"
   ]
  },
  {
   "cell_type": "code",
   "execution_count": 158,
   "metadata": {},
   "outputs": [
    {
     "data": {
      "text/plain": [
       "0.524"
      ]
     },
     "execution_count": 158,
     "metadata": {},
     "output_type": "execute_result"
    }
   ],
   "source": [
    "len(np.where(preds == 1)[0])/len(preds)"
   ]
  },
  {
   "cell_type": "code",
   "execution_count": 129,
   "metadata": {},
   "outputs": [],
   "source": [
    "def find_discrimination_among_genderless(n=100):\n",
    "    avg = []\n",
    "    for _ in range(n):\n",
    "        X, enc, tar = get_data(VALID_PATH)\n",
    "        X_tr, X_te, y_tr, y_te = train_test_split(X[enc], X[tar], test_size=.15)\n",
    "        mod = MultinomialNB()\n",
    "        mod.fit(X_tr, y_tr)\n",
    "        \n",
    "        gender_cs = [c for c in X.columns if \"marital\" in c]\n",
    "        genderless = list(X_te[X_te[gender_cs].sum(axis=1) == 0].index)\n",
    "        real_genderless_vals = X.loc[genderless][tar]\n",
    "        real_vals = len(np.where(np.array(real_genderless_vals) == 1)[0])\n",
    "        \n",
    "        preds = mod.predict(X_te)\n",
    "        bra = X_te.copy()\n",
    "        bra[tar] = preds\n",
    "        pred_genderless_vals = bra.loc[genderless][tar]\n",
    "        pred_vals = len(np.where(np.array(pred_genderless_vals) == 1)[0])\n",
    "        avg.append(real_vals - pred_vals)\n",
    "    return avg"
   ]
  },
  {
   "cell_type": "code",
   "execution_count": 136,
   "metadata": {},
   "outputs": [
    {
     "data": {
      "image/png": "[encoded data removed]",
      "text/plain": [
       "<Figure size 432x288 with 1 Axes>"
      ]
     },
     "metadata": {
      "needs_background": "light"
     },
     "output_type": "display_data"
    }
   ],
   "source": [
    "res = find_discrimination_among_genderless(n=3000)\n",
    "to_plot = [resample(np.array(res)).mean() for _ in range(10000)]\n",
    "plt.hist(to_plot, bins=20)\n",
    "plt.show()"
   ]
  },
  {
   "cell_type": "code",
   "execution_count": 159,
   "metadata": {},
   "outputs": [],
   "source": [
    "def find_discrimination_among_men(n=100):\n",
    "    avg = []\n",
    "    for _ in range(n):\n",
    "        X, enc, tar = get_data(VALID_PATH)\n",
    "        X_tr, X_te, y_tr, y_te = train_test_split(X[enc], X[tar], test_size=.15)\n",
    "        mod = MultinomialNB()\n",
    "        mod.fit(X_tr, y_tr)\n",
    "        \n",
    "        men_grps = (\"marital status_1\", \"marital status_3\", \"marital status_4\")\n",
    "        women_grps = (\"marital status_2\", \"marital status_5\")\n",
    "        \n",
    "        gender_cs = list(filter(lambda x: \"marital\" not in x or x in women_grps, enc))\n",
    "        genderless = list(X_te[gender_cs].index)\n",
    "        real_genderless_vals = X.loc[genderless][tar]\n",
    "        real_vals = len(np.where(np.array(real_genderless_vals) == 1)[0])\n",
    "        \n",
    "        print(\"rate of loans given:\", real_vals / len(np.array(real_genderless_vals)))\n",
    "        \n",
    "        preds = mod.predict(X_te)\n",
    "        bra = X_te.copy()\n",
    "        bra[tar] = preds\n",
    "        pred_genderless_vals = bra.loc[genderless][tar]\n",
    "        pred_vals = len(np.where(np.array(pred_genderless_vals) == 1)[0])\n",
    "        print(\"rate of loans predicted:\", pred_vals / len(np.array(pred_genderless_vals)))\n",
    "        avg.append(real_vals - pred_vals)\n",
    "    return avg"
   ]
  },
  {
   "cell_type": "code",
   "execution_count": 160,
   "metadata": {},
   "outputs": [
    {
     "name": "stdout",
     "output_type": "stream",
     "text": [
      "rate of loans given: 0.4\n",
      "rate of loans predicted: 0.4866666666666667\n",
      "rate of loans given: 0.43333333333333335\n",
      "rate of loans predicted: 0.5133333333333333\n",
      "rate of loans given: 0.3933333333333333\n",
      "rate of loans predicted: 0.52\n",
      "rate of loans given: 0.34\n",
      "rate of loans predicted: 0.4866666666666667\n",
      "rate of loans given: 0.36666666666666664\n",
      "rate of loans predicted: 0.49333333333333335\n"
     ]
    },
    {
     "data": {
      "text/plain": [
       "-17.0"
      ]
     },
     "execution_count": 160,
     "metadata": {},
     "output_type": "execute_result"
    }
   ],
   "source": [
    "men_res = find_discrimination_among_men(n=5)\n",
    "sum(men_res)/len(men_res)"
   ]
  },
  {
   "cell_type": "markdown",
   "metadata": {},
   "source": [
    "## Exp 1: Comparing different classification models: <a id=\"comparing_different\"></a>"
   ]
  },
  {
   "cell_type": "code",
   "execution_count": 27,
   "metadata": {},
   "outputs": [],
   "source": [
    "def run_tests_for_all_classifiers():\n",
    "    \"\"\"\n",
    "    Compare results from different classifiers, using the default test above.\n",
    "    \"\"\"\n",
    "    X, encoded_f, tar = get_data(TRAIN_PATH)\n",
    "    X_test, _, _ = get_data(VALID_PATH)\n",
    "    X = X.sample(len(X))\n",
    "    X_test = X_test.sample(len(X_test))\n",
    "    results = run_test({\"KNN\": KNeighborsClassifier(n_neighbors=31),\n",
    "                    \"BernoulliNB\": BernoulliNB(),\n",
    "                    \"MultinomialNB\": MultinomialNB(),\n",
    "                    \"Log.regression\": LogisticRegression(max_iter=1500),\n",
    "                    \"Neural Net\": MLPClassifier(alpha=1, max_iter=1000)}, X, X_test, encoded_f, tar)\n",
    "    return pandas.DataFrame(results[0].items(), columns=[\"Model\", \"Total Utility, Avg Investment Return\"])"
   ]
  },
  {
   "cell_type": "code",
   "execution_count": 77,
   "metadata": {
    "scrolled": true
   },
   "outputs": [
    {
     "name": "stdout",
     "output_type": "stream",
     "text": [
      "probas for  KNN\n",
      "[0.51612903 0.51612903 0.58064516 0.67741935 0.77419355 0.87096774\n",
      " 0.93548387]\n",
      "probas for  BernoulliNB\n",
      "[0.65689275 0.73199661 0.77476267 0.81865463 0.8609602  0.89516552\n",
      " 0.92070336]\n",
      "probas for  MultinomialNB\n",
      "[0.75413363 0.95174655 0.999423   0.99999976 1.         1.\n",
      " 1.        ]\n",
      "probas for  Log.regression\n",
      "[0.51900686 0.5709469  0.65164275 0.77076814 0.8644066  0.91152011\n",
      " 0.94475586]\n",
      "probas for  Neural Net\n",
      "[0.68040802 0.94913524 0.99986248 0.99999999 1.         1.\n",
      " 1.        ]\n"
     ]
    },
    {
     "data": {
      "text/html": [
       "<div>\n",
       "<style scoped>\n",
       "    .dataframe tbody tr th:only-of-type {\n",
       "        vertical-align: middle;\n",
       "    }\n",
       "\n",
       "    .dataframe tbody tr th {\n",
       "        vertical-align: top;\n",
       "    }\n",
       "\n",
       "    .dataframe thead th {\n",
       "        text-align: right;\n",
       "    }\n",
       "</style>\n",
       "<table border=\"1\" class=\"dataframe\">\n",
       "  <thead>\n",
       "    <tr style=\"text-align: right;\">\n",
       "      <th></th>\n",
       "      <th>Model</th>\n",
       "      <th>Total Utility, Avg Investment Return</th>\n",
       "    </tr>\n",
       "  </thead>\n",
       "  <tbody>\n",
       "    <tr>\n",
       "      <th>0</th>\n",
       "      <td>KNN</td>\n",
       "      <td>[5510835.42, 80.04]</td>\n",
       "    </tr>\n",
       "    <tr>\n",
       "      <th>1</th>\n",
       "      <td>BernoulliNB</td>\n",
       "      <td>[16906456.26, 515.08]</td>\n",
       "    </tr>\n",
       "    <tr>\n",
       "      <th>2</th>\n",
       "      <td>MultinomialNB</td>\n",
       "      <td>[23985140.45, 707.57]</td>\n",
       "    </tr>\n",
       "    <tr>\n",
       "      <th>3</th>\n",
       "      <td>Log.regression</td>\n",
       "      <td>[8202812.85, 131.21]</td>\n",
       "    </tr>\n",
       "    <tr>\n",
       "      <th>4</th>\n",
       "      <td>Neural Net</td>\n",
       "      <td>[10815859.01, 348.11]</td>\n",
       "    </tr>\n",
       "  </tbody>\n",
       "</table>\n",
       "</div>"
      ],
      "text/plain": [
       "            Model Total Utility, Avg Investment Return\n",
       "0             KNN                  [5510835.42, 80.04]\n",
       "1     BernoulliNB                [16906456.26, 515.08]\n",
       "2   MultinomialNB                [23985140.45, 707.57]\n",
       "3  Log.regression                 [8202812.85, 131.21]\n",
       "4      Neural Net                [10815859.01, 348.11]"
      ]
     },
     "execution_count": 77,
     "metadata": {},
     "output_type": "execute_result"
    }
   ],
   "source": [
    "run_tests_for_all_classifiers()"
   ]
  },
  {
   "cell_type": "markdown",
   "metadata": {},
   "source": [
    "### Results of Exp 1:"
   ]
  },
  {
   "cell_type": "markdown",
   "metadata": {},
   "source": [
    "Based on these results, we chose to keep our hypothesis H<sub>0</sub> and continue the development using the Multinomial NB model as a baseline.\n",
    "\n",
    "<b> Assumption 1 </b>: \n",
    "    Since the results for Multinomial NB was that much better than for KNN, we assumed that changing the amount of neighbours would not out-perform NB and decided to only test for `k=floor(sqrt(n))=31` (a common approach for K selection for KNN)\n"
   ]
  },
  {
   "cell_type": "markdown",
   "metadata": {},
   "source": [
    "## Estimating actual performance of Multinomial Naive Bayes <a id=\"actual_performance\"></a>"
   ]
  },
  {
   "cell_type": "markdown",
   "metadata": {},
   "source": [
    "It seems that Multinomial Naive Bayes is the best technique for modelling this dataset. But to get a better understanding of the span of the model, we visualize it by resampling the data retrieved from n iterations of training and testing."
   ]
  },
  {
   "cell_type": "code",
   "execution_count": 13,
   "metadata": {},
   "outputs": [],
   "source": [
    "def avg_for_n_runs(X, X_te, n, encoded_features, target):\n",
    "    \"\"\"\n",
    "    Compact function that fetches utility scores and averages for n runs.\n",
    "    \"\"\"\n",
    "    utis, avg = [], []\n",
    "    for _ in range(n):\n",
    "        banker = AdrianSondreBanker(MultinomialNB())\n",
    "        banker.fit(X[encoded_features], X[target])\n",
    "        uti, div = test_decision_maker(X_te[encoded_features], X_te[target], interest_rate, banker)\n",
    "        utis.append(uti)\n",
    "        avg.append(div)\n",
    "    return utis, avg"
   ]
  },
  {
   "cell_type": "markdown",
   "metadata": {},
   "source": [
    "We have experimented with both the provided D_valid and D_train datasets, as they have quite different content. in the D_valid set, about 1/3 of the individuals are granted a loan, while in D_train, about 2/3 are. We are leaving the D_test set untill we feel like we are completely finished with the model development, so that we have some fundament to evaluate how well our model can generalize."
   ]
  },
  {
   "cell_type": "code",
   "execution_count": 14,
   "metadata": {},
   "outputs": [],
   "source": [
    "from sklearn.utils import resample"
   ]
  },
  {
   "cell_type": "code",
   "execution_count": 29,
   "metadata": {},
   "outputs": [],
   "source": [
    "def get_samples(dataset, info=None):\n",
    "    \"\"\"\n",
    "    Helper function to fetch resampling of a set of results. \n",
    "    \n",
    "    Args:\n",
    "        dataset (str): the name of the dataset.\n",
    "        info (tuple): A tuple of a dataset, features, and the target value name\n",
    "    Returns:\n",
    "        a list of averages of resampled results.\n",
    "    \"\"\"\n",
    "    if not info:\n",
    "        X, encoded_f, tar = get_data(TRAIN_PATH)\n",
    "        X_te, _, _ = get_data(VALID_PATH)\n",
    "        X = X.sample(len(X))\n",
    "        X_te = X_te.sample(len(X_te))\n",
    "    else:\n",
    "        X, X_te, encoded_f, tar = info\n",
    "    n = 500\n",
    "    m_uti, m_avg = avg_for_n_runs(X, X_te, n, encoded_f, tar)\n",
    "    m_uti = np.array(m_uti)\n",
    "    return [resample(m_uti).sum()/n for _ in range(10000)]"
   ]
  },
  {
   "cell_type": "code",
   "execution_count": 30,
   "metadata": {},
   "outputs": [],
   "source": [
    "def create_hist_for_valid():\n",
    "    \"\"\"\n",
    "    Create a histogram for the D_valid dataset.\n",
    "    \"\"\"\n",
    "    data = [round(x/1000000,3) for x in get_samples(\"\")]\n",
    "    plt.hist(data, bins=20)\n",
    "    plt.xlabel('utility')\n",
    "    plt.ylabel('count')\n",
    "    plt.title('Histogram of utilities')"
   ]
  },
  {
   "cell_type": "code",
   "execution_count": 31,
   "metadata": {},
   "outputs": [
    {
     "data": {
      "image/png": "[encoded data removed]",
      "text/plain": [
       "<Figure size 432x288 with 1 Axes>"
      ]
     },
     "metadata": {
      "needs_background": "light"
     },
     "output_type": "display_data"
    }
   ],
   "source": [
    "create_hist_for_valid()"
   ]
  },
  {
   "cell_type": "markdown",
   "metadata": {},
   "source": [
    "A histogram of the total utility of our model over 500 runs, resampled 1000 times. The model is trained on the D_valid data set. There is a clear gaussian tendency of the data, with the average being around 4.8 million."
   ]
  },
  {
   "cell_type": "code",
   "execution_count": 34,
   "metadata": {},
   "outputs": [],
   "source": [
    "def create_hist_for_train():\n",
    "    \"\"\"\n",
    "    Create a histogram for the D_train dataset.\n",
    "    \"\"\"\n",
    "    X, enc, t = get_data(TRAIN_PATH)\n",
    "    split = int(len(X) * .15)\n",
    "    X = X.sample(len(X))\n",
    "    X_tr = X.iloc[split:]\n",
    "    X_te = X.iloc[:split]\n",
    "    data = [round(x/1000000, 3) for x in get_samples(\"\", info=(X_tr, X_te, enc, t))]\n",
    "    plt.hist(data, bins=20)\n",
    "    plt.xlabel(\"utility\")\n",
    "    plt.ylabel(\"count\")\n",
    "    plt.title(\"Histogram of utilities - D_train\")"
   ]
  },
  {
   "cell_type": "code",
   "execution_count": 35,
   "metadata": {},
   "outputs": [
    {
     "data": {
      "image/png": "[encoded data removed]",
      "text/plain": [
       "<Figure size 432x288 with 1 Axes>"
      ]
     },
     "metadata": {
      "needs_background": "light"
     },
     "output_type": "display_data"
    }
   ],
   "source": [
    "create_hist_for_train()"
   ]
  },
  {
   "cell_type": "markdown",
   "metadata": {},
   "source": [
    "A histogram like the one above, but on the D_train set The same tendencies can be found, but the numbers are likely different due to the one above due to the difference in class distributions - but we will put this to the test in the next section."
   ]
  },
  {
   "cell_type": "code",
   "execution_count": 38,
   "metadata": {},
   "outputs": [],
   "source": [
    "def create_hist_for_both():\n",
    "    \"\"\"\n",
    "    Create a histogram for both the D_valid and D_train datasets.\n",
    "    \"\"\"\n",
    "    X, encoded_f, tar = get_data(TRAIN_PATH)\n",
    "    X_t, _, _ = get_data(VALID_PATH)\n",
    "    X = pandas.concat([X, X_t])\n",
    "    data = get_samples(\"\", info=(X, X_t, encoded_f, tar))\n",
    "    plt.hist(data, bins=20)\n",
    "    plt.xlabel(\"utility\")\n",
    "    plt.ylabel(\"count\")\n",
    "    plt.title(\"Histogram of utilities - both sets\")"
   ]
  },
  {
   "cell_type": "code",
   "execution_count": 39,
   "metadata": {},
   "outputs": [
    {
     "data": {
      "image/png": "[encoded data removed]",
      "text/plain": [
       "<Figure size 432x288 with 1 Axes>"
      ]
     },
     "metadata": {
      "needs_background": "light"
     },
     "output_type": "display_data"
    }
   ],
   "source": [
    "create_hist_for_both()"
   ]
  },
  {
   "cell_type": "markdown",
   "metadata": {},
   "source": [
    "We see that the utility is increasing proportionally with the size of the dataset, meaning that the model likely does not benefit from the extra data. This might be because some of the features we are using are diffusing the generalization process. We will explore that in the following section."
   ]
  },
  {
   "cell_type": "markdown",
   "metadata": {},
   "source": [
    "## Exp 2:  Feature selection <a id=\"feature_selection\"></a>"
   ]
  },
  {
   "cell_type": "markdown",
   "metadata": {},
   "source": [
    "Next, we decided to try forward stepwise feature selection, based on the lab session by Dirk Hesse, using the baseline model."
   ]
  },
  {
   "cell_type": "code",
   "execution_count": 228,
   "metadata": {},
   "outputs": [],
   "source": [
    "from sklearn.model_selection import cross_val_score\n",
    "from random import sample"
   ]
  },
  {
   "cell_type": "markdown",
   "metadata": {},
   "source": [
    "### Feature Selection"
   ]
  },
  {
   "cell_type": "code",
   "execution_count": 229,
   "metadata": {},
   "outputs": [],
   "source": [
    "def stepwise_selection(features, target, classifier=MultinomialNB()): #Credit: Dirk's notebooks\n",
    "    \"\"\"\n",
    "    Extract the best 0 > N > 12 features from the dataset.\n",
    "    \n",
    "    Args:\n",
    "        features (pandas DataFrame): The dataset\n",
    "        target (str): The target column of the dataset\n",
    "        classifier (sklearn model): some classifier\n",
    "    Returns:\n",
    "        a list of the best scores, and a list of the best features.\n",
    "    \n",
    "    \"\"\"\n",
    "    global_best_features = []\n",
    "    global_best_scores = []\n",
    "    global_best_score = pandas.Series([0])\n",
    "    for N in range(1, 12):\n",
    "        columns = list(filter(lambda x: x != \"repaid\", features.columns))\n",
    "        columns = sample(columns, len(columns))\n",
    "        selected_features = []\n",
    "        scores = []\n",
    "        while len(selected_features) < N:\n",
    "            best_score = pandas.Series([0])\n",
    "            best_feature = None\n",
    "            for feature in columns:\n",
    "                score = cross_val_score(classifier,\n",
    "                                       features[selected_features + [feature]], features[target])\n",
    "                if score.mean() > best_score.mean():\n",
    "                    best_feature = feature\n",
    "                    best_score = score\n",
    "            columns.remove(best_feature)\n",
    "            selected_features.append(best_feature)\n",
    "            scores.append(best_score)\n",
    "        best_scores = list(sorted(scores, reverse=True, key=lambda x: x.mean()))[0]\n",
    "        if np.array(best_scores).mean() > np.array(global_best_score).mean():\n",
    "            global_best_features = selected_features \n",
    "            global_best_score = np.array(scores).mean()\n",
    "        global_best_scores.append(best_scores)\n",
    "    return global_best_scores, global_best_features"
   ]
  },
  {
   "cell_type": "code",
   "execution_count": 230,
   "metadata": {},
   "outputs": [],
   "source": [
    "def create_hist_for_stepwise(path=VALID_PATH):\n",
    "    \"\"\"\n",
    "    Create a histogram using the stepwise function.\n",
    "    \"\"\"\n",
    "    X, enc, t = get_data(TRAIN_PATH)\n",
    "    X_te, _, _ = get_data(VALID_PATH)\n",
    "    scores, selected_features = stepwise_selection(X, tar)\n",
    "    if \"amount\" not in selected_features:\n",
    "        selected_features = selected_features + [\"amount\"]\n",
    "    if \"duration\" not in selected_features:\n",
    "        selected_features = selected_features + [\"duration\"]\n",
    "    data = get_samples(\"\", info=(X, selected_features, tar))\n",
    "    data = [round(x/1000000,3) for x in data]\n",
    "    plt.hist(data, bins=20)\n",
    "    plt.xlabel(\"utility\")\n",
    "    plt.ylabel(\"count\")\n",
    "    plt.title(\"Histogram with selected features\")\n",
    "    return scores, selected_features"
   ]
  },
  {
   "cell_type": "code",
   "execution_count": 231,
   "metadata": {},
   "outputs": [
    {
     "data": {
      "image/png": "[encoded data removed]",
      "text/plain": [
       "<Figure size 432x288 with 1 Axes>"
      ]
     },
     "metadata": {
      "needs_background": "light"
     },
     "output_type": "display_data"
    }
   ],
   "source": [
    "scores, selected_features = create_hist_for_stepwise()"
   ]
  },
  {
   "cell_type": "markdown",
   "metadata": {},
   "source": [
    "The fewer selected features have seemingly little effect on the valid dataset, as the numbers are very similar to the above figure."
   ]
  },
  {
   "cell_type": "code",
   "execution_count": 232,
   "metadata": {},
   "outputs": [
    {
     "data": {
      "image/png": "[encoded data removed]",
      "text/plain": [
       "<Figure size 432x288 with 1 Axes>"
      ]
     },
     "metadata": {
      "needs_background": "light"
     },
     "output_type": "display_data"
    }
   ],
   "source": [
    "train_scores, train_selected_features = create_hist_for_stepwise(path=TRAIN_PATH)"
   ]
  },
  {
   "cell_type": "markdown",
   "metadata": {},
   "source": [
    "These values however are distinguishly higher than before. Using the train dataset, it would seem that higher utility is achievable by removing some of the features."
   ]
  },
  {
   "cell_type": "code",
   "execution_count": 233,
   "metadata": {},
   "outputs": [
    {
     "data": {
      "image/png": "[encoded data removed]",
      "text/plain": [
       "<Figure size 432x288 with 1 Axes>"
      ]
     },
     "metadata": {
      "needs_background": "light"
     },
     "output_type": "display_data"
    }
   ],
   "source": [
    "both_scores, both_selected_Features = create_hist_for_stepwise(path=True)"
   ]
  },
  {
   "cell_type": "markdown",
   "metadata": {},
   "source": [
    "We see that the values for both sets are very similar for both sets, albeit more concentrated around the average. It is clear that there is little extra information to extract by using both datasets."
   ]
  },
  {
   "cell_type": "markdown",
   "metadata": {},
   "source": [
    "We can plot some graphs to visualize how the model behaves when trained on different datasets:"
   ]
  },
  {
   "cell_type": "markdown",
   "metadata": {},
   "source": [
    "#### FIG 1 <a id=\"fig_1\"></a>"
   ]
  },
  {
   "cell_type": "code",
   "execution_count": 234,
   "metadata": {
    "scrolled": false
   },
   "outputs": [
    {
     "data": {
      "text/plain": [
       "[<matplotlib.lines.Line2D at 0x7fef8e75ee10>]"
      ]
     },
     "execution_count": 234,
     "metadata": {},
     "output_type": "execute_result"
    },
    {
     "data": {
      "image/png": "[encoded data removed]",
      "text/plain": [
       "<Figure size 432x288 with 1 Axes>"
      ]
     },
     "metadata": {
      "needs_background": "light"
     },
     "output_type": "display_data"
    }
   ],
   "source": [
    "# VALID SET\n",
    "plt.plot([s.mean() for s in scores])\n",
    "plt.plot([s.max() for s in scores])\n",
    "plt.plot([s.min() for s in scores])"
   ]
  },
  {
   "cell_type": "markdown",
   "metadata": {},
   "source": [
    "#### FIG 2 <a id=\"fig_2\"></a>"
   ]
  },
  {
   "cell_type": "code",
   "execution_count": 235,
   "metadata": {
    "scrolled": false
   },
   "outputs": [
    {
     "data": {
      "text/plain": [
       "[<matplotlib.lines.Line2D at 0x7fef8dc88450>]"
      ]
     },
     "execution_count": 235,
     "metadata": {},
     "output_type": "execute_result"
    },
    {
     "data": {
      "image/png": "[encoded data removed]",
      "text/plain": [
       "<Figure size 432x288 with 1 Axes>"
      ]
     },
     "metadata": {
      "needs_background": "light"
     },
     "output_type": "display_data"
    }
   ],
   "source": [
    "# TRAIN SET\n",
    "plt.plot([s.mean() for s in train_scores])\n",
    "plt.plot([s.max() for s in train_scores])\n",
    "plt.plot([s.min() for s in train_scores])"
   ]
  },
  {
   "cell_type": "markdown",
   "metadata": {},
   "source": [
    "#### FIG 3 <a id=\"fig_3\"></a>"
   ]
  },
  {
   "cell_type": "code",
   "execution_count": 236,
   "metadata": {
    "scrolled": true
   },
   "outputs": [
    {
     "data": {
      "text/plain": [
       "[<matplotlib.lines.Line2D at 0x7fef4674b050>]"
      ]
     },
     "execution_count": 236,
     "metadata": {},
     "output_type": "execute_result"
    },
    {
     "data": {
      "image/png": "[encoded data removed]",
      "text/plain": [
       "<Figure size 432x288 with 1 Axes>"
      ]
     },
     "metadata": {
      "needs_background": "light"
     },
     "output_type": "display_data"
    }
   ],
   "source": [
    "# BOTH SETS\n",
    "plt.plot([s.mean() for s in both_scores])\n",
    "plt.plot([s.max() for s in both_scores])\n",
    "plt.plot([s.min() for s in both_scores])"
   ]
  },
  {
   "cell_type": "markdown",
   "metadata": {},
   "source": [
    "### Results of Exp 2:"
   ]
  },
  {
   "cell_type": "markdown",
   "metadata": {},
   "source": [
    "We can see that the model is behaving differently to different amounts of features, but for most the differences between >4 and <10 are not really indicative of anything - possibly except for the model trained on the D_train-dataset in [Fig 2](#fig_2). Which is interesting, considering that it was the only model that performed better with fewer parameters. There might be a sweet spot beyond the values we tested for."
   ]
  },
  {
   "cell_type": "markdown",
   "metadata": {},
   "source": [
    "## Exp 3: Comparison with RandomBanker.py <a id=\"comparison\"></a>"
   ]
  },
  {
   "cell_type": "code",
   "execution_count": 20,
   "metadata": {},
   "outputs": [],
   "source": [
    "def run_test_single_model(X, features, target, maker):\n",
    "    res = []\n",
    "    decision_maker = maker\n",
    "    utility = 0\n",
    "    investment_return = 0\n",
    "    n_tests = 100\n",
    "    for iter in range(n_tests):\n",
    "        X_train, X_test, y_train, y_test = train_test_split(X[features], X[target], test_size=0.2)\n",
    "        decision_maker.set_interest_rate(interest_rate)\n",
    "        decision_maker.fit(X_train, y_train)\n",
    "        Ui, Ri = test_decision_maker(X_test, y_test, interest_rate, decision_maker)\n",
    "        utility += Ui\n",
    "        investment_return += Ri\n",
    "    \n",
    "    res.append(math.floor((utility / n_tests) * 100)/100.0)\n",
    "    res.append(math.floor((investment_return / n_tests) * 100)/100.0)\n",
    "    return res"
   ]
  },
  {
   "cell_type": "code",
   "execution_count": 21,
   "metadata": {},
   "outputs": [],
   "source": [
    "def compare_models():\n",
    "    comp_test = {}\n",
    "    for i in [\"train\", \"valid\", \"both\"]:\n",
    "        if i == \"train\":\n",
    "            X, features, tar = get_data(TRAIN_PATH)\n",
    "        elif i == \"valid\":\n",
    "            X, features, tar = get_data(VALID_PATH)\n",
    "        else:\n",
    "            X, features, tar = get_data(VALID_PATH)\n",
    "            X_t, _, _ = get_data(TRAIN_PATH)\n",
    "            X = pandas.concat([X, X_t])\n",
    "        comp_test[f\"Random banker_{i}\"] = run_test_single_model(X, features, tar, random_banker.RandomBanker())\n",
    "        comp_test[f\"AdrianSondreBanker_{i}\"] = run_test_single_model(X, features, tar, AdrianSondreBanker(MultinomialNB()))\n",
    "    return pandas.DataFrame(comp_test.items(), columns=[\"Model\", \"Total Utility, Avg Investment Return\"])"
   ]
  },
  {
   "cell_type": "code",
   "execution_count": 22,
   "metadata": {},
   "outputs": [
    {
     "data": {
      "text/html": [
       "<div>\n",
       "<style scoped>\n",
       "    .dataframe tbody tr th:only-of-type {\n",
       "        vertical-align: middle;\n",
       "    }\n",
       "\n",
       "    .dataframe tbody tr th {\n",
       "        vertical-align: top;\n",
       "    }\n",
       "\n",
       "    .dataframe thead th {\n",
       "        text-align: right;\n",
       "    }\n",
       "</style>\n",
       "<table border=\"1\" class=\"dataframe\">\n",
       "  <thead>\n",
       "    <tr style=\"text-align: right;\">\n",
       "      <th></th>\n",
       "      <th>Model</th>\n",
       "      <th>Total Utility, Avg Investment Return</th>\n",
       "    </tr>\n",
       "  </thead>\n",
       "  <tbody>\n",
       "    <tr>\n",
       "      <th>0</th>\n",
       "      <td>Random banker_train</td>\n",
       "      <td>[4699580.34, 111.78]</td>\n",
       "    </tr>\n",
       "    <tr>\n",
       "      <th>1</th>\n",
       "      <td>AdrianSondreBanker_train</td>\n",
       "      <td>[9196076.38, 227.89]</td>\n",
       "    </tr>\n",
       "    <tr>\n",
       "      <th>2</th>\n",
       "      <td>Random banker_valid</td>\n",
       "      <td>[1323744.09, 26.15]</td>\n",
       "    </tr>\n",
       "    <tr>\n",
       "      <th>3</th>\n",
       "      <td>AdrianSondreBanker_valid</td>\n",
       "      <td>[4463831.51, 117.92]</td>\n",
       "    </tr>\n",
       "    <tr>\n",
       "      <th>4</th>\n",
       "      <td>Random banker_both</td>\n",
       "      <td>[6178942.45, 159.19]</td>\n",
       "    </tr>\n",
       "    <tr>\n",
       "      <th>5</th>\n",
       "      <td>AdrianSondreBanker_both</td>\n",
       "      <td>[14714373.88, 336.45]</td>\n",
       "    </tr>\n",
       "  </tbody>\n",
       "</table>\n",
       "</div>"
      ],
      "text/plain": [
       "                      Model Total Utility, Avg Investment Return\n",
       "0       Random banker_train                 [4699580.34, 111.78]\n",
       "1  AdrianSondreBanker_train                 [9196076.38, 227.89]\n",
       "2       Random banker_valid                  [1323744.09, 26.15]\n",
       "3  AdrianSondreBanker_valid                 [4463831.51, 117.92]\n",
       "4        Random banker_both                 [6178942.45, 159.19]\n",
       "5   AdrianSondreBanker_both                [14714373.88, 336.45]"
      ]
     },
     "execution_count": 22,
     "metadata": {},
     "output_type": "execute_result"
    }
   ],
   "source": [
    "compare_models()"
   ]
  },
  {
   "cell_type": "markdown",
   "metadata": {},
   "source": [
    "### Results of Exp 3"
   ]
  },
  {
   "cell_type": "markdown",
   "metadata": {},
   "source": [
    "The table above shows that our model performed better than the random banker module by quite a substantial amount."
   ]
  },
  {
   "cell_type": "markdown",
   "metadata": {},
   "source": [
    "# PART 2 & 3"
   ]
  },
  {
   "cell_type": "code",
   "execution_count": 43,
   "metadata": {},
   "outputs": [],
   "source": [
    "def get_df_with_gender(df):\n",
    "    #male = 0, female = 1\n",
    "    df[\"gender\"] = np.where((df[\"marital status_2\"] + df[\"marital status_5\"] == 1), 1, 0)\n",
    "    return df"
   ]
  },
  {
   "cell_type": "code",
   "execution_count": 37,
   "metadata": {},
   "outputs": [],
   "source": [
    "#Creating some baselines to use in this section\n",
    "X, encoded_features, target = get_data(VALID_PATH)\n",
    "X = get_df_with_gender(X)\n",
    "X_train, X_test, y_train, y_test = train_test_split(X, X[target], test_size=0.2)\n",
    "model = MultinomialNB() #use our baseline\n",
    "model.fit(X_train, y_train)\n",
    "None"
   ]
  },
  {
   "cell_type": "markdown",
   "metadata": {},
   "source": [
    "## Fairness <a id=\"fairness\"></a>"
   ]
  },
  {
   "cell_type": "markdown",
   "metadata": {},
   "source": [
    "As can be seen from the bar charts below, the data is highly skewed towards males and foreign workers."
   ]
  },
  {
   "cell_type": "markdown",
   "metadata": {},
   "source": [
    "### Descriptives"
   ]
  },
  {
   "cell_type": "code",
   "execution_count": 38,
   "metadata": {},
   "outputs": [
    {
     "data": {
      "image/png": "[encoded data removed]",
      "text/plain": [
       "<Figure size 432x288 with 1 Axes>"
      ]
     },
     "metadata": {
      "needs_background": "light"
     },
     "output_type": "display_data"
    }
   ],
   "source": [
    "ax = X['gender'].value_counts().plot.bar()\n",
    "ax.set_xlabel(\"Gender (male = 0, female =1)\")\n",
    "ax.set_ylabel(\"Frequency\")\n",
    "None"
   ]
  },
  {
   "cell_type": "code",
   "execution_count": 39,
   "metadata": {},
   "outputs": [
    {
     "data": {
      "image/png": "[encoded data removed]",
      "text/plain": [
       "<Figure size 432x288 with 1 Axes>"
      ]
     },
     "metadata": {
      "needs_background": "light"
     },
     "output_type": "display_data"
    }
   ],
   "source": [
    "ax = X['foreign_2'].value_counts().plot.bar()\n",
    "ax.set_xlabel(\"Foreign worker\")\n",
    "ax.set_ylabel(\"Frequency\")\n",
    "None"
   ]
  },
  {
   "cell_type": "markdown",
   "metadata": {},
   "source": [
    "### P-percent metric"
   ]
  },
  {
   "cell_type": "markdown",
   "metadata": {},
   "source": [
    "We wanted to quantitatively measure fairness in our model. One way to do that is through the p-percent metric (Zafar et.al, 2017):\n",
    "\n",
    "$$ p\\%score=min ( \\frac{𝑃(𝑦̂ =1|𝑧=1),𝑃(𝑦̂ =1|𝑧=0)} {𝑃(𝑦̂ =1|𝑧=0),𝑃(𝑦̂ =1|𝑧=1)})$$ \n",
    "\n",
    "The method gives us a measure on the demographic parity of our model. Ee want the rate of positive outcomes to be equal for some protected/sensitive feautres, like gender and ethinicity, or in our case: foreign worker status. As seen below, when checking for the foreign worker feature in our training set, we get consistent p%-scores over 80%. So what does this mean? According to Zafar et.al (2017), we can say that the score satisifes the criterion of disparate treatment if the ratio between the percentage of applicants with the foreign worker attribute being granted a loan and the percentage of\n",
    "non-foreign workers being granted a loan is no less than 80:100, which holds. The table below calculates the p-percent score for gender and foreign worker status, both deemed as sensitive and both of which has a skewed distribution in the data.\n"
   ]
  },
  {
   "cell_type": "code",
   "execution_count": 40,
   "metadata": {},
   "outputs": [],
   "source": [
    "from sklego.metrics import p_percent_score"
   ]
  },
  {
   "cell_type": "code",
   "execution_count": 41,
   "metadata": {},
   "outputs": [],
   "source": [
    "def get_p_scores(features):\n",
    "    res = {}\n",
    "    for f in features:\n",
    "        p = (p_percent_score(sensitive_column=f)(model, X))\n",
    "        res[str(f)] = p\n",
    "    return res"
   ]
  },
  {
   "cell_type": "code",
   "execution_count": 42,
   "metadata": {},
   "outputs": [
    {
     "data": {
      "text/html": [
       "<div>\n",
       "<style scoped>\n",
       "    .dataframe tbody tr th:only-of-type {\n",
       "        vertical-align: middle;\n",
       "    }\n",
       "\n",
       "    .dataframe tbody tr th {\n",
       "        vertical-align: top;\n",
       "    }\n",
       "\n",
       "    .dataframe thead th {\n",
       "        text-align: right;\n",
       "    }\n",
       "</style>\n",
       "<table border=\"1\" class=\"dataframe\">\n",
       "  <thead>\n",
       "    <tr style=\"text-align: right;\">\n",
       "      <th></th>\n",
       "      <th>Feature</th>\n",
       "      <th>P-score</th>\n",
       "    </tr>\n",
       "  </thead>\n",
       "  <tbody>\n",
       "    <tr>\n",
       "      <th>0</th>\n",
       "      <td>gender</td>\n",
       "      <td>0.999963</td>\n",
       "    </tr>\n",
       "  </tbody>\n",
       "</table>\n",
       "</div>"
      ],
      "text/plain": [
       "  Feature   P-score\n",
       "0  gender  0.999963"
      ]
     },
     "execution_count": 42,
     "metadata": {},
     "output_type": "execute_result"
    }
   ],
   "source": [
    "res = get_p_scores([\"gender\"])\n",
    "df = pandas.DataFrame(res.items(), columns=[\"Feature\", \"P-score\"])\n",
    "df"
   ]
  },
  {
   "cell_type": "markdown",
   "metadata": {},
   "source": [
    "### Reproducibility and reliability <a id=\"reproduce\"></a>"
   ]
  },
  {
   "cell_type": "markdown",
   "metadata": {},
   "source": [
    "We have used multiple datasets in our modelling. It can be useful to see the differences in these datasets when trying to generalize from them. They are quite different, most significantly in the class distribution (in our code the classes (1,2) are converted to classes (1,2)):\n",
    "\n",
    "| Class | D_train | D_valid |\n",
    "|-------|---------|---------|\n",
    "|   1   |   683   |   365   |\n",
    "|   2   |   317   |   635   |\n",
    "\n",
    "The values are almost entirely inverted, but most of the other values stay relatively similar. For example, both the average amount values - 20348 in train vs 20643 in dev - are very similar. So are the numbers for average duration. \n",
    "\n",
    "For any model that allows us to generalize over new data, we have to make sacrifices in its reliability. The most prominent sacrifice in our best model, which is based on the Naive Bayes technique, is the precise fundament that allows for such a model. The core assumption of Naive Bayes is that the variables are independent, which obviously cannot hold for a datset like ours. What we do get from utilizing the technique is a very stable and reproducable model, that will generalize better (in the form of maximizing the utility, i.e. revenue) than the competing models - see results of above experiments.\n",
    "\n",
    "That being said, reproducibility and reliability are not necessarily disjoint. There are several methods that improve both aspects. For example, a utilizing kfold will allow us to see if a part of the dataset is significantly structurally different than others, and thus stop the decision boundary of the model to become skewed, but it will also allow the model to see more data, improving the reliability. Data will always be both limited and biased in some way, and generalizing perfectly will never happen in an open world. If we think that the data is too limited to learn enough from, for example in the form of an underrepresented class, we can apply bootstrapping to generate some samples from the data of the samples that we do have to get a broader fundament.\n",
    "\n",
    "As for the goal of our model, and managing the risks of it being wrong, we will have to make some assumptions. We can introduce some heuristics to make our model best fit the situation it will be used for. We can for example introduce a higher threshold for lending money, making the assumption that it is worse for a bank to lose money to someone who will default the loan, than to not make money from not lending to someone that would not have defaulted. We could implement such a threshold $\\gamma$ by applying a softmax function (or simply utilizing a Naive Bayes model) to the result of the model, and deducting $\\gamma$ from the likelyhood of the individual being classified as a valuable lender."
   ]
  },
  {
   "cell_type": "markdown",
   "metadata": {},
   "source": [
    "### Privacy <a id=\"privacy\"></a>"
   ]
  },
  {
   "cell_type": "markdown",
   "metadata": {},
   "source": [
    "Use of machine learning algorithms raises multiple privacy concerns. How can we protect the identity of the participants in the data sets we train our models on? In our case, we note that the original data is anonymised. However, it is our judgement that this data set may potentially be exploited in linkeage attacks. \n",
    "The dataset has features indicating a range of personal attributes per record; combining age, job status, foreign worker status and amound/duration may narrow a search substantially – making identification of individuals not unthinkable. \n",
    "\n",
    "<strong> In order to protect the identity of \"our\" participants, we here outline the development process of a general procedure: </strong>"
   ]
  },
  {
   "cell_type": "markdown",
   "metadata": {},
   "source": [
    "### Step 1: Randomised Response mechanism"
   ]
  },
  {
   "cell_type": "markdown",
   "metadata": {},
   "source": [
    "We here try to randomise the response for the feature \"Repaid\", as this feature could potentially incriminate an individual associated with a negative record. We start of by randomising the repaid column with a theta of `0.5`. We then present the mean of the actual values and the randomised values. After that, we show a histogram of different samples.\n",
    "\n",
    "<strong> Obs: This is also greatly inspired by Dirk's lab sessions. </strong>"
   ]
  },
  {
   "cell_type": "code",
   "execution_count": 45,
   "metadata": {},
   "outputs": [],
   "source": [
    "def randomized_response(a, theta=0.5):\n",
    "    repaids = np.random.choice([True, False], len(a), p=(theta, 1-theta))\n",
    "    response = a.copy()\n",
    "    noise = np.random.choice([0, 1], len(a))\n",
    "    response[~repaids] = noise[~repaids]\n",
    "    return response"
   ]
  },
  {
   "cell_type": "code",
   "execution_count": 157,
   "metadata": {},
   "outputs": [],
   "source": [
    "X, encoded_f, tar = get_data(VALID_PATH)\n",
    "res = {}\n",
    "data = np.asarray(X[\"repaid\"])\n",
    "# 2 == bad loan, 1 == good\n",
    "data = np.where(data == 2, 0, 1)\n",
    "res[\"actual\"] = data.mean()\n",
    "res[\"randomised\"] = randomized_response(data).mean()"
   ]
  },
  {
   "cell_type": "code",
   "execution_count": 19,
   "metadata": {},
   "outputs": [
    {
     "data": {
      "text/html": [
       "<div>\n",
       "<style scoped>\n",
       "    .dataframe tbody tr th:only-of-type {\n",
       "        vertical-align: middle;\n",
       "    }\n",
       "\n",
       "    .dataframe tbody tr th {\n",
       "        vertical-align: top;\n",
       "    }\n",
       "\n",
       "    .dataframe thead th {\n",
       "        text-align: right;\n",
       "    }\n",
       "</style>\n",
       "<table border=\"1\" class=\"dataframe\">\n",
       "  <thead>\n",
       "    <tr style=\"text-align: right;\">\n",
       "      <th></th>\n",
       "      <th>Set</th>\n",
       "      <th>Results</th>\n",
       "    </tr>\n",
       "  </thead>\n",
       "  <tbody>\n",
       "    <tr>\n",
       "      <th>0</th>\n",
       "      <td>actual</td>\n",
       "      <td>0.365</td>\n",
       "    </tr>\n",
       "    <tr>\n",
       "      <th>1</th>\n",
       "      <td>randomised</td>\n",
       "      <td>0.431</td>\n",
       "    </tr>\n",
       "  </tbody>\n",
       "</table>\n",
       "</div>"
      ],
      "text/plain": [
       "          Set  Results\n",
       "0      actual    0.365\n",
       "1  randomised    0.431"
      ]
     },
     "execution_count": 19,
     "metadata": {},
     "output_type": "execute_result"
    }
   ],
   "source": [
    "df = pandas.DataFrame(res.items(), columns=[\"Set\", \"Results\"])\n",
    "df"
   ]
  },
  {
   "cell_type": "code",
   "execution_count": 16,
   "metadata": {},
   "outputs": [],
   "source": [
    "def gen_sample(p, n=1000):\n",
    "    return np.random.choice([0, 1], 1000, p=(1-p, p))\n",
    "def show_hists(p, theta):\n",
    "    approx = [approx_p(gen_sample(p), theta) for _ in range(1000)]\n",
    "    true_v = [gen_sample(p).mean() for _ in range(1000)]\n",
    "    plt.hist(approx, bins=15, alpha=0.5, label=\"noisy dist\")\n",
    "    plt.hist(true_v, bins=15, alpha=0.5, label=\"actual dist\")\n",
    "    plt.legend()\n",
    "def approx_p(sample, theta=0.5):\n",
    "    return (randomized_response(sample, theta).mean() - (1-theta)*0.5)/theta"
   ]
  },
  {
   "cell_type": "code",
   "execution_count": 17,
   "metadata": {},
   "outputs": [
    {
     "data": {
      "image/png": "[encoded data removed]",
      "text/plain": [
       "<Figure size 432x288 with 1 Axes>"
      ]
     },
     "metadata": {
      "needs_background": "light"
     },
     "output_type": "display_data"
    }
   ],
   "source": [
    "p = approx_p(data)\n",
    "show_hists(p, 0.5)"
   ]
  },
  {
   "cell_type": "markdown",
   "metadata": {},
   "source": [
    "As one can see from the histogram, having a randomised response mechanism creates some noise around values, and one gets a more spread distribution. However, the noisy and actual distributions both have similar averages. However, since our data is extremely sensitive to a false label due to the vast differences in potential utilities, even a few wrong labels might bring the classifier from good to terrible."
   ]
  },
  {
   "cell_type": "markdown",
   "metadata": {},
   "source": [
    "### Step 2:  Outline of a $\\epsilon$ -DP rutine on the \"repaid\" column\n"
   ]
  },
  {
   "cell_type": "markdown",
   "metadata": {},
   "source": [
    "The formula for any algorithm being differentially private:"
   ]
  },
  {
   "cell_type": "markdown",
   "metadata": {},
   "source": [
    "$$\\left|\\log\\frac{\\pi(a, x)}{\\pi(a, x')}\\right| \\leq \\epsilon$$"
   ]
  },
  {
   "cell_type": "code",
   "execution_count": 119,
   "metadata": {},
   "outputs": [],
   "source": [
    "data_reg = np.asarray(data[1:10])\n",
    "data_prime = data_reg.copy()\n",
    "data_prime[-1] = 1 if data_prime[-1] == 0 else 0"
   ]
  },
  {
   "cell_type": "code",
   "execution_count": 120,
   "metadata": {},
   "outputs": [],
   "source": [
    "thetas = np.linspace(0.1, 0.5, 20)\n",
    "ratios = [\n",
    "    np.fromiter(((randomized_response(data_reg, theta) == data_reg).all() for _ in range(1000)), bool).mean() /\n",
    "    np.fromiter(((randomized_response(data_prime, theta) == data_reg).all() for _ in range(1000)), bool).mean()\n",
    "    for theta in thetas\n",
    "]"
   ]
  },
  {
   "cell_type": "code",
   "execution_count": 121,
   "metadata": {},
   "outputs": [],
   "source": [
    "%matplotlib inline"
   ]
  },
  {
   "cell_type": "code",
   "execution_count": 122,
   "metadata": {},
   "outputs": [
    {
     "data": {
      "image/png": "[encoded data removed]",
      "text/plain": [
       "<Figure size 432x288 with 1 Axes>"
      ]
     },
     "metadata": {
      "needs_background": "light"
     },
     "output_type": "display_data"
    }
   ],
   "source": [
    "plt.scatter(thetas, np.log(ratios))\n",
    "plt.xlabel(\"Thetas\")\n",
    "plt.ylabel(\"Information loss\")\n",
    "None"
   ]
  },
  {
   "cell_type": "markdown",
   "metadata": {},
   "source": [
    "This is mostly doodling, as we have not been able to complete this section yet."
   ]
  },
  {
   "cell_type": "code",
   "execution_count": 60,
   "metadata": {},
   "outputs": [],
   "source": [
    "def distance_is_one(x, xp):\n",
    "    \"\"\"\n",
    "    Function to measure distance between two rows in our dataset.\n",
    "    \"\"\"\n",
    "    total_differences = 0\n",
    "    for x_val, xp_val in zip(x.values, xp.values):\n",
    "        if total_differences > 1:\n",
    "            return False\n",
    "        if x_val != xp_val:\n",
    "            total_differences += 1\n",
    "    return True"
   ]
  },
  {
   "cell_type": "code",
   "execution_count": 166,
   "metadata": {},
   "outputs": [],
   "source": [
    "def cut_into_bins(X):\n",
    "    \"\"\"\n",
    "    Categorizes the numerical columns in our dataset. \n",
    "    \"\"\"\n",
    "    numerical_features = ['duration', 'age', 'residence time', 'installment', 'amount', 'persons', 'credits']\n",
    "    # bin sizes. Maybe we need to adjust bin sizes to generate neighbours\n",
    "    bins = {\n",
    "        \"duration\": 3,\n",
    "        \"age\": 3,\n",
    "        \"residence time\": 3,\n",
    "        \"amount\": 3,\n",
    "        \"installment\": 3,\n",
    "        \"persons\": 3,\n",
    "        \"credits\": 3\n",
    "    }\n",
    "    for feature in numerical_features:\n",
    "        if feature not in bins:\n",
    "            # probably small enough numbers to not bin\n",
    "            continue\n",
    "        X[feature] = pandas.cut(X[feature], bins[feature])\n",
    "    return X"
   ]
  },
  {
   "cell_type": "code",
   "execution_count": 153,
   "metadata": {},
   "outputs": [],
   "source": [
    "from itertools import combinations"
   ]
  },
  {
   "cell_type": "code",
   "execution_count": 173,
   "metadata": {},
   "outputs": [],
   "source": [
    "def get_neighbours(X):\n",
    "    \"\"\"\n",
    "    Generates combinations of all our rows, and \n",
    "    \"\"\"\n",
    "    X_binned = cut_into_bins(X)\n",
    "    neighbours_precheck = combinations([x[1] for x in X_binned.iterrows()], 2)\n",
    "    return [(x, xp) for x, xp in neighbours_precheck if distance_is_one(x, xp)]"
   ]
  },
  {
   "cell_type": "code",
   "execution_count": 174,
   "metadata": {},
   "outputs": [],
   "source": [
    "X, _, _ = get_data(TRAIN_PATH)\n",
    "neighbours = get_neighbours(X)"
   ]
  },
  {
   "cell_type": "code",
   "execution_count": 172,
   "metadata": {},
   "outputs": [
    {
     "data": {
      "text/plain": [
       "[]"
      ]
     },
     "execution_count": 172,
     "metadata": {},
     "output_type": "execute_result"
    }
   ],
   "source": [
    "neighbours"
   ]
  },
  {
   "cell_type": "markdown",
   "metadata": {},
   "source": [
    "No neighbors. Our classifier is $\\epsilon$-DP for any $\\epsilon$. Fantastic!\n",
    "\n",
    "Maybe we only need to check for neighbouring individuals in the case that some sensitive information is involved? "
   ]
  },
  {
   "cell_type": "code",
   "execution_count": null,
   "metadata": {},
   "outputs": [],
   "source": []
  },
  {
   "cell_type": "markdown",
   "metadata": {},
   "source": [
    "# References"
   ]
  },
  {
   "cell_type": "markdown",
   "metadata": {},
   "source": [
    "Zafar, M. B., Valera, I., Gomez-Rodriguez, M., & Gummadi, K. P. (2019). Fairness Constraints: A Flexible Approach for Fair Classification. J. Mach. Learn. Res., 20(75), 1-42."
   ]
  },
  {
   "cell_type": "code",
   "execution_count": null,
   "metadata": {},
   "outputs": [],
   "source": []
  }
 ],
 "metadata": {
  "kernelspec": {
   "display_name": "Python 3",
   "language": "python",
   "name": "python3"
  },
  "language_info": {
   "codemirror_mode": {
    "name": "ipython",
    "version": 3
   },
   "file_extension": ".py",
   "mimetype": "text/x-python",
   "name": "python",
   "nbconvert_exporter": "python",
   "pygments_lexer": "ipython3",
   "version": "3.7.7"
  }
 },
 "nbformat": 4,
 "nbformat_minor": 4
}
