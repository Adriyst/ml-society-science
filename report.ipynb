{
 "cells": [
  {
   "cell_type": "markdown",
   "metadata": {},
   "source": [
    "# Project 1: Bank Credit\n",
    "adrianty & sondrewo"
   ]
  },
  {
   "cell_type": "markdown",
   "metadata": {},
   "source": [
    "## Table of contents:\n",
    "\n",
    "* [Implicit assumptions and discussion](#first-bullet)\n",
    "* [Model Development](#second-bullet)\n",
    "    * [Hypothesis and heuristics](#third-bullet)\n",
    "    * [Exp 1: Comparing different classification models](#foruth-bullet)    \n",
    "    * [Exp 2: Feautre Selection](#fifth-bullet)\n",
    "    * [Exp 3: Comparison with RandomBanker.py](#fifth-bullet) \n",
    "* [Fairness](#sixth-bullet)\n",
    "* [Reproducibility and reliability](#seventh-bullet)\n",
    "* [Privacy](#eight-bullet)\n",
    "\n",
    "\n",
    "   "
   ]
  },
  {
   "cell_type": "markdown",
   "metadata": {},
   "source": [
    "## Implicit assumptions of the data"
   ]
  },
  {
   "cell_type": "markdown",
   "metadata": {},
   "source": [
    "The data was already labeled with some named columns in the provided TestLending script. We still decided to do some explorative testing, to see if we could use some heuristics to develop some additional understanding of the data. We found out that there were many more elements that were labelled with <em>2</em>, which is described in the documentation as <em>bad</em>, than there were those that were labelled with <em>1</em>, or <em>good</em>. Further inspection revealed that the average amount for the <em>bad</em> loans were quite a lot higher than the <em>good</em> ones. This could suggest that the data is taken from a position in time where the <em>bad</em> loans have already defaulted, and the <em>good</em> ones are in the process of being paid off.\n",
    "\n",
    "This of course would make modelling extremely difficult, as we would have to normalize the amounts for the duration remaining. This would be extremely speculative and probably not make for good generalization, so we make the assumption that this is not the case, and that the duration and amount listed are initial values."
   ]
  },
  {
   "cell_type": "markdown",
   "metadata": {},
   "source": [
    "## Model development"
   ]
  },
  {
   "cell_type": "markdown",
   "metadata": {},
   "source": [
    "## Intro"
   ]
  },
  {
   "cell_type": "markdown",
   "metadata": {},
   "source": [
    "We started our model development by inspecting the different columns in the data set, identifying both numerical and discrete  features. As is well known, the Naive Bayes classifier supports catergorical features natively and can be adjusted to use numerical ones as well. Thus, we formulated the following hypothesis:\n",
    "\n",
    "<strong>H</strong><sub>0</sub> : The Multinomial Naive Bayes classifier will provide a high accuracy\n",
    "\n",
    "We then attempted to falsify this hypothesis (Exp 1) by testing out different models: Logistic regression, KNN, BernoulliNB, AdaBoost with Decision Tree and a simple multi-layered perceptron (MLP)."
   ]
  },
  {
   "cell_type": "markdown",
   "metadata": {},
   "source": [
    "## Setup"
   ]
  },
  {
   "cell_type": "code",
   "execution_count": 87,
   "metadata": {},
   "outputs": [],
   "source": [
    "class NameBanker:\n",
    "    def __init__(self, MODEL):\n",
    "        self.model = MODEL\n",
    "    \n",
    "    def fit(self, X, y):\n",
    "        self.data = [X, y]\n",
    "        self.model.fit(X, y)\n",
    "\n",
    "    def set_interest_rate(self, rate):\n",
    "        self.rate = rate\n",
    "        return\n",
    "\n",
    "    def predict_proba(self, x):\n",
    "        return self.model.predict_proba(np.array(x).reshape(1, -1))[0]\n",
    "\n",
    "    def expected_utility(self, x, action):\n",
    "        \"\"\"\n",
    "        Calculates the expected utility of an individual. Uses the formula\n",
    "        \n",
    "        utility = amount_of_loan * (1 + lend_rate)^duration_of_loan\n",
    "        \"\"\"\n",
    "        utility = x[\"amount\"] * ((1 + self.rate) ** x['duration'])\n",
    "        \n",
    "        # Generate a utility matrix for the loan.\n",
    "        # will look like this for a utility of 100 for a loan of 20:\n",
    "        \n",
    "        #                    ___________________\n",
    "        #                   |will pay | wont pay|\n",
    "        # ------------------|---------|---------|\n",
    "        # dont give loan    |    0    |    0    |\n",
    "        #-------------------|---------|---------|\n",
    "        # do give loan      |   100   |  - 20   |\n",
    "        #----------------------------------------\n",
    "        U = np.matrix(f\"0 0; {utility} {x['amount'] * -1}\")\n",
    "\n",
    "        # get the probabilities of the classes (will pay, wont pay)\n",
    "        probs = self.predict_proba(x)\n",
    "        \n",
    "        # get the index of the highest probability - 0 if wont pay, 1 if will pay\n",
    "        repaid = np.where(probs == max(probs))\n",
    "\n",
    "        return U[action, repaid]\n",
    "\n",
    "    def get_best_action(self, x):\n",
    "        \"\"\"\n",
    "        Decide whether to give a loan to some individual x.\n",
    "        \n",
    "        Returns:\n",
    "            the index of the highest expected utility - 0 if loan denied, 1 if loan given\n",
    "        \"\"\"\n",
    "        util = [self.expected_utility(x, a) for a in [0,1]]\n",
    "        return util.index(max(util))"
   ]
  },
  {
   "cell_type": "code",
   "execution_count": 88,
   "metadata": {},
   "outputs": [],
   "source": [
    "from sklearn.naive_bayes import MultinomialNB \n",
    "from sklearn.naive_bayes import BernoulliNB \n",
    "from sklearn.naive_bayes import GaussianNB \n",
    "from sklearn.linear_model import LogisticRegression\n",
    "from sklearn.neighbors import KNeighborsClassifier\n",
    "from sklearn.ensemble import RandomForestClassifier, AdaBoostClassifier\n",
    "from sklearn.neural_network import MLPClassifier\n",
    "import pandas\n",
    "import math\n",
    "import matplotlib.pyplot as plt\n",
    "import numpy as np\n",
    "from sklearn.model_selection import train_test_split\n",
    "import random_banker"
   ]
  },
  {
   "cell_type": "code",
   "execution_count": 89,
   "metadata": {},
   "outputs": [],
   "source": [
    "PATH = \"./data/credit/D_valid.csv\"\n",
    "features = ['checking account balance', 'duration', 'credit history',\n",
    "            'purpose', 'amount', 'savings', 'employment', 'installment',\n",
    "            'marital status', 'other debtors', 'residence time',\n",
    "            'property', 'age', 'other installments', 'housing', 'credits',\n",
    "            'job', 'persons', 'phone', 'foreign']\n",
    "target = 'repaid'\n",
    "\n",
    "df = pandas.read_csv(PATH, sep=' ',\n",
    "                     names=features+[target])"
   ]
  },
  {
   "cell_type": "code",
   "execution_count": 90,
   "metadata": {},
   "outputs": [],
   "source": [
    "numerical_features = ['duration', 'age', 'residence time', 'installment', 'amount', 'persons', 'credits']\n",
    "quantitative_features = list(filter(lambda x: x not in numerical_features, features))\n",
    "X = pandas.get_dummies(df, columns=quantitative_features, drop_first=True)\n",
    "encoded_features = list(filter(lambda x: x != target, X.columns))"
   ]
  },
  {
   "cell_type": "code",
   "execution_count": 92,
   "metadata": {},
   "outputs": [],
   "source": [
    "def test_decision_maker(X_test, y_test, interest_rate, decision_maker):\n",
    "    n_test_examples = len(X_test)\n",
    "    utility = 0\n",
    "\n",
    "    ## Example test function - this is only an unbiased test if the data has not been seen in training\n",
    "    total_amount = 0\n",
    "    total_utility = 0\n",
    "    decision_maker.set_interest_rate(interest_rate)\n",
    "    for t in range(n_test_examples):\n",
    "        action = decision_maker.get_best_action(X_test.iloc[t])\n",
    "        good_loan = y_test.iloc[t] # assume the labels are correct\n",
    "        duration = X_test['duration'].iloc[t]\n",
    "        amount = X_test['amount'].iloc[t]\n",
    "        # If we don't grant the loan then nothing happens\n",
    "        if (action==1):\n",
    "            if (good_loan != 1):\n",
    "                utility -= amount\n",
    "            else:\n",
    "                utility += amount*(pow(1 + interest_rate, duration) - 1)\n",
    "        total_utility += utility\n",
    "        total_amount += amount\n",
    "    return utility, total_utility/total_amount"
   ]
  },
  {
   "cell_type": "code",
   "execution_count": 93,
   "metadata": {},
   "outputs": [],
   "source": [
    "interest_rate = 0.017\n",
    "n_tests = 100\n",
    "\n",
    "### Do a number of preliminary tests by splitting the data in parts\n",
    "def run_test(models, encoded_features=encoded_features):\n",
    "    '''\n",
    "    args:\n",
    "        models (dict): dictionary of models to test on. key=str (name of model), value=model\n",
    "    returns:\n",
    "        results: dictionary of the total utility and avg investment return per n, per model\n",
    "    '''\n",
    "    results = {}\n",
    "    for name, model in models.items():\n",
    "        decision_maker = NameBanker(model)\n",
    "        utility = 0\n",
    "        investment_return = 0\n",
    "        for iter in range(n_tests):\n",
    "            X_train, X_test, y_train, y_test = train_test_split(X[encoded_features], X[target], test_size=0.2)\n",
    "            decision_maker.set_interest_rate(interest_rate)\n",
    "            decision_maker.fit(X_train, y_train)\n",
    "            Ui, Ri = test_decision_maker(X_test, y_test, interest_rate, decision_maker)\n",
    "            utility += Ui\n",
    "            investment_return += Ri\n",
    "        results[name] = [math.floor((utility / n_tests) * 100)/100.0, math.floor((investment_return / n_tests) * 100)/100.0]\n",
    "    return results, decision_maker"
   ]
  },
  {
   "cell_type": "markdown",
   "metadata": {},
   "source": [
    "## Exp 1: Comparing different classification models:"
   ]
  },
  {
   "cell_type": "code",
   "execution_count": 133,
   "metadata": {},
   "outputs": [],
   "source": [
    "results = run_test({\"KNN\": KNeighborsClassifier(n_neighbors=31),\n",
    "                    \"BernoulliNB\": BernoulliNB(),\n",
    "                    \"MultinomialNB\": MultinomialNB(),\n",
    "                    \"Log.regression\": LogisticRegression(max_iter=1500),\n",
    "                    \"Neural Net\": MLPClassifier(alpha=1, max_iter=1000)})"
   ]
  },
  {
   "cell_type": "code",
   "execution_count": 135,
   "metadata": {
    "scrolled": true
   },
   "outputs": [
    {
     "data": {
      "text/html": [
       "<div>\n",
       "<style scoped>\n",
       "    .dataframe tbody tr th:only-of-type {\n",
       "        vertical-align: middle;\n",
       "    }\n",
       "\n",
       "    .dataframe tbody tr th {\n",
       "        vertical-align: top;\n",
       "    }\n",
       "\n",
       "    .dataframe thead th {\n",
       "        text-align: right;\n",
       "    }\n",
       "</style>\n",
       "<table border=\"1\" class=\"dataframe\">\n",
       "  <thead>\n",
       "    <tr style=\"text-align: right;\">\n",
       "      <th></th>\n",
       "      <th>Model</th>\n",
       "      <th>Total Utility, Avg Investment Return</th>\n",
       "    </tr>\n",
       "  </thead>\n",
       "  <tbody>\n",
       "    <tr>\n",
       "      <th>0</th>\n",
       "      <td>KNN</td>\n",
       "      <td>[439654.75, 10.4]</td>\n",
       "    </tr>\n",
       "    <tr>\n",
       "      <th>1</th>\n",
       "      <td>BernoulliNB</td>\n",
       "      <td>[1945987.68, 49.59]</td>\n",
       "    </tr>\n",
       "    <tr>\n",
       "      <th>2</th>\n",
       "      <td>MultinomialNB</td>\n",
       "      <td>[4305384.29, 97.84]</td>\n",
       "    </tr>\n",
       "    <tr>\n",
       "      <th>3</th>\n",
       "      <td>Log.regression</td>\n",
       "      <td>[1632840.04, 38.29]</td>\n",
       "    </tr>\n",
       "    <tr>\n",
       "      <th>4</th>\n",
       "      <td>Neural Net</td>\n",
       "      <td>[1352309.87, 37.72]</td>\n",
       "    </tr>\n",
       "  </tbody>\n",
       "</table>\n",
       "</div>"
      ],
      "text/plain": [
       "            Model Total Utility, Avg Investment Return\n",
       "0             KNN                    [439654.75, 10.4]\n",
       "1     BernoulliNB                  [1945987.68, 49.59]\n",
       "2   MultinomialNB                  [4305384.29, 97.84]\n",
       "3  Log.regression                  [1632840.04, 38.29]\n",
       "4      Neural Net                  [1352309.87, 37.72]"
      ]
     },
     "execution_count": 135,
     "metadata": {},
     "output_type": "execute_result"
    }
   ],
   "source": [
    "pandas.DataFrame(results[0].items(), columns=[\"Model\", \"Total Utility, Avg Investment Return\"])"
   ]
  },
  {
   "cell_type": "markdown",
   "metadata": {},
   "source": [
    "### Results of Exp 1:"
   ]
  },
  {
   "cell_type": "markdown",
   "metadata": {},
   "source": [
    "Based on these results, we chose to keep our hypothesis H<sub>0</sub> and continue the development using the Multinomial NB model as a baseline.\n",
    "\n",
    "<b> Assumption 1 </b>: \n",
    "    Since the results for Multinomial NB was that much better than for KNN, we assumed that changing the amount of neighbours would not out-perform NB and decided to only test for `k=floor(sqrt(n))=31` (a common approach for K selection for KNN)\n"
   ]
  },
  {
   "cell_type": "markdown",
   "metadata": {},
   "source": [
    "## Exp 2:  Feature selection"
   ]
  },
  {
   "cell_type": "markdown",
   "metadata": {},
   "source": [
    "Next, we decided to try forward stepwise feature selection, based on the lab session by Dirk Hesse, using the baseline model."
   ]
  },
  {
   "cell_type": "code",
   "execution_count": 119,
   "metadata": {},
   "outputs": [],
   "source": [
    "from sklearn.model_selection import cross_val_score"
   ]
  },
  {
   "cell_type": "code",
   "execution_count": 120,
   "metadata": {},
   "outputs": [],
   "source": [
    "classifier = MultinomialNB()"
   ]
  },
  {
   "cell_type": "markdown",
   "metadata": {},
   "source": [
    "### Feature Selection"
   ]
  },
  {
   "cell_type": "code",
   "execution_count": 121,
   "metadata": {},
   "outputs": [],
   "source": [
    "def stepwise_selection(features): #Credit: Dirk's notebooks\n",
    "    columns = list(features.columns)\n",
    "    selected_features = []\n",
    "    scores = []\n",
    "    N = 10\n",
    "    while len(selected_features) < N:\n",
    "        best_score = pandas.Series([0])\n",
    "        best_feature = None\n",
    "        for feature in columns:\n",
    "            score = cross_val_score(classifier,\n",
    "                                   features[selected_features + [feature]], X[target])\n",
    "            if score.mean() > best_score.mean():\n",
    "                best_feature = feature\n",
    "                best_score = score\n",
    "        print(f\"{best_feature}: {best_score} ({best_score.mean()})\")\n",
    "        columns.remove(best_feature)\n",
    "        selected_features.append(best_feature)\n",
    "        scores.append(score)\n",
    "    return scores, selected_features"
   ]
  },
  {
   "cell_type": "code",
   "execution_count": 123,
   "metadata": {
    "scrolled": false
   },
   "outputs": [
    {
     "name": "stdout",
     "output_type": "stream",
     "text": [
      "duration: [0.635 0.635 0.635 0.635 0.635] (0.635)\n",
      "repaid: [0.645 0.66  0.64  0.67  0.645] (0.652)\n",
      "savings_4: [0.69  0.68  0.655 0.665 0.695] (0.677)\n",
      "checking account balance_3: [0.69  0.7   0.69  0.69  0.725] (0.6990000000000001)\n",
      "installment: [0.785 0.745 0.765 0.74  0.77 ] (0.761)\n",
      "savings_5: [0.835 0.805 0.77  0.74  0.785] (0.7870000000000001)\n",
      "purpose_6: [0.82  0.81  0.77  0.765 0.795] (0.792)\n",
      "marital status_3: [0.83  0.8   0.79  0.785 0.8  ] (0.8009999999999999)\n",
      "employment_4: [0.84  0.805 0.79  0.785 0.8  ] (0.804)\n",
      "housing_3: [0.845 0.81  0.795 0.785 0.8  ] (0.807)\n"
     ]
    }
   ],
   "source": [
    "scores, selected_features = stepwise_selection(X)"
   ]
  },
  {
   "cell_type": "markdown",
   "metadata": {},
   "source": [
    "<strong> FIG 1 </strong>"
   ]
  },
  {
   "cell_type": "code",
   "execution_count": 84,
   "metadata": {
    "scrolled": false
   },
   "outputs": [
    {
     "data": {
      "text/plain": [
       "[<matplotlib.lines.Line2D at 0x1a1ccf4590>]"
      ]
     },
     "execution_count": 84,
     "metadata": {},
     "output_type": "execute_result"
    },
    {
     "data": {
      "image/png": "[encoded data removed]",
      "text/plain": [
       "<Figure size 432x288 with 1 Axes>"
      ]
     },
     "metadata": {
      "needs_background": "light"
     },
     "output_type": "display_data"
    }
   ],
   "source": [
    "plt.plot([s.mean() for s in scores])\n",
    "plt.plot([s.max() for s in scores])\n",
    "plt.plot([s.min() for s in scores])"
   ]
  },
  {
   "cell_type": "code",
   "execution_count": 126,
   "metadata": {},
   "outputs": [],
   "source": [
    "results_exp2 = run_test({\"MultinomialNB, with opt. columns\": classifier}, selected_features + [\"amount\"])"
   ]
  },
  {
   "cell_type": "code",
   "execution_count": 127,
   "metadata": {
    "scrolled": true
   },
   "outputs": [
    {
     "data": {
      "text/html": [
       "<div>\n",
       "<style scoped>\n",
       "    .dataframe tbody tr th:only-of-type {\n",
       "        vertical-align: middle;\n",
       "    }\n",
       "\n",
       "    .dataframe tbody tr th {\n",
       "        vertical-align: top;\n",
       "    }\n",
       "\n",
       "    .dataframe thead th {\n",
       "        text-align: right;\n",
       "    }\n",
       "</style>\n",
       "<table border=\"1\" class=\"dataframe\">\n",
       "  <thead>\n",
       "    <tr style=\"text-align: right;\">\n",
       "      <th></th>\n",
       "      <th>Model</th>\n",
       "      <th>Total Utility, Avg Investment Return</th>\n",
       "    </tr>\n",
       "  </thead>\n",
       "  <tbody>\n",
       "    <tr>\n",
       "      <th>0</th>\n",
       "      <td>MultinomialNB, with opt. columns</td>\n",
       "      <td>[5034088.23, 112.35]</td>\n",
       "    </tr>\n",
       "  </tbody>\n",
       "</table>\n",
       "</div>"
      ],
      "text/plain": [
       "                              Model Total Utility, Avg Investment Return\n",
       "0  MultinomialNB, with opt. columns                 [5034088.23, 112.35]"
      ]
     },
     "execution_count": 127,
     "metadata": {},
     "output_type": "execute_result"
    }
   ],
   "source": [
    "pandas.DataFrame(results_exp2[0].items(), columns=[\"Model\", \"Total Utility, Avg Investment Return\"])"
   ]
  },
  {
   "cell_type": "markdown",
   "metadata": {},
   "source": [
    "### Results of Exp 2:"
   ]
  },
  {
   "cell_type": "markdown",
   "metadata": {},
   "source": [
    "We found that after eight paramters, there was no further pay off in utility for our model (See Fig.1). This might have differed based on the order of the columns, but we assume that the difference would not be that substantial. "
   ]
  },
  {
   "cell_type": "markdown",
   "metadata": {},
   "source": [
    "## Exp 3: Comparison with RandomBanker.py"
   ]
  },
  {
   "cell_type": "code",
   "execution_count": 128,
   "metadata": {},
   "outputs": [],
   "source": [
    "def run_test_single_model(maker):\n",
    "    res = []\n",
    "    decision_maker = maker\n",
    "    utility = 0\n",
    "    investment_return = 0\n",
    "    for iter in range(n_tests):\n",
    "        X_train, X_test, y_train, y_test = train_test_split(X[encoded_features], X[target], test_size=0.2)\n",
    "        decision_maker.set_interest_rate(interest_rate)\n",
    "        decision_maker.fit(X_train, y_train)\n",
    "        Ui, Ri = test_decision_maker(X_test, y_test, interest_rate, decision_maker)\n",
    "        utility += Ui\n",
    "        investment_return += Ri\n",
    "    \n",
    "    res.append(math.floor((utility / n_tests) * 100)/100.0)\n",
    "    res.append(math.floor((investment_return / n_tests) * 100)/100.0)\n",
    "    return res"
   ]
  },
  {
   "cell_type": "code",
   "execution_count": 129,
   "metadata": {},
   "outputs": [],
   "source": [
    "comp_test = {}\n",
    "comp_test[\"Random banker\"] = run_test_single_model(random_banker.RandomBanker())\n",
    "comp_test[\"Name banker (our model)\"] = run_test_single_model(NameBanker(MultinomialNB()))"
   ]
  },
  {
   "cell_type": "code",
   "execution_count": 130,
   "metadata": {},
   "outputs": [
    {
     "data": {
      "text/html": [
       "<div>\n",
       "<style scoped>\n",
       "    .dataframe tbody tr th:only-of-type {\n",
       "        vertical-align: middle;\n",
       "    }\n",
       "\n",
       "    .dataframe tbody tr th {\n",
       "        vertical-align: top;\n",
       "    }\n",
       "\n",
       "    .dataframe thead th {\n",
       "        text-align: right;\n",
       "    }\n",
       "</style>\n",
       "<table border=\"1\" class=\"dataframe\">\n",
       "  <thead>\n",
       "    <tr style=\"text-align: right;\">\n",
       "      <th></th>\n",
       "      <th>Model</th>\n",
       "      <th>Total Utility, Avg Investment Return</th>\n",
       "    </tr>\n",
       "  </thead>\n",
       "  <tbody>\n",
       "    <tr>\n",
       "      <th>0</th>\n",
       "      <td>Random banker</td>\n",
       "      <td>[1288531.13, 30.17]</td>\n",
       "    </tr>\n",
       "    <tr>\n",
       "      <th>1</th>\n",
       "      <td>Name banker (our model)</td>\n",
       "      <td>[5116939.46, 131.32]</td>\n",
       "    </tr>\n",
       "  </tbody>\n",
       "</table>\n",
       "</div>"
      ],
      "text/plain": [
       "                     Model Total Utility, Avg Investment Return\n",
       "0            Random banker                  [1288531.13, 30.17]\n",
       "1  Name banker (our model)                 [5116939.46, 131.32]"
      ]
     },
     "execution_count": 130,
     "metadata": {},
     "output_type": "execute_result"
    }
   ],
   "source": [
    "pandas.DataFrame(comp_test.items(), columns=[\"Model\", \"Total Utility, Avg Investment Return\"])"
   ]
  },
  {
   "cell_type": "markdown",
   "metadata": {},
   "source": [
    "### Results of Exp 3"
   ]
  },
  {
   "cell_type": "markdown",
   "metadata": {},
   "source": [
    "The table above shows that our model performed better than the random banker module by quite a substantial amount."
   ]
  },
  {
   "cell_type": "markdown",
   "metadata": {},
   "source": [
    "# PART 2"
   ]
  },
  {
   "cell_type": "markdown",
   "metadata": {},
   "source": [
    "### Fairness"
   ]
  },
  {
   "cell_type": "markdown",
   "metadata": {},
   "source": [
    "We want to measure fairness in our model. One way to do that is through the p-percent metric:\n",
    "\n",
    "$$ p\\%-score=min ( \\frac{𝑃(𝑦̂ =1|𝑧=1)𝑃(𝑦̂ =1|𝑧=0)} {𝑃(𝑦̂ =1|𝑧=0)𝑃(𝑦̂ =1|𝑧=1)})$$ \n",
    "\n",
    "This allows us to measure for demographic parity. We do this because we want the rate of positive outcomes to be equal for some protected/sensitive feautres, like gender and ethinicity. To measure this, we used the `p_percent_score` function from the `sklego` package. As seen below, when checking for the foreign worker feature in our training set, we get consistent p%-scores over 80%. So what does this mean? According to Zafar et.al (2017, see source), we can say that the score satisifes the criterion of disparate treatment if the ratio between the percentage of applicants with the foreign worker attribute being granted a loan and the percentage of\n",
    "non-foreign workers being granted a loan is no less than 80:100, which holds.\n",
    "\n",
    "\n",
    "\n",
    "\n",
    "Source (https://arxiv.org/abs/1507.05259)\n"
   ]
  },
  {
   "cell_type": "code",
   "execution_count": 50,
   "metadata": {},
   "outputs": [
    {
     "data": {
      "text/plain": [
       "('p_percent_score:', 0.8396797743487641)"
      ]
     },
     "execution_count": 50,
     "metadata": {},
     "output_type": "execute_result"
    }
   ],
   "source": [
    "from sklego.metrics import p_percent_score\n",
    "X_train, X_test, y_train, y_test = train_test_split(X[encoded_features], X[target], test_size=0.2)\n",
    "p = ('p_percent_score:', p_percent_score(sensitive_column=\"foreign_2\")(model.model, X_train))\n",
    "p"
   ]
  },
  {
   "cell_type": "markdown",
   "metadata": {},
   "source": [
    "### Reproducibility and reliability"
   ]
  },
  {
   "cell_type": "markdown",
   "metadata": {},
   "source": [
    "For any model that allows us to generalize over new data, we have to make sacrifices in its reliability. The most prominent sacrifice in our best model, which is based on the Naive Bayes technique, is the precise fundament that allows for such a model. The core assumption of Naive Bayes is that the variables are independent, which obviously cannot hold for a datset like ours. What we do get from utilizing the technique is a very stable and reproducable model, that will generalize better (in the form of maximizing the utility, i.e. revenue) than the competing models - see results of above experiments.\n",
    "\n",
    "That being said, reproducibility and reliability are not necessarily disjoint. There are several methods that improve both aspects. For example, a utilizing kfold will allow us to see if a part of the dataset is significantly structurally different than others, and thus stop the decision boundary of the model to become skewed, but it will also allow the model to see more data, improving the reliability. Data will always be both limited and biased in some way, and generalizing perfectly will never happen in an open world. If we think that the data is too limited to learn enough from, for example in the form of an underrepresented class, we can apply bootstrapping to generate some samples from the data of the samples that we do have to get a broader fundament.\n",
    "\n",
    "As for the goal of our model, and managing the risks of it being wrong, we will have to make some assumptions. We can introduce some heuristics to make our model best fit the situation it will be used for. We can for example introduce a higher threshold for lending money, making the assumption that it is worse for a bank to lose money to someone who will default the loan, than to not make money from not lending to someone that would not have defaulted. We could implement such a threshold $\\gamma$ by applying a softmax function (or simply utilizing a Naive Bayes model) to the result of the model, and deducting $\\gamma$ from the likelyhood of the individual being classified as a valuable lender."
   ]
  },
  {
   "cell_type": "code",
   "execution_count": null,
   "metadata": {},
   "outputs": [],
   "source": []
  }
 ],
 "metadata": {
  "kernelspec": {
   "display_name": "Python 3",
   "language": "python",
   "name": "python3"
  },
  "language_info": {
   "codemirror_mode": {
    "name": "ipython",
    "version": 3
   },
   "file_extension": ".py",
   "mimetype": "text/x-python",
   "name": "python",
   "nbconvert_exporter": "python",
   "pygments_lexer": "ipython3",
   "version": "3.7.7"
  }
 },
 "nbformat": 4,
 "nbformat_minor": 4
}
