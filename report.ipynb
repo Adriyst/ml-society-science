{
 "cells": [
  {
   "cell_type": "markdown",
   "metadata": {},
   "source": [
    "# Project 1: Bank Credit\n",
    "### adrianty & sondrewo"
   ]
  },
  {
   "cell_type": "markdown",
   "metadata": {},
   "source": [
    "### The implementation of the functions for `name_banker.py` can be found in the source code folder."
   ]
  },
  {
   "cell_type": "markdown",
   "metadata": {},
   "source": [
    "We started our model development by inspecting the different columns in the data set, identifying both numerical and discrete  features. As is known, the Naive Bayes classifier supports catergorical features natively and can be adjusted to use numerical ones as well. Thus, we formulated the following hypothesis:\n",
    "\n",
    "H<sub>0</sub> : The Multinomial Naive Bayes classifier will provide a high accuracy score.\n",
    "\n",
    "We then attempted to falsify this hypothesis by testing out different models: Logistic regression, KNN and the Baussian and Bernoillu NB."
   ]
  },
  {
   "cell_type": "code",
   "execution_count": 17,
   "metadata": {},
   "outputs": [],
   "source": [
    "from sklearn.naive_bayes import MultinomialNB \n",
    "from sklearn.naive_bayes import BernoulliNB \n",
    "from sklearn.naive_bayes import GaussianNB \n",
    "from sklearn.linear_model import LogisticRegression\n",
    "from sklearn.neighbors import KNeighborsClassifier\n",
    "import pandas\n",
    "import matplotlib.pyplot as plt"
   ]
  },
  {
   "cell_type": "code",
   "execution_count": 21,
   "metadata": {},
   "outputs": [],
   "source": [
    "PATH = \"./data/credit/D_valid.csv\"\n",
    "features = ['checking account balance', 'duration', 'credit history',\n",
    "            'purpose', 'amount', 'savings', 'employment', 'installment',\n",
    "            'marital status', 'other debtors', 'residence time',\n",
    "            'property', 'age', 'other installments', 'housing', 'credits',\n",
    "            'job', 'persons', 'phone', 'foreign']\n",
    "target = 'repaid'\n",
    "\n",
    "df = pandas.read_csv(PATH, sep=' ',\n",
    "                     names=features+[target])"
   ]
  },
  {
   "cell_type": "code",
   "execution_count": 22,
   "metadata": {},
   "outputs": [],
   "source": [
    "numerical_features = ['duration', 'age', 'residence time', 'installment', 'amount', 'persons', 'credits']\n",
    "quantitative_features = list(filter(lambda x: x not in numerical_features, features))\n",
    "X = pandas.get_dummies(df, columns=quantitative_features, drop_first=True)\n",
    "encoded_features = list(filter(lambda x: x != target, X.columns))"
   ]
  },
  {
   "cell_type": "code",
   "execution_count": 23,
   "metadata": {},
   "outputs": [],
   "source": [
    "def test_decision_maker(X_test, y_test, interest_rate, decision_maker):\n",
    "    n_test_examples = len(X_test)\n",
    "    utility = 0\n",
    "\n",
    "    ## Example test function - this is only an unbiased test if the data has not been seen in training\n",
    "    total_amount = 0\n",
    "    total_utility = 0\n",
    "    decision_maker.set_interest_rate(interest_rate)\n",
    "    for t in range(n_test_examples):\n",
    "        action = decision_maker.get_best_action(X_test.iloc[t])\n",
    "        good_loan = y_test.iloc[t] # assume the labels are correct\n",
    "        duration = X_test['duration'].iloc[t]\n",
    "        amount = X_test['amount'].iloc[t]\n",
    "        # If we don't grant the loan then nothing happens\n",
    "        if (action==1):\n",
    "            if (good_loan != 1):\n",
    "                utility -= amount\n",
    "            else:    \n",
    "                utility += amount*(pow(1 + interest_rate, duration) - 1)\n",
    "        total_utility += utility\n",
    "        total_amount += amount\n",
    "    return utility, total_utility/total_amount"
   ]
  },
  {
   "cell_type": "code",
   "execution_count": 38,
   "metadata": {},
   "outputs": [],
   "source": [
    "import name_banker\n",
    "from sklearn.model_selection import train_test_split\n",
    "\n",
    "models = {\"KNN\": KNeighborsClassifier(n_neighbors=5), \"BernoulliNB\": BernoulliNB(), \"MultinomialNB\": MultinomialNB(), \"Log.regression\": LogisticRegression(max_iter=1500)}\n",
    "\n",
    "interest_rate = 0.017\n",
    "results = {}\n",
    "\n",
    "n_tests = 100\n",
    "\n",
    "### Do a number of preliminary tests by splitting the data in parts\n",
    "def run_test():\n",
    "    for name, model in models.items():\n",
    "        print(name)\n",
    "        decision_maker = name_banker.NameBanker(model)\n",
    "        utility = 0\n",
    "        investment_return = 0\n",
    "        for iter in range(n_tests):\n",
    "            X_train, X_test, y_train, y_test = train_test_split(X[encoded_features], X[target], test_size=0.2)\n",
    "            decision_maker.set_interest_rate(interest_rate)\n",
    "            decision_maker.fit(X_train, y_train)\n",
    "            Ui, Ri = test_decision_maker(X_test, y_test, interest_rate, decision_maker)\n",
    "            utility += Ui\n",
    "            investment_return += Ri\n",
    "        results[name] = [utility, investment_return]"
   ]
  },
  {
   "cell_type": "markdown",
   "metadata": {},
   "source": [
    "### Run experiments with n_tests = 100, for all the models:"
   ]
  },
  {
   "cell_type": "code",
   "execution_count": 39,
   "metadata": {},
   "outputs": [
    {
     "name": "stdout",
     "output_type": "stream",
     "text": [
      "KNN\n",
      "BernoulliNB\n",
      "MultinomialNB\n",
      "Log.regression\n"
     ]
    }
   ],
   "source": [
    "run_test()"
   ]
  },
  {
   "cell_type": "code",
   "execution_count": 52,
   "metadata": {},
   "outputs": [
    {
     "data": {
      "text/html": [
       "<div>\n",
       "<style scoped>\n",
       "    .dataframe tbody tr th:only-of-type {\n",
       "        vertical-align: middle;\n",
       "    }\n",
       "\n",
       "    .dataframe tbody tr th {\n",
       "        vertical-align: top;\n",
       "    }\n",
       "\n",
       "    .dataframe thead th {\n",
       "        text-align: right;\n",
       "    }\n",
       "</style>\n",
       "<table border=\"1\" class=\"dataframe\">\n",
       "  <thead>\n",
       "    <tr style=\"text-align: right;\">\n",
       "      <th></th>\n",
       "      <th>Model</th>\n",
       "      <th>Total Utility, Avg Investment Return</th>\n",
       "    </tr>\n",
       "  </thead>\n",
       "  <tbody>\n",
       "    <tr>\n",
       "      <th>0</th>\n",
       "      <td>KNN</td>\n",
       "      <td>[85413668.0349148, 1860.763931366687]</td>\n",
       "    </tr>\n",
       "    <tr>\n",
       "      <th>1</th>\n",
       "      <td>BernoulliNB</td>\n",
       "      <td>[194758796.3967455, 4966.488676620424]</td>\n",
       "    </tr>\n",
       "    <tr>\n",
       "      <th>2</th>\n",
       "      <td>MultinomialNB</td>\n",
       "      <td>[535516088.42545235, 12890.98462595138]</td>\n",
       "    </tr>\n",
       "    <tr>\n",
       "      <th>3</th>\n",
       "      <td>Log.regression</td>\n",
       "      <td>[140809454.4726863, 3353.135428685509]</td>\n",
       "    </tr>\n",
       "  </tbody>\n",
       "</table>\n",
       "</div>"
      ],
      "text/plain": [
       "            Model     Total Utility, Avg Investment Return\n",
       "0             KNN    [85413668.0349148, 1860.763931366687]\n",
       "1     BernoulliNB   [194758796.3967455, 4966.488676620424]\n",
       "2   MultinomialNB  [535516088.42545235, 12890.98462595138]\n",
       "3  Log.regression   [140809454.4726863, 3353.135428685509]"
      ]
     },
     "execution_count": 52,
     "metadata": {},
     "output_type": "execute_result"
    }
   ],
   "source": [
    "pandas.DataFrame(results.items(), columns=[\"Model\", \"Total Utility, Avg Investment Return\"])"
   ]
  },
  {
   "cell_type": "markdown",
   "metadata": {},
   "source": [
    "Based on these results, we then chose to keep our hypothesis H<sub>0</sub> and continue the development using the Multinomial NB model."
   ]
  },
  {
   "cell_type": "code",
   "execution_count": null,
   "metadata": {},
   "outputs": [],
   "source": []
  }
 ],
 "metadata": {
  "kernelspec": {
   "display_name": "Python 3",
   "language": "python",
   "name": "python3"
  },
  "language_info": {
   "codemirror_mode": {
    "name": "ipython",
    "version": 3
   },
   "file_extension": ".py",
   "mimetype": "text/x-python",
   "name": "python",
   "nbconvert_exporter": "python",
   "pygments_lexer": "ipython3",
   "version": "3.8.3"
  }
 },
 "nbformat": 4,
 "nbformat_minor": 4
}
