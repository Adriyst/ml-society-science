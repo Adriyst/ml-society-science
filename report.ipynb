{
 "cells": [
  {
   "cell_type": "markdown",
   "metadata": {},
   "source": [
    "By adrianty & sondrewo"
   ]
  },
  {
   "cell_type": "markdown",
   "metadata": {},
   "source": [
    "# Table of contents:\n",
    "\n",
    "* Implicit assumptions and discussion\n",
    "* Model Development\n",
    "    * Hypothesis and heuristics\n",
    "    * Exp 1: Comparing different classification models\n",
    "        - Testing different smoothing parameters\n",
    "        - Estimating actual performance of MultinomialNB\n",
    "    * Exp 2: Feature Selection\n",
    "    * Exp 3: Comparison with RandomBanker.py\n",
    "* Fairness\n",
    "    * Sensitive variables\n",
    "    * p%-metric\n",
    "    * Exp 4: p%-score of sensitive variables\n",
    "    * The balance between utility and fairness\n",
    "    * Exp 5: How sensitive variables affect total utility\n",
    "* Reproducibility and reliability\n",
    "* Privacy\n",
    "* Discussion\n",
    "* Results"
   ]
  },
  {
   "cell_type": "markdown",
   "metadata": {},
   "source": [
    "\\pagebreak"
   ]
  },
  {
   "cell_type": "markdown",
   "metadata": {},
   "source": [
    "# Implicit assumptions of the data <a id=\"implicit_assumptions\"></a>"
   ]
  },
  {
   "cell_type": "markdown",
   "metadata": {},
   "source": [
    "The data was already labeled with some named columns in the provided TestLending script. We still decided to do some explorative testing, to see if we could use some heuristics to develop some additional understanding of the data. We found out that there were many more elements that were labelled with <em>2</em>, which is described in the documentation as <em>bad</em>, than there were those that were labelled with <em>1</em>, or <em>good</em>. Further inspection revealed that the average amount for the <em>bad</em> loans were quite a lot higher than the <em>good</em> ones. This could suggest that the data is taken from a position in time where the <em>bad</em> loans have already defaulted, and the <em>good</em> ones are in the process of being paid off.\n",
    "\n",
    "This of course would make modelling extremely difficult, as we would have to normalize the amounts for the duration remaining. This would be extremely speculative and probably not make for good generalization, so we make the assumption that this is not the case, and that the duration and amount listed are initial values."
   ]
  },
  {
   "cell_type": "markdown",
   "metadata": {},
   "source": [
    "# Model development <a id=\"model_dev\"></a>"
   ]
  },
  {
   "cell_type": "markdown",
   "metadata": {},
   "source": [
    "## Intro <a id=\"hypothesis\"></a>"
   ]
  },
  {
   "cell_type": "markdown",
   "metadata": {},
   "source": [
    "We started our model development by inspecting the different columns in the data set, identifying both numerical and discrete  features. As is well known, the Naive Bayes classifier supports catergorical features natively and can be adjusted to use numerical ones as well. Thus, we formulated the following hypothesis:\n",
    "\n",
    "<strong>H</strong><sub>0</sub> : The Multinomial Naive Bayes classifier will perform well\n",
    "\n",
    "We then attempted to falsify this hypothesis (Exp 1) by testing out different models: Logistic regression, KNN, BernoulliNB, AdaBoost with Decision Tree and a simple multi-layered perceptron (MLP)."
   ]
  },
  {
   "cell_type": "markdown",
   "metadata": {},
   "source": [
    "## Setup"
   ]
  },
  {
   "cell_type": "code",
   "execution_count": 1,
   "metadata": {},
   "outputs": [],
   "source": [
    "class AdrianSondreBanker:\n",
    "    def __init__(self, MODEL):\n",
    "        self.model = MODEL\n",
    "    \n",
    "    def fit(self, X, y):\n",
    "        self.data = [X, y]\n",
    "        self.model.fit(X, y)\n",
    "\n",
    "    def set_interest_rate(self, rate):\n",
    "        self.rate = rate\n",
    "        return\n",
    "\n",
    "    def predict_proba(self, x):\n",
    "        \"\"\"\n",
    "        Gets the probability distribution over two classes. \n",
    "        Reshape is done to get the result as a simple 1d array.\n",
    "        \"\"\"\n",
    "        return self.model.predict_proba(np.array(x).reshape(1, -1))[0]\n",
    "\n",
    "    def expected_utility(self, x, action):\n",
    "        \"\"\"\n",
    "        Calculates the expected utility of an individual. Uses the formula\n",
    "        \n",
    "        utility = amount_of_loan * (1 + lend_rate)^duration_of_loan\n",
    "        \"\"\"\n",
    "        \n",
    "        utility = (x[\"amount\"] * ((1 + self.rate) ** x['duration'])) - x[\"amount\"]\n",
    "        \n",
    "        U = np.matrix(f\"0 0; {utility} {x['amount'] * -1}\")\n",
    "\n",
    "        # get the probabilities of the classes (will pay, wont pay)\n",
    "        probs = self.predict_proba(x)\n",
    "        \n",
    "        # get the index of the highest probability - 0 if wont pay, 1 if will pay\n",
    "        repaid = np.where(probs == max(probs))\n",
    "\n",
    "        return U[action, repaid]\n",
    "\n",
    "    \n",
    "\n",
    "\n",
    "    def get_best_action(self, x):\n",
    "        \"\"\"\n",
    "        Decide whether to give a loan to some individual x.\n",
    "        \n",
    "        Returns:\n",
    "            the index of the highest expected utility - 0 if loan denied, 1 if loan given\n",
    "        \"\"\"\n",
    "        util = [self.expected_utility(x, a) for a in [0,1]]\n",
    "        return util.index(max(util))"
   ]
  },
  {
   "cell_type": "code",
   "execution_count": 2,
   "metadata": {},
   "outputs": [],
   "source": [
    "from sklearn.naive_bayes import MultinomialNB \n",
    "from sklearn.naive_bayes import BernoulliNB \n",
    "from sklearn.naive_bayes import GaussianNB \n",
    "from sklearn.linear_model import LogisticRegression\n",
    "from sklearn.neighbors import KNeighborsClassifier\n",
    "from sklearn.ensemble import RandomForestClassifier, AdaBoostClassifier\n",
    "from sklearn.neural_network import MLPClassifier\n",
    "import pandas\n",
    "import math\n",
    "import matplotlib.pyplot as plt\n",
    "import numpy as np\n",
    "from sklearn.model_selection import train_test_split\n",
    "import random_banker\n",
    "%matplotlib inline"
   ]
  },
  {
   "cell_type": "code",
   "execution_count": 3,
   "metadata": {},
   "outputs": [],
   "source": [
    "VALID_PATH = \"./data/credit/D_valid.csv\"\n",
    "TRAIN_PATH = \"./data/credit/D_train.csv\"\n",
    "TEST_PATH = \"./data/credit/D_test.csv\"\n",
    "interest_rate = 0.017\n",
    "\n",
    "def get_data(path, drop_cols=None):\n",
    "    \"\"\"\n",
    "    Fetches a dataset with the desirable features. Discussion on the \n",
    "    different datasets can be found below.\n",
    "    \"\"\"\n",
    "    features = ['checking account balance', 'duration', 'credit history',\n",
    "                'purpose', 'amount', 'savings', 'employment', 'installment',\n",
    "                'marital status', 'other debtors', 'residence time',\n",
    "                'property', 'age', 'other installments', 'housing', 'credits',\n",
    "                'job', 'persons', 'phone', 'foreign']\n",
    "    target = 'repaid'\n",
    "\n",
    "    df = pandas.read_csv(path, sep=' ',\n",
    "                         names=features+[target])\n",
    "    if drop_cols:\n",
    "        df = df.drop([\"marital status\", \"residence time\", \"age\",\n",
    "        \"other installments\", \"persons\", \"phone\", \"foreign\"], axis=1)\n",
    "    numerical_features = ['duration', 'age', 'residence time', 'installment', 'amount', 'persons', 'credits']\n",
    "    quantitative_features = list(filter(lambda x: x not in numerical_features, [x for x in df.columns if x!=\"repaid\"]))\n",
    "    X = pandas.get_dummies(df, columns=quantitative_features, drop_first=True)\n",
    "    encoded_features = list(filter(lambda x: x != target, X.columns))\n",
    "    return X, encoded_features, target"
   ]
  },
  {
   "cell_type": "code",
   "execution_count": 4,
   "metadata": {},
   "outputs": [],
   "source": [
    "def test_decision_maker(X_test, y_test, interest_rate, decision_maker):\n",
    "    \"\"\"\n",
    "    Default standard test - copied from TestLending.py\n",
    "    \"\"\"\n",
    "    n_test_examples = len(X_test)\n",
    "    utility = 0\n",
    "\n",
    "    ## Example test function - this is only an unbiased test if the data has not been seen in training\n",
    "    total_amount = 0\n",
    "    total_utility = 0\n",
    "    decision_maker.set_interest_rate(interest_rate)\n",
    "    for t in range(n_test_examples):\n",
    "        action = decision_maker.get_best_action(X_test.iloc[t])\n",
    "        good_loan = y_test.iloc[t] # assume the labels are correct\n",
    "        duration = X_test['duration'].iloc[t]\n",
    "        amount = X_test['amount'].iloc[t]\n",
    "        # If we don't grant the loan then nothing happens\n",
    "        if (action==1):\n",
    "            if (good_loan != 1):\n",
    "                utility -= amount\n",
    "            else:\n",
    "                utility += amount*(pow(1 + interest_rate, duration) - 1)\n",
    "        total_utility += utility\n",
    "        total_amount += amount\n",
    "    return utility, total_utility/total_amount"
   ]
  },
  {
   "cell_type": "code",
   "execution_count": 5,
   "metadata": {},
   "outputs": [],
   "source": [
    "### Do a number of preliminary tests by splitting the data in parts\n",
    "def run_test(models, X, encoded_features, target, n_tests=100, flag=None):\n",
    "    '''\n",
    "    Default testing of a (or multiple) model(s), mostly taken from TestLending.py\n",
    "    \n",
    "    args:\n",
    "        models (dict): dictionary of models to test on. key=str (name of model), value=model\n",
    "    returns:\n",
    "        results: dictionary of the total utility and avg investment return per n, per model\n",
    "    '''\n",
    "    results = {}\n",
    "    n_tests = n_tests\n",
    "    for name, model in models.items():\n",
    "        n_tests = n_tests if name not in (\"KNN\", \"BernoulliNB\", \"MultinomialNB\") else 1\n",
    "        decision_maker = AdrianSondreBanker(model)\n",
    "        utility = 0\n",
    "        investment_return = 0\n",
    "        for iter in range(n_tests):\n",
    "            if flag is not None:\n",
    "                X_train, y_train = X[encoded_features], X[target]\n",
    "                X_test, y_test = flag[encoded_features], flag[target]\n",
    "            else:\n",
    "                X_train, X_test, y_train, y_test = train_test_split(X[encoded_features], X[target], test_size=0.2)\n",
    "            decision_maker.set_interest_rate(interest_rate)\n",
    "            decision_maker.fit(X_train, y_train)\n",
    "            Ui, Ri = test_decision_maker(X_test[encoded_features], y_test, interest_rate, decision_maker)\n",
    "            utility += Ui\n",
    "            investment_return += Ri\n",
    "        results[name] = [math.floor((utility / n_tests) * 100)/100.0, math.floor((investment_return / n_tests) * 100)/100.0]\n",
    "    return results, decision_maker"
   ]
  },
  {
   "cell_type": "markdown",
   "metadata": {},
   "source": [
    "## Exp 1: Comparing different classification models: <a id=\"comparing_different\"></a>"
   ]
  },
  {
   "cell_type": "code",
   "execution_count": 6,
   "metadata": {},
   "outputs": [],
   "source": [
    "def run_tests_for_all_classifiers(path, flag=False, flip=False):\n",
    "    \"\"\"\n",
    "    Compare results from different classifiers, using the default test above.\n",
    "    \n",
    "    Keyword arguments in place to experiment with different datasets.\n",
    "    \"\"\"\n",
    "    if flag:\n",
    "        if flip:\n",
    "            path1 = VALID_PATH\n",
    "            path2 = TRAIN_PATH\n",
    "        else:\n",
    "            path1 = TRAIN_PATH\n",
    "            path2 = VALID_PATH\n",
    "        X, encoded_f, tar = get_data(path1)\n",
    "        X_te, _, _ = get_data(path2)\n",
    "    else:\n",
    "        X, encoded_f, tar = get_data(path)\n",
    "        X_te = None\n",
    "    results = run_test({\"KNN\": KNeighborsClassifier(n_neighbors=31),\n",
    "                    \"BernoulliNB\": BernoulliNB(),\n",
    "                    \"MultinomialNB\": MultinomialNB(),\n",
    "                    \"Log.regression\": LogisticRegression(max_iter=1500),\n",
    "                    \"Neural Net\": MLPClassifier(alpha=1, max_iter=1000)}, X, encoded_f, tar, flag=X_te)\n",
    "    return pandas.DataFrame(results[0].items(), columns=[\"Model\", \"Total Utility, Avg Investment Return\"])"
   ]
  },
  {
   "cell_type": "markdown",
   "metadata": {},
   "source": [
    "### Results of different models"
   ]
  },
  {
   "cell_type": "code",
   "execution_count": 7,
   "metadata": {
    "scrolled": true
   },
   "outputs": [
    {
     "data": {
      "text/html": [
       "<div>\n",
       "<style scoped>\n",
       "    .dataframe tbody tr th:only-of-type {\n",
       "        vertical-align: middle;\n",
       "    }\n",
       "\n",
       "    .dataframe tbody tr th {\n",
       "        vertical-align: top;\n",
       "    }\n",
       "\n",
       "    .dataframe thead th {\n",
       "        text-align: right;\n",
       "    }\n",
       "</style>\n",
       "<table border=\"1\" class=\"dataframe\">\n",
       "  <thead>\n",
       "    <tr style=\"text-align: right;\">\n",
       "      <th></th>\n",
       "      <th>Model</th>\n",
       "      <th>Total Utility, Avg Investment Return</th>\n",
       "    </tr>\n",
       "  </thead>\n",
       "  <tbody>\n",
       "    <tr>\n",
       "      <th>0</th>\n",
       "      <td>KNN</td>\n",
       "      <td>[13889323.65, 442.04]</td>\n",
       "    </tr>\n",
       "    <tr>\n",
       "      <th>1</th>\n",
       "      <td>BernoulliNB</td>\n",
       "      <td>[17527135.64, 566.17]</td>\n",
       "    </tr>\n",
       "    <tr>\n",
       "      <th>2</th>\n",
       "      <td>MultinomialNB</td>\n",
       "      <td>[23827002.45, 733.78]</td>\n",
       "    </tr>\n",
       "    <tr>\n",
       "      <th>3</th>\n",
       "      <td>Log.regression</td>\n",
       "      <td>[9936292.32, 278.17]</td>\n",
       "    </tr>\n",
       "    <tr>\n",
       "      <th>4</th>\n",
       "      <td>Neural Net</td>\n",
       "      <td>[14468034.8, 498.6]</td>\n",
       "    </tr>\n",
       "  </tbody>\n",
       "</table>\n",
       "</div>"
      ],
      "text/plain": [
       "            Model Total Utility, Avg Investment Return\n",
       "0             KNN                [13889323.65, 442.04]\n",
       "1     BernoulliNB                [17527135.64, 566.17]\n",
       "2   MultinomialNB                [23827002.45, 733.78]\n",
       "3  Log.regression                 [9936292.32, 278.17]\n",
       "4      Neural Net                  [14468034.8, 498.6]"
      ]
     },
     "execution_count": 7,
     "metadata": {},
     "output_type": "execute_result"
    }
   ],
   "source": [
    "results = run_tests_for_all_classifiers(\"\", flag=True)\n",
    "results"
   ]
  },
  {
   "cell_type": "code",
   "execution_count": 8,
   "metadata": {},
   "outputs": [],
   "source": [
    "def get_accuracy_for_models(path, flag=None, flip=False):\n",
    "    \"\"\"\n",
    "    Tests different models for their accuracies. \n",
    "    \n",
    "    Keyword arguments in place to experiment with different datasets.\n",
    "    \"\"\"\n",
    "    if flag:\n",
    "        if flip:\n",
    "            path1 = VALID_PATH\n",
    "            path2 = TRAIN_PATH\n",
    "        else:\n",
    "            path1 = TRAIN_PATH\n",
    "            path2 = VALID_PATH\n",
    "        X, encoded_f, tar = get_data(path1)\n",
    "        X_tr = X[encoded_f]\n",
    "        y_tr = X[tar]\n",
    "        X_nd, _, _ = get_data(path2)\n",
    "        X_te = X_nd[encoded_f]\n",
    "        y_te = X_nd[tar]\n",
    "    else:\n",
    "        X, encoded_f, tar = get_data(path)\n",
    "        X_tr, X_te, y_tr, y_te = train_test_split(X[encoded_f], X[tar])\n",
    "    scores = []\n",
    "    for model in [\n",
    "        KNeighborsClassifier(n_neighbors=31),\n",
    "        BernoulliNB(),\n",
    "        MultinomialNB(),\n",
    "        LogisticRegression(max_iter=1500),\n",
    "        MLPClassifier(alpha=1, max_iter=1000)]:\n",
    "        model.fit(X_tr, y_tr)\n",
    "        scores.append(model.score(X_te, y_te))\n",
    "    return scores"
   ]
  },
  {
   "cell_type": "code",
   "execution_count": 9,
   "metadata": {},
   "outputs": [
    {
     "data": {
      "text/plain": [
       "[0.664, 0.74, 0.64, 0.684, 0.676]"
      ]
     },
     "execution_count": 9,
     "metadata": {},
     "output_type": "execute_result"
    }
   ],
   "source": [
    "accuracies = get_accuracy_for_models(TRAIN_PATH)\n",
    "accuracies"
   ]
  },
  {
   "cell_type": "code",
   "execution_count": 10,
   "metadata": {},
   "outputs": [],
   "source": [
    "def plot_utility_vs_accuracy(accuracies, utilities):\n",
    "    \"\"\"\n",
    "    Plots a scatterplot for utilities and accuracies of different models. \n",
    "    \"\"\"\n",
    "    colors = [\"r\", \"b\", \"g\", \"y\", \"orange\"]\n",
    "    model_names = [\"KNN\", \"BernoulliNB\", \"MultinomialNB\", \"LogReg\", \"MLP\"]\n",
    "    acc_utils = zip(accuracies, [r[0] for r in utilities[\"Total Utility, Avg Investment Return\"]])\n",
    "    for i, (model, (accuracy, utility)) in enumerate(zip(model_names, acc_utils)):\n",
    "        plt.plot([accuracy], [utility], \"s\", ms=10, c=colors[i], label=model)\n",
    "    plt.xlabel(\"Accuracy\")\n",
    "    plt.ylabel(\"Utility\")\n",
    "    plt.legend()"
   ]
  },
  {
   "cell_type": "code",
   "execution_count": 11,
   "metadata": {},
   "outputs": [],
   "source": [
    "def utility_vs_accuracy_for_set(path, flag=None, flip=False):\n",
    "    utilities = run_tests_for_all_classifiers(path, flag=flag, flip=flip)\n",
    "    accuracies = get_accuracy_for_models(path, flag=flag, flip=flip)\n",
    "    plot_utility_vs_accuracy(accuracies, utilities)"
   ]
  },
  {
   "cell_type": "markdown",
   "metadata": {},
   "source": [
    "\\pagebreak"
   ]
  },
  {
   "cell_type": "markdown",
   "metadata": {},
   "source": [
    "### Plots of accuracy vs utility for different models on different datasets"
   ]
  },
  {
   "cell_type": "markdown",
   "metadata": {},
   "source": [
    "#### Validation set"
   ]
  },
  {
   "cell_type": "code",
   "execution_count": 12,
   "metadata": {},
   "outputs": [
    {
     "data": {
      "image/png": "[encoded data removed]",
      "text/plain": [
       "<Figure size 432x288 with 1 Axes>"
      ]
     },
     "metadata": {
      "needs_background": "light"
     },
     "output_type": "display_data"
    }
   ],
   "source": [
    "utility_vs_accuracy_for_set(VALID_PATH)"
   ]
  },
  {
   "cell_type": "markdown",
   "metadata": {},
   "source": [
    "We can see a clear linear relation between all the classifiers, except for the multinomial Naïve Bayes. This could suggest that the dataset shows tendencies favourable to the multinomial NB, and might not be the best for generalization. Therefore, we also test it on the validation set alone:"
   ]
  },
  {
   "cell_type": "markdown",
   "metadata": {},
   "source": [
    "\\pagebreak"
   ]
  },
  {
   "cell_type": "markdown",
   "metadata": {},
   "source": [
    "#### Training set"
   ]
  },
  {
   "cell_type": "code",
   "execution_count": 13,
   "metadata": {},
   "outputs": [
    {
     "data": {
      "image/png": "[encoded data removed]",
      "text/plain": [
       "<Figure size 432x288 with 1 Axes>"
      ]
     },
     "metadata": {
      "needs_background": "light"
     },
     "output_type": "display_data"
    }
   ],
   "source": [
    "utility_vs_accuracy_for_set(TRAIN_PATH)"
   ]
  },
  {
   "cell_type": "markdown",
   "metadata": {},
   "source": [
    "These results may suggest that the discussion above were well-founded, and that MultinomialNB may not be the best classifier for potential further testing. For further testing, we train the classifiers on the train dataset and test them on the validation set, which should give a better estimate of their performances:"
   ]
  },
  {
   "cell_type": "markdown",
   "metadata": {},
   "source": [
    "\\pagebreak"
   ]
  },
  {
   "cell_type": "markdown",
   "metadata": {},
   "source": [
    "#### Training and validation set combined"
   ]
  },
  {
   "cell_type": "code",
   "execution_count": 14,
   "metadata": {},
   "outputs": [
    {
     "data": {
      "image/png": "[encoded data removed]",
      "text/plain": [
       "<Figure size 432x288 with 1 Axes>"
      ]
     },
     "metadata": {
      "needs_background": "light"
     },
     "output_type": "display_data"
    }
   ],
   "source": [
    "utility_vs_accuracy_for_set(\"\", flag=True)"
   ]
  },
  {
   "cell_type": "markdown",
   "metadata": {},
   "source": [
    "We see that once again, the multinomial NB looks to be superior. For a final test, we flip the training process, and train the models on the validation set, and test them on the training set:"
   ]
  },
  {
   "cell_type": "markdown",
   "metadata": {},
   "source": [
    "\\pagebreak"
   ]
  },
  {
   "cell_type": "markdown",
   "metadata": {},
   "source": [
    "#### Traning and validation set combined and flipped"
   ]
  },
  {
   "cell_type": "code",
   "execution_count": 15,
   "metadata": {
    "scrolled": true
   },
   "outputs": [
    {
     "data": {
      "image/png": "[encoded data removed]",
      "text/plain": [
       "<Figure size 432x288 with 1 Axes>"
      ]
     },
     "metadata": {
      "needs_background": "light"
     },
     "output_type": "display_data"
    }
   ],
   "source": [
    "utility_vs_accuracy_for_set(\"\", flag=True, flip=True)"
   ]
  },
  {
   "cell_type": "markdown",
   "metadata": {},
   "source": [
    "We can conclude that in terms of utility, there is no contest. The MultinomialNB-classifier seems to be a much better fit on our dataset than the other ones we tested."
   ]
  },
  {
   "cell_type": "markdown",
   "metadata": {},
   "source": [
    "\\pagebreak"
   ]
  },
  {
   "cell_type": "markdown",
   "metadata": {},
   "source": [
    "## Exp 1.1 Testing for multiple smoothing parameters <a id=\"smoothing\"></a>"
   ]
  },
  {
   "cell_type": "code",
   "execution_count": 75,
   "metadata": {},
   "outputs": [],
   "source": [
    "def test_smoothings(path):\n",
    "    \"\"\"\n",
    "    Hyperparameter search for MultinomialNB.\n",
    "    \"\"\"\n",
    "    X, encoded_f, tar = get_data(path)\n",
    "    params = np.linspace(0.01, 10, 10) #[0.1, 0.5, 1.0, 10.0, 100.0] \n",
    "    models = {}\n",
    "    results = None\n",
    "    for i in params:\n",
    "        models[i] = MultinomialNB(alpha=i)\n",
    "    results,_ = run_test(models, X, encoded_f, tar)\n",
    "    return results\n",
    "    "
   ]
  },
  {
   "cell_type": "code",
   "execution_count": 19,
   "metadata": {
    "collapsed": true
   },
   "outputs": [],
   "source": [
    "res = test_smoothings(VALID_PATH)"
   ]
  },
  {
   "cell_type": "code",
   "execution_count": 20,
   "metadata": {
    "scrolled": true
   },
   "outputs": [
    {
     "data": {
      "text/plain": [
       "<matplotlib.axes._subplots.AxesSubplot at 0x7fba194a9550>"
      ]
     },
     "execution_count": 20,
     "metadata": {},
     "output_type": "execute_result"
    },
    {
     "data": {
      "image/png": "[encoded data removed]",
      "text/plain": [
       "<Figure size 432x288 with 1 Axes>"
      ]
     },
     "metadata": {
      "needs_background": "light"
     },
     "output_type": "display_data"
    }
   ],
   "source": [
    "res_formatted = {key:value[0] for key,value in res.items()}\n",
    "df = pandas.DataFrame(res_formatted.items(), columns=[\"laplace\",\"utility\"])\n",
    "df.plot.scatter(x=\"laplace\", y=\"utility\")\n"
   ]
  },
  {
   "cell_type": "code",
   "execution_count": 76,
   "metadata": {},
   "outputs": [],
   "source": [
    "tr_res = test_smoothings(TRAIN_PATH)"
   ]
  },
  {
   "cell_type": "code",
   "execution_count": 78,
   "metadata": {
    "scrolled": true
   },
   "outputs": [
    {
     "data": {
      "text/plain": [
       "<matplotlib.axes._subplots.AxesSubplot at 0x7fba19466290>"
      ]
     },
     "execution_count": 78,
     "metadata": {},
     "output_type": "execute_result"
    },
    {
     "data": {
      "image/png": "[encoded data removed]",
      "text/plain": [
       "<Figure size 432x288 with 1 Axes>"
      ]
     },
     "metadata": {
      "needs_background": "light"
     },
     "output_type": "display_data"
    }
   ],
   "source": [
    "tr_res_formatted = {key:value[0] for key,value in tr_res.items()}\n",
    "df = pandas.DataFrame(tr_res_formatted.items(), columns=[\"laplace\",\"utility\"])\n",
    "df.plot.scatter(x=\"laplace\", y=\"utility\")\n"
   ]
  },
  {
   "cell_type": "markdown",
   "metadata": {},
   "source": [
    "The results from the two plots suggest that there is little correlation between the hyperparameter and the result, so we keep the default of alpha=1."
   ]
  },
  {
   "cell_type": "markdown",
   "metadata": {},
   "source": [
    "## Results of Exp 1:"
   ]
  },
  {
   "cell_type": "markdown",
   "metadata": {},
   "source": [
    "Based on these results, we chose to keep our hypothesis H<sub>0</sub> and continue the development using the Multinomial NB model as a baseline, using the default laplace smoothing of `1.0`. Testing different smoothing parameters over time did not affect the utility.\n",
    "\n",
    "<b> Assumption 1 </b>: \n",
    "    Since the results for Multinomial NB was that much better than for KNN, we assumed that changing the amount of neighbours would not out-perform NB and decided to only test for `k=floor(sqrt(n))=31` (a common approach for K selection for KNN)\n"
   ]
  },
  {
   "cell_type": "markdown",
   "metadata": {},
   "source": [
    "## Estimating actual performance of Multinomial Naive Bayes <a id=\"actual_performance\"></a>"
   ]
  },
  {
   "cell_type": "markdown",
   "metadata": {},
   "source": [
    "Utilizing a generative classifier such as Multinomial NB provides one practical advantage over using discriminative models, is that the result provided stays constant for a given train and development set. We might still want to see how the model would perform with some slight differences in the data, by using different amounts of data at train and development time, to get an idea of how well the model generalizes."
   ]
  },
  {
   "cell_type": "code",
   "execution_count": 21,
   "metadata": {},
   "outputs": [],
   "source": [
    "def avg_for_n_runs(X, n, encoded_features, target, model):\n",
    "    \"\"\"\n",
    "    Compact function that fetches utility scores and averages for n runs.\n",
    "    \"\"\"\n",
    "    utis, avg = [], []\n",
    "    for _ in range(n):\n",
    "        X_tr, X_te, y_tr, y_te = train_test_split(X[encoded_features], X[target], test_size=0.2)\n",
    "        banker = model\n",
    "        banker.fit(X_tr, y_tr)\n",
    "        uti, div = test_decision_maker(X_te, y_te, interest_rate, banker)\n",
    "        utis.append(uti)\n",
    "        avg.append(div)\n",
    "    return utis, avg"
   ]
  },
  {
   "cell_type": "markdown",
   "metadata": {},
   "source": [
    "We have experimented with both the provided D_valid and D_train datasets, as they have quite different content. in the D_valid set, about 1/3 of the individuals are granted a loan, while in D_train, about 2/3 are. We are leaving the D_test set untill we feel like we are completely finished with the model development, so that we have some fundament to evaluate how well our model can generalize."
   ]
  },
  {
   "cell_type": "code",
   "execution_count": 22,
   "metadata": {},
   "outputs": [],
   "source": [
    "from sklearn.utils import resample"
   ]
  },
  {
   "cell_type": "code",
   "execution_count": 23,
   "metadata": {},
   "outputs": [],
   "source": [
    "18:30def get_samples(dataset, model=None, info=None):\n",
    "    \"\"\"\n",
    "    Helper function to fetch resampling of a set of results. \n",
    "    \n",
    "    Args:\n",
    "        dataset (str): the name of the dataset.\n",
    "        info (tuple): A tuple of a dataset, features, and the target value name\n",
    "    Returns:\n",
    "        a list of averages of resampled results.\n",
    "    \"\"\"\n",
    "    if not info:\n",
    "        X, encoded_f, tar = get_data(f\"./data/credit/D_{dataset}.csv\")\n",
    "    else:\n",
    "        X, encoded_f, tar = info\n",
    "    n = 500\n",
    "    m = model if model is not None else AdrianSondreBanker(MultinomialNB())\n",
    "    m_uti, m_avg = avg_for_n_runs(X, n, encoded_f, tar, m)\n",
    "    m_uti = np.array(m_uti)\n",
    "    return [resample(m_uti).sum()/n for _ in range(10000)]"
   ]
  },
  {
   "cell_type": "markdown",
   "metadata": {},
   "source": [
    "\\pagebreak\n"
   ]
  },
  {
   "cell_type": "markdown",
   "metadata": {},
   "source": [
    "### Histograms of utility for different datasets"
   ]
  },
  {
   "cell_type": "code",
   "execution_count": 24,
   "metadata": {},
   "outputs": [],
   "source": [
    "def create_hist_for_valid():\n",
    "    \"\"\"\n",
    "    Create a histogram for the D_valid dataset.\n",
    "    \"\"\"\n",
    "    data = [round(x/1000000,3) for x in get_samples(\"valid\")]\n",
    "    plt.hist(data, bins=20)\n",
    "    plt.xlabel('utility')\n",
    "    plt.ylabel('count')\n",
    "    plt.title('Histogram of utilities - D_valid')"
   ]
  },
  {
   "cell_type": "code",
   "execution_count": 25,
   "metadata": {},
   "outputs": [
    {
     "data": {
      "image/png": "[encoded data removed]",
      "text/plain": [
       "<Figure size 432x288 with 1 Axes>"
      ]
     },
     "metadata": {
      "needs_background": "light"
     },
     "output_type": "display_data"
    }
   ],
   "source": [
    "create_hist_for_valid()"
   ]
  },
  {
   "cell_type": "markdown",
   "metadata": {},
   "source": [
    "A histogram of the total utility of our model over 500 runs, resampled 1000 times. The model is trained on the D_valid data set. There is a clear gaussian tendency of the data, with the average being around 4.8 million."
   ]
  },
  {
   "cell_type": "markdown",
   "metadata": {},
   "source": [
    "\\pagebreak"
   ]
  },
  {
   "cell_type": "code",
   "execution_count": 26,
   "metadata": {},
   "outputs": [],
   "source": [
    "def create_hist_for_train():\n",
    "    \"\"\"\n",
    "    Create a histogram for the D_train dataset.\n",
    "    \"\"\"\n",
    "    data = [round(x/1000000, 3) for x in get_samples(\"train\")]\n",
    "    plt.hist(data, bins=20)\n",
    "    plt.xlabel(\"utility\")\n",
    "    plt.ylabel(\"count\")\n",
    "    plt.title(\"Histogram of utilities - D_train\")"
   ]
  },
  {
   "cell_type": "code",
   "execution_count": 27,
   "metadata": {},
   "outputs": [
    {
     "data": {
      "image/png": "[encoded data removed]",
      "text/plain": [
       "<Figure size 432x288 with 1 Axes>"
      ]
     },
     "metadata": {
      "needs_background": "light"
     },
     "output_type": "display_data"
    }
   ],
   "source": [
    "create_hist_for_train()"
   ]
  },
  {
   "cell_type": "markdown",
   "metadata": {},
   "source": [
    "A histogram like the one above, but on the D_train set The same tendencies can be found, but the numbers are likely different due to the one above due to the difference in class distributions - but we will put this to the test in the next section."
   ]
  },
  {
   "cell_type": "markdown",
   "metadata": {},
   "source": [
    "\\pagebreak"
   ]
  },
  {
   "cell_type": "code",
   "execution_count": 28,
   "metadata": {},
   "outputs": [],
   "source": [
    "def create_hist_for_both():\n",
    "    \"\"\"\n",
    "    Create a histogram for both the D_valid and D_train datasets.\n",
    "    \"\"\"\n",
    "    X, encoded_f, tar = get_data(VALID_PATH)\n",
    "    X_t, _, _ = get_data(TRAIN_PATH)\n",
    "    X = pandas.concat([X, X_t])\n",
    "    data = get_samples(\"\", info=(X, encoded_f, tar))\n",
    "    plt.hist(data, bins=20)\n",
    "    plt.xlabel(\"utility\")\n",
    "    plt.ylabel(\"count\")\n",
    "    plt.title(\"Histogram of utilities - both sets\")"
   ]
  },
  {
   "cell_type": "code",
   "execution_count": 29,
   "metadata": {},
   "outputs": [
    {
     "data": {
      "image/png": "[encoded data removed]",
      "text/plain": [
       "<Figure size 432x288 with 1 Axes>"
      ]
     },
     "metadata": {
      "needs_background": "light"
     },
     "output_type": "display_data"
    }
   ],
   "source": [
    "create_hist_for_both()"
   ]
  },
  {
   "cell_type": "markdown",
   "metadata": {},
   "source": [
    "We see that the utility is increasing proportionally with the size of the dataset, meaning that the model likely does not benefit from the extra data. This might be because some of the features we are using are diffusing the generalization process. We will explore that in the following section."
   ]
  },
  {
   "cell_type": "markdown",
   "metadata": {},
   "source": [
    "\\pagebreak"
   ]
  },
  {
   "cell_type": "markdown",
   "metadata": {},
   "source": [
    "## Exp 2:  Feature selection <a id=\"feature_selection\"></a>"
   ]
  },
  {
   "cell_type": "markdown",
   "metadata": {},
   "source": [
    "Next, we decided to try forward stepwise feature selection, based on the lab session by Dirk Hesse, using the baseline model."
   ]
  },
  {
   "cell_type": "code",
   "execution_count": 30,
   "metadata": {},
   "outputs": [],
   "source": [
    "from sklearn.model_selection import cross_val_score\n",
    "from random import sample"
   ]
  },
  {
   "cell_type": "markdown",
   "metadata": {},
   "source": [
    "### Feature Selection"
   ]
  },
  {
   "cell_type": "code",
   "execution_count": 31,
   "metadata": {},
   "outputs": [],
   "source": [
    "def stepwise_selection(features, target, classifier=MultinomialNB()): #Credit: Dirk's notebooks\n",
    "    \"\"\"\n",
    "    Extract the best 0 > N > 12 features from the dataset.\n",
    "    \n",
    "    Args:\n",
    "        features (pandas DataFrame): The dataset\n",
    "        target (str): The target column of the dataset\n",
    "        classifier (sklearn model): some classifier\n",
    "    Returns:\n",
    "        a list of the best scores, and a list of the best features.\n",
    "    \n",
    "    \"\"\"\n",
    "    global_best_features = []\n",
    "    global_best_scores = []\n",
    "    global_best_score = pandas.Series([0])\n",
    "    for N in range(1, 12):\n",
    "        columns = list(filter(lambda x: x != \"repaid\", features.columns))\n",
    "        columns = sample(columns, len(columns))\n",
    "        selected_features = []\n",
    "        scores = []\n",
    "        while len(selected_features) < N:\n",
    "            best_score = pandas.Series([0])\n",
    "            best_feature = None\n",
    "            for feature in columns:\n",
    "                score = cross_val_score(classifier,\n",
    "                                       features[selected_features + [feature]], features[target])\n",
    "                if score.mean() > best_score.mean():\n",
    "                    best_feature = feature\n",
    "                    best_score = score\n",
    "            columns.remove(best_feature)\n",
    "            selected_features.append(best_feature)\n",
    "            scores.append(best_score)\n",
    "        best_scores = list(sorted(scores, reverse=True, key=lambda x: x.mean()))[0]\n",
    "        if np.array(best_scores).mean() > np.array(global_best_score).mean():\n",
    "            global_best_features = selected_features \n",
    "            global_best_score = np.array(scores).mean()\n",
    "        global_best_scores.append(best_scores)\n",
    "    return global_best_scores, global_best_features"
   ]
  },
  {
   "cell_type": "code",
   "execution_count": 32,
   "metadata": {},
   "outputs": [],
   "source": [
    "def create_hist_for_stepwise(path=VALID_PATH):\n",
    "    \"\"\"\n",
    "    Create a histogram using the stepwise function.\n",
    "    \"\"\"\n",
    "    if isinstance(path, str):\n",
    "        X, encoded_f, tar = get_data(path)\n",
    "    elif isinstance(path, bool):\n",
    "        X, encoded_f, tar = get_data(VALID_PATH)\n",
    "        X_t, _, _ = get_data(TRAIN_PATH)\n",
    "        X = pandas.concat([X, X_t])\n",
    "    scores, selected_features = stepwise_selection(X, tar)\n",
    "    if \"amount\" not in selected_features:\n",
    "        selected_features = selected_features + [\"amount\"]\n",
    "    if \"duration\" not in selected_features:\n",
    "        selected_features = selected_features + [\"duration\"]\n",
    "    data = get_samples(\"\", info=(X, selected_features, tar))\n",
    "    data = [round(x/1000000,3) for x in data]\n",
    "    plt.hist(data, bins=20)\n",
    "    plt.xlabel(\"utility\")\n",
    "    plt.ylabel(\"count\")\n",
    "    plt.title(\"Histogram with selected features\")\n",
    "    return scores, selected_features"
   ]
  },
  {
   "cell_type": "markdown",
   "metadata": {},
   "source": [
    "\\pagebreak"
   ]
  },
  {
   "cell_type": "markdown",
   "metadata": {},
   "source": [
    "### Histograms of utility and frequency count for different datasets"
   ]
  },
  {
   "cell_type": "code",
   "execution_count": 33,
   "metadata": {},
   "outputs": [
    {
     "data": {
      "image/png": "[encoded data removed]",
      "text/plain": [
       "<Figure size 432x288 with 1 Axes>"
      ]
     },
     "metadata": {
      "needs_background": "light"
     },
     "output_type": "display_data"
    }
   ],
   "source": [
    "scores, selected_features = create_hist_for_stepwise()"
   ]
  },
  {
   "cell_type": "markdown",
   "metadata": {},
   "source": [
    "The fewer selected features have seemingly little effect on the valid dataset, as the numbers are very similar to the above figure."
   ]
  },
  {
   "cell_type": "markdown",
   "metadata": {},
   "source": [
    "\\pagebreak"
   ]
  },
  {
   "cell_type": "code",
   "execution_count": 34,
   "metadata": {},
   "outputs": [
    {
     "data": {
      "image/png": "[encoded data removed]",
      "text/plain": [
       "<Figure size 432x288 with 1 Axes>"
      ]
     },
     "metadata": {
      "needs_background": "light"
     },
     "output_type": "display_data"
    }
   ],
   "source": [
    "train_scores, train_selected_features = create_hist_for_stepwise(path=TRAIN_PATH)"
   ]
  },
  {
   "cell_type": "markdown",
   "metadata": {},
   "source": [
    "These values however are distinguishly higher than before. Using the train dataset, it would seem that higher utility is achievable by removing some of the features."
   ]
  },
  {
   "cell_type": "markdown",
   "metadata": {},
   "source": [
    "\\pagebreak"
   ]
  },
  {
   "cell_type": "code",
   "execution_count": 35,
   "metadata": {},
   "outputs": [
    {
     "data": {
      "image/png": "[encoded data removed]",
      "text/plain": [
       "<Figure size 432x288 with 1 Axes>"
      ]
     },
     "metadata": {
      "needs_background": "light"
     },
     "output_type": "display_data"
    }
   ],
   "source": [
    "both_scores, both_selected_Features = create_hist_for_stepwise(path=True)"
   ]
  },
  {
   "cell_type": "markdown",
   "metadata": {},
   "source": [
    "We see that the values for both sets are very similar for both sets, albeit more concentrated around the average. It is clear that there is little extra information to extract by using both datasets."
   ]
  },
  {
   "cell_type": "markdown",
   "metadata": {},
   "source": [
    "We can plot some graphs to visualize how the model behaves when trained on different datasets."
   ]
  },
  {
   "cell_type": "markdown",
   "metadata": {},
   "source": [
    "\\pagebreak"
   ]
  },
  {
   "cell_type": "markdown",
   "metadata": {},
   "source": [
    "### Plots of number of features vs accuracy scores"
   ]
  },
  {
   "cell_type": "markdown",
   "metadata": {},
   "source": [
    "#### Validation set"
   ]
  },
  {
   "cell_type": "code",
   "execution_count": 36,
   "metadata": {
    "scrolled": false
   },
   "outputs": [
    {
     "data": {
      "text/plain": [
       "Text(0, 0.5, 'Accuracy')"
      ]
     },
     "execution_count": 36,
     "metadata": {},
     "output_type": "execute_result"
    },
    {
     "data": {
      "image/png": "[encoded data removed]",
      "text/plain": [
       "<Figure size 432x288 with 1 Axes>"
      ]
     },
     "metadata": {
      "needs_background": "light"
     },
     "output_type": "display_data"
    }
   ],
   "source": [
    "plt.plot([s.mean() for s in scores])\n",
    "plt.plot([s.max() for s in scores])\n",
    "plt.plot([s.min() for s in scores])\n",
    "plt.xlabel(\"# of features\")\n",
    "plt.ylabel(\"Accuracy\")"
   ]
  },
  {
   "cell_type": "markdown",
   "metadata": {},
   "source": [
    "\\pagebreak"
   ]
  },
  {
   "cell_type": "markdown",
   "metadata": {},
   "source": [
    "#### Training set"
   ]
  },
  {
   "cell_type": "code",
   "execution_count": 37,
   "metadata": {
    "scrolled": false
   },
   "outputs": [
    {
     "data": {
      "text/plain": [
       "Text(0, 0.5, 'Accuracy')"
      ]
     },
     "execution_count": 37,
     "metadata": {},
     "output_type": "execute_result"
    },
    {
     "data": {
      "image/png": "[encoded data removed]",
      "text/plain": [
       "<Figure size 432x288 with 1 Axes>"
      ]
     },
     "metadata": {
      "needs_background": "light"
     },
     "output_type": "display_data"
    }
   ],
   "source": [
    "plt.plot([s.mean() for s in train_scores])\n",
    "plt.plot([s.max() for s in train_scores])\n",
    "plt.plot([s.min() for s in train_scores])\n",
    "plt.xlabel(\"# of features\")\n",
    "plt.ylabel(\"Accuracy\")"
   ]
  },
  {
   "cell_type": "markdown",
   "metadata": {},
   "source": [
    "\\pagebreak"
   ]
  },
  {
   "cell_type": "markdown",
   "metadata": {},
   "source": [
    "#### Training and validation sets combined"
   ]
  },
  {
   "cell_type": "code",
   "execution_count": 38,
   "metadata": {
    "scrolled": true
   },
   "outputs": [
    {
     "data": {
      "text/plain": [
       "Text(0, 0.5, 'Accuracy')"
      ]
     },
     "execution_count": 38,
     "metadata": {},
     "output_type": "execute_result"
    },
    {
     "data": {
      "image/png": "[encoded data removed]",
      "text/plain": [
       "<Figure size 432x288 with 1 Axes>"
      ]
     },
     "metadata": {
      "needs_background": "light"
     },
     "output_type": "display_data"
    }
   ],
   "source": [
    "plt.plot([s.mean() for s in both_scores])\n",
    "plt.plot([s.max() for s in both_scores])\n",
    "plt.plot([s.min() for s in both_scores])\n",
    "plt.xlabel(\"# of features\")\n",
    "plt.ylabel(\"Accuracy\")"
   ]
  },
  {
   "cell_type": "markdown",
   "metadata": {},
   "source": [
    "## Results of Exp 2:"
   ]
  },
  {
   "cell_type": "markdown",
   "metadata": {},
   "source": [
    "We can see that the model is behaving differently to different amounts of features, but for most the differences between >4 and <10 are not really indicative of anything - possibly except for the model trained on the D_train-dataset in [Fig 2](#fig_2). Which is interesting, considering that it was the only model that performed better with fewer parameters. There might be a sweet spot beyond the values we tested for."
   ]
  },
  {
   "cell_type": "markdown",
   "metadata": {},
   "source": [
    "\\pagebreak"
   ]
  },
  {
   "cell_type": "markdown",
   "metadata": {},
   "source": [
    "## Exp 3: Comparison with RandomBanker.py <a id=\"comparison\"></a>"
   ]
  },
  {
   "cell_type": "code",
   "execution_count": 39,
   "metadata": {},
   "outputs": [],
   "source": [
    "def run_test_single_model(X, features, target, maker):\n",
    "    \"\"\"\n",
    "    Tests a decision maker given a model and dataset.\n",
    "    \"\"\"\n",
    "    res = []\n",
    "    decision_maker = maker\n",
    "    utility = 0\n",
    "    investment_return = 0\n",
    "    n_tests = 100\n",
    "    for iter in range(n_tests):\n",
    "        X_train, X_test, y_train, y_test = train_test_split(X[features], X[target], test_size=0.2)\n",
    "        decision_maker.set_interest_rate(interest_rate)\n",
    "        decision_maker.fit(X_train, y_train)\n",
    "        Ui, Ri = test_decision_maker(X_test, y_test, interest_rate, decision_maker)\n",
    "        utility += Ui\n",
    "        investment_return += Ri\n",
    "    \n",
    "    res.append(math.floor((utility / n_tests) * 100)/100.0)\n",
    "    res.append(math.floor((investment_return / n_tests) * 100)/100.0)\n",
    "    return res"
   ]
  },
  {
   "cell_type": "code",
   "execution_count": 40,
   "metadata": {},
   "outputs": [],
   "source": [
    "def compare_models():\n",
    "    \"\"\"\n",
    "    Compares different decision makers.\n",
    "    \"\"\"\n",
    "    comp_test = {}\n",
    "    for i in [\"train\", \"valid\", \"both\"]:\n",
    "        if i == \"train\":\n",
    "            X, features, tar = get_data(TRAIN_PATH)\n",
    "        elif i == \"valid\":\n",
    "            X, features, tar = get_data(VALID_PATH)\n",
    "        else:\n",
    "            X, features, tar = get_data(VALID_PATH)\n",
    "            X_t, _, _ = get_data(TRAIN_PATH)\n",
    "            X = pandas.concat([X, X_t])\n",
    "        comp_test[f\"Random banker_{i}\"] = run_test_single_model(X, features, tar, random_banker.RandomBanker())\n",
    "        comp_test[f\"AdrianSondreBanker_{i}\"] = run_test_single_model(X, features, tar, AdrianSondreBanker(MultinomialNB()))\n",
    "    return pandas.DataFrame(comp_test.items(), columns=[\"Model\", \"Total Utility, Avg Investment Return\"])"
   ]
  },
  {
   "cell_type": "code",
   "execution_count": 41,
   "metadata": {},
   "outputs": [],
   "source": [
    "def compare_dists():\n",
    "    \"\"\"\n",
    "    Plots histograms for the utility distributions of our model and the random banker provided.\n",
    "    \"\"\"\n",
    "    data = [round(x/1000000, 3) for x in get_samples(\"train\", AdrianSondreBanker(MultinomialNB()))]\n",
    "    data_random = [round(x/1000000, 3) for x in get_samples(\"train\", random_banker.RandomBanker())]\n",
    "    plt.hist(data, bins=20, alpha=0.5, label='AdrianSondreBanker')\n",
    "    plt.hist(data_random, bins=20, alpha=0.5, label='RandomBanker')\n",
    "    plt.legend(loc='upper right')\n",
    "    plt.title(\"Distribution of utility over N=500 runs\")\n",
    "    plt.xlabel(\"Utility\")\n",
    "    plt.ylabel(\"Frequency of outcome\")   \n",
    "    plt.show()\n",
    "    "
   ]
  },
  {
   "cell_type": "markdown",
   "metadata": {},
   "source": [
    "### Simple table comparison"
   ]
  },
  {
   "cell_type": "code",
   "execution_count": 42,
   "metadata": {},
   "outputs": [
    {
     "data": {
      "text/html": [
       "<div>\n",
       "<style scoped>\n",
       "    .dataframe tbody tr th:only-of-type {\n",
       "        vertical-align: middle;\n",
       "    }\n",
       "\n",
       "    .dataframe tbody tr th {\n",
       "        vertical-align: top;\n",
       "    }\n",
       "\n",
       "    .dataframe thead th {\n",
       "        text-align: right;\n",
       "    }\n",
       "</style>\n",
       "<table border=\"1\" class=\"dataframe\">\n",
       "  <thead>\n",
       "    <tr style=\"text-align: right;\">\n",
       "      <th></th>\n",
       "      <th>Model</th>\n",
       "      <th>Total Utility, Avg Investment Return</th>\n",
       "    </tr>\n",
       "  </thead>\n",
       "  <tbody>\n",
       "    <tr>\n",
       "      <th>0</th>\n",
       "      <td>Random banker_train</td>\n",
       "      <td>[5414824.57, 131.65]</td>\n",
       "    </tr>\n",
       "    <tr>\n",
       "      <th>1</th>\n",
       "      <td>AdrianSondreBanker_train</td>\n",
       "      <td>[9005614.12, 220.79]</td>\n",
       "    </tr>\n",
       "    <tr>\n",
       "      <th>2</th>\n",
       "      <td>Random banker_valid</td>\n",
       "      <td>[570901.76, 16.5]</td>\n",
       "    </tr>\n",
       "    <tr>\n",
       "      <th>3</th>\n",
       "      <td>AdrianSondreBanker_valid</td>\n",
       "      <td>[4975550.84, 124.54]</td>\n",
       "    </tr>\n",
       "    <tr>\n",
       "      <th>4</th>\n",
       "      <td>Random banker_both</td>\n",
       "      <td>[6609834.23, 154.81]</td>\n",
       "    </tr>\n",
       "    <tr>\n",
       "      <th>5</th>\n",
       "      <td>AdrianSondreBanker_both</td>\n",
       "      <td>[13765941.31, 351.09]</td>\n",
       "    </tr>\n",
       "  </tbody>\n",
       "</table>\n",
       "</div>"
      ],
      "text/plain": [
       "                      Model Total Utility, Avg Investment Return\n",
       "0       Random banker_train                 [5414824.57, 131.65]\n",
       "1  AdrianSondreBanker_train                 [9005614.12, 220.79]\n",
       "2       Random banker_valid                    [570901.76, 16.5]\n",
       "3  AdrianSondreBanker_valid                 [4975550.84, 124.54]\n",
       "4        Random banker_both                 [6609834.23, 154.81]\n",
       "5   AdrianSondreBanker_both                [13765941.31, 351.09]"
      ]
     },
     "execution_count": 42,
     "metadata": {},
     "output_type": "execute_result"
    }
   ],
   "source": [
    "compare_models()"
   ]
  },
  {
   "cell_type": "markdown",
   "metadata": {},
   "source": [
    "\\pagebreak"
   ]
  },
  {
   "cell_type": "markdown",
   "metadata": {},
   "source": [
    "### Histogram of utility for RandomBanker v.s AdrianSondreBanker"
   ]
  },
  {
   "cell_type": "code",
   "execution_count": 43,
   "metadata": {},
   "outputs": [
    {
     "data": {
      "image/png": "[encoded data removed]",
      "text/plain": [
       "<Figure size 432x288 with 1 Axes>"
      ]
     },
     "metadata": {
      "needs_background": "light"
     },
     "output_type": "display_data"
    }
   ],
   "source": [
    "compare_dists()"
   ]
  },
  {
   "cell_type": "markdown",
   "metadata": {},
   "source": [
    "## Results of Exp 3"
   ]
  },
  {
   "cell_type": "markdown",
   "metadata": {},
   "source": [
    "The table above shows that our model performed better than the random banker module by quite a substantial amount. From the histogram, the distribution over 500 runs are also seperated by quite a high amount of utility. We can therefore conclude that our model performs better than the RandmBanker module."
   ]
  },
  {
   "cell_type": "markdown",
   "metadata": {},
   "source": [
    "\\pagebreak"
   ]
  },
  {
   "cell_type": "markdown",
   "metadata": {},
   "source": [
    "# Fairness <a id=\"fairness\"></a>"
   ]
  },
  {
   "cell_type": "code",
   "execution_count": 44,
   "metadata": {},
   "outputs": [],
   "source": [
    "def get_df_with_gender(df):\n",
    "    #male = 0, female = 1\n",
    "    df[\"gender\"] = np.where((df[\"marital status_2\"] + df[\"marital status_5\"] == 1), 1, 0)\n",
    "    return df\n",
    "\n",
    "def get_over_age(df):\n",
    "    #over = 1, under = 0\n",
    "    df[\"over60\"] = np.where((df[\"age\"] >= 60), 1, 0)\n",
    "    return df"
   ]
  },
  {
   "cell_type": "code",
   "execution_count": 45,
   "metadata": {},
   "outputs": [],
   "source": [
    "#Creating some baselines to use in this section\n",
    "X, encoded_features, target = get_data(TRAIN_PATH)\n",
    "X = get_df_with_gender(X)\n",
    "X = get_over_age(X)\n",
    "X_train, X_test, y_train, y_test = train_test_split(X, X[target], test_size=0.2)\n",
    "model = MultinomialNB() #use our baseline\n",
    "model.fit(X_train, y_train)\n",
    "None"
   ]
  },
  {
   "cell_type": "markdown",
   "metadata": {},
   "source": [
    "## Sensitive variables <a id=\"fairness_sensitive\"></a>"
   ]
  },
  {
   "cell_type": "markdown",
   "metadata": {},
   "source": [
    "We identified primarily three sensitive variables in the data: gender (calculated from the marital status column), foreign worker status, and age. Ensuring that our model performs well – without discriminating on these variables – is crucial. Failing to do so might hinder its deployment. In order to more accurtaly test for disparate treatment in regard to age, we constucted a new feature out of the original data: `over60` - a binary indicating whether or not a single record was older than 60.\n",
    "\n",
    "What follows is an attempt to quantify fairness, defined here, somewhat holisticly, as sensitive variables that should not influence the predictions of the model. Then, we try to optimise our model so that we have a reasonable tradeoff between utility and fairness."
   ]
  },
  {
   "cell_type": "markdown",
   "metadata": {},
   "source": [
    "## Introducing the p-percent metric <a id=\"fairness_p\"></a>"
   ]
  },
  {
   "cell_type": "markdown",
   "metadata": {},
   "source": [
    "We wanted to quantitatively measure fairness in our model. One way to do that is through the p-percent metric (Zafar et.al, 2017):\n",
    "\n",
    "$$ p\\%score=min ( \\frac{𝑃(𝑦̂ =1|𝑧=1)}{𝑃(𝑦̂ =1|𝑧=0)}, \\frac{𝑃(𝑦̂ =1|𝑧=0)}{𝑃(𝑦̂ =1|𝑧=1)})$$ \n",
    "\n",
    "The method gives us a measure on the demographic parity of our model. We wanted the rate of positive outcomes to be equal for our sensitive variables: `gender`, `over60` and `foreign_worker2`. \n",
    "According to Zafar et.al (2017), we can say that a model satisifes the criterion of disparate treatment if the ratio between the percentage of applicants with and without the sensitive attribute is no less than 80:100 in regard to the output variable.\n",
    "\n",
    "<strong> The table below calculates the p-percent score for gender, foreign worker status and age(over 60): </strong>\n"
   ]
  },
  {
   "cell_type": "code",
   "execution_count": 46,
   "metadata": {},
   "outputs": [],
   "source": [
    "from sklego.metrics import p_percent_score"
   ]
  },
  {
   "cell_type": "code",
   "execution_count": 47,
   "metadata": {},
   "outputs": [],
   "source": [
    "def get_p_scores(features):\n",
    "    res = {}\n",
    "    for f in features:\n",
    "        p = (p_percent_score(sensitive_column=f)(model, X))\n",
    "        res[str(f)] = p\n",
    "    return res"
   ]
  },
  {
   "cell_type": "markdown",
   "metadata": {},
   "source": [
    "### Exp 4: P-Percent score for Foreign worker status, gender and age <a id=\"fairness_exp4\"></a>"
   ]
  },
  {
   "cell_type": "code",
   "execution_count": 48,
   "metadata": {
    "scrolled": false
   },
   "outputs": [
    {
     "data": {
      "text/html": [
       "<div>\n",
       "<style scoped>\n",
       "    .dataframe tbody tr th:only-of-type {\n",
       "        vertical-align: middle;\n",
       "    }\n",
       "\n",
       "    .dataframe tbody tr th {\n",
       "        vertical-align: top;\n",
       "    }\n",
       "\n",
       "    .dataframe thead th {\n",
       "        text-align: right;\n",
       "    }\n",
       "</style>\n",
       "<table border=\"1\" class=\"dataframe\">\n",
       "  <thead>\n",
       "    <tr style=\"text-align: right;\">\n",
       "      <th></th>\n",
       "      <th>Feature</th>\n",
       "      <th>P-score</th>\n",
       "    </tr>\n",
       "  </thead>\n",
       "  <tbody>\n",
       "    <tr>\n",
       "      <th>0</th>\n",
       "      <td>foreign_2</td>\n",
       "      <td>0.931412</td>\n",
       "    </tr>\n",
       "    <tr>\n",
       "      <th>1</th>\n",
       "      <td>gender</td>\n",
       "      <td>0.936638</td>\n",
       "    </tr>\n",
       "    <tr>\n",
       "      <th>2</th>\n",
       "      <td>over60</td>\n",
       "      <td>0.802335</td>\n",
       "    </tr>\n",
       "  </tbody>\n",
       "</table>\n",
       "</div>"
      ],
      "text/plain": [
       "     Feature   P-score\n",
       "0  foreign_2  0.931412\n",
       "1     gender  0.936638\n",
       "2     over60  0.802335"
      ]
     },
     "execution_count": 48,
     "metadata": {},
     "output_type": "execute_result"
    }
   ],
   "source": [
    "res = get_p_scores([\"foreign_2\",\"gender\", \"over60\"])\n",
    "df = pandas.DataFrame(res.items(), columns=[\"Feature\", \"P-score\"])\n",
    "df"
   ]
  },
  {
   "cell_type": "markdown",
   "metadata": {},
   "source": [
    "### Exp 4 Results:"
   ]
  },
  {
   "cell_type": "markdown",
   "metadata": {},
   "source": [
    "Both the foreign worker and gender feature are well above the acceptable threshold of 80%.\n",
    "The \"over60\" feature, however, failed to meet the criteria – indicating that being over 60 years of age actually influences the output of the classification, which according to our definition of fairness should not happen. Any use of this model should take this deficiency into account."
   ]
  },
  {
   "cell_type": "markdown",
   "metadata": {},
   "source": [
    "## The balance between utility and fairness <a id=\"fairness_balance\"></a>"
   ]
  },
  {
   "cell_type": "code",
   "execution_count": 49,
   "metadata": {},
   "outputs": [],
   "source": [
    "def sample_run(X, encoded_f, tar, model, n=1000):\n",
    "    \"\"\"\n",
    "    generates samples.\n",
    "    \"\"\"\n",
    "    m_uti, m_avg = avg_for_n_runs(X, n, encoded_f, tar, model)\n",
    "    m_uti = np.array(m_uti)\n",
    "    return [resample(m_uti).sum()/n for _ in range(10000)]    "
   ]
  },
  {
   "cell_type": "code",
   "execution_count": 50,
   "metadata": {},
   "outputs": [],
   "source": [
    "def compare_fairness(column_to_drop, gender=False):\n",
    "    \"\"\"\n",
    "    Creates histogram over the distribution of utility with and without a provided column.\n",
    "    \"\"\"\n",
    "    X, encoded_features, target = get_data(TRAIN_PATH)\n",
    "    if gender:\n",
    "        X = get_df_with_gender(X) #need to actually create this column out of other features (marital status)\n",
    "        X_no_variable = X.copy()\n",
    "        X_no_variable.drop([column_to_drop], axis=1)\n",
    "    else:\n",
    "        X_no_variable,_,_ = get_data(TRAIN_PATH)\n",
    "        X_no_variable.drop([column_to_drop], axis=1)\n",
    "    data = [round(x/1000000, 3) for x in sample_run(X, encoded_features, target, AdrianSondreBanker(MultinomialNB()))]\n",
    "    data_no_var = [round(x/1000000, 3) for x in sample_run(X_no_variable, encoded_features, target, AdrianSondreBanker(MultinomialNB()))]\n",
    "    \n",
    "    plt.hist(data, bins=20, alpha=0.5, label='With ' + column_to_drop)\n",
    "    plt.hist(data_no_var, bins=20, alpha=0.5, label='Without ' + column_to_drop)\n",
    "    plt.legend(loc='upper right')\n",
    "    plt.title(\"Distribution of utility over N=1000 runs\")\n",
    "    plt.xlabel(\"Utility (in millions)\")\n",
    "    plt.ylabel(\"Frequency of outcome\")   \n",
    "    plt.show()"
   ]
  },
  {
   "cell_type": "markdown",
   "metadata": {},
   "source": [
    "### Exp 5: Total average utility with and without sensitive variables <a id=\"fairness_exp5\"></a>"
   ]
  },
  {
   "cell_type": "code",
   "execution_count": 51,
   "metadata": {},
   "outputs": [
    {
     "data": {
      "image/png": "[encoded data removed]",
      "text/plain": [
       "<Figure size 432x288 with 1 Axes>"
      ]
     },
     "metadata": {
      "needs_background": "light"
     },
     "output_type": "display_data"
    }
   ],
   "source": [
    "compare_fairness(\"age\")"
   ]
  },
  {
   "cell_type": "markdown",
   "metadata": {},
   "source": [
    "\\pagebreak"
   ]
  },
  {
   "cell_type": "code",
   "execution_count": 52,
   "metadata": {
    "scrolled": true
   },
   "outputs": [
    {
     "data": {
      "image/png": "[encoded data removed]",
      "text/plain": [
       "<Figure size 432x288 with 1 Axes>"
      ]
     },
     "metadata": {
      "needs_background": "light"
     },
     "output_type": "display_data"
    }
   ],
   "source": [
    "compare_fairness(\"gender\", gender=True)"
   ]
  },
  {
   "cell_type": "markdown",
   "metadata": {},
   "source": [
    "\\pagebreak"
   ]
  },
  {
   "cell_type": "code",
   "execution_count": 53,
   "metadata": {},
   "outputs": [
    {
     "data": {
      "image/png": "[encoded data removed]",
      "text/plain": [
       "<Figure size 432x288 with 1 Axes>"
      ]
     },
     "metadata": {
      "needs_background": "light"
     },
     "output_type": "display_data"
    }
   ],
   "source": [
    "compare_fairness(\"foreign_2\")"
   ]
  },
  {
   "cell_type": "markdown",
   "metadata": {},
   "source": [
    "### Exp 5 Results"
   ]
  },
  {
   "cell_type": "markdown",
   "metadata": {},
   "source": [
    "Overall, the probability mass of the utility distribution leans more to the left when allowed to classify based on gender, age and foreign worker status. Therefore, it might be the case that it is better overall, both in regards to utility and fairness, to disregard these variables in training and production. "
   ]
  },
  {
   "cell_type": "markdown",
   "metadata": {},
   "source": [
    "\\pagebreak"
   ]
  },
  {
   "cell_type": "markdown",
   "metadata": {},
   "source": [
    "# Reproducibility and reliability <a id=\"reproduce\"></a>"
   ]
  },
  {
   "cell_type": "markdown",
   "metadata": {},
   "source": [
    "We have used multiple datasets in our modelling. It can be useful to see the differences in these datasets when trying to generalize from them. They are quite different, most significantly in the class distribution (in our code the classes (1,2) are converted to classes (1,2)):\n",
    "\n",
    "| Class | D_train | D_valid |\n",
    "|-------|---------|---------|\n",
    "|   1   |   683   |   365   |\n",
    "|   2   |   317   |   635   |\n",
    "\n",
    "The values are almost entirely inverted, but most of the other values stay relatively similar. For example, both the average amount values - 20348 in train vs 20643 in dev - are very similar. So are the numbers for average duration. \n",
    "\n",
    "For any model that allows us to generalize over new data, we have to make sacrifices in its reliability. The most prominent sacrifice in our best model, which is based on the Naive Bayes technique, is the precise fundament that allows for such a model. The core assumption of Naive Bayes is that the variables are independent, which obviously cannot hold for a datset like ours. What we do get from utilizing the technique is a very stable and reproducable model, that will generalize better (in the form of maximizing the utility, i.e. revenue) than the competing models - see results of above experiments.\n",
    "\n",
    "That being said, reproducibility and reliability are not necessarily disjoint. There are several methods that improve both aspects. For example, a utilizing kfold will allow us to see if a part of the dataset is significantly structurally different than others, and thus stop the decision boundary of the model to become skewed, but it will also allow the model to see more data, improving the reliability. Data will always be both limited and biased in some way, and generalizing perfectly will never happen in an open world. If we think that the data is too limited to learn enough from, for example in the form of an underrepresented class, we can apply bootstrapping to generate some samples from the data of the samples that we do have to get a broader fundament.\n",
    "\n",
    "As for the goal of our model, and managing the risks of it being wrong, we will have to make some assumptions. We can introduce some heuristics to make our model best fit the situation it will be used for. We can for example introduce a higher threshold for lending money, making the assumption that it is worse for a bank to lose money to someone who will default the loan, than to not make money from not lending to someone that would not have defaulted. We could implement such a threshold $\\gamma$ by applying a softmax function (or simply utilizing a Naive Bayes model) to the result of the model, and deducting $\\gamma$ from the likelyhood of the individual being classified as a valuable lender."
   ]
  },
  {
   "cell_type": "markdown",
   "metadata": {},
   "source": [
    "\\pagebreak"
   ]
  },
  {
   "cell_type": "markdown",
   "metadata": {},
   "source": [
    "# Privacy <a id=\"privacy\"></a>"
   ]
  },
  {
   "cell_type": "markdown",
   "metadata": {},
   "source": [
    "Use of machine learning algorithms raises multiple privacy concerns. How can we protect the identity of the participants in the data sets we train our models on? In our case, we note that the original data is anonymised. However, it is our judgement that this data set may potentially be exploited in linkeage attacks. \n",
    "The dataset has features indicating a range of personal attributes per record; combining age, job status, foreign worker status and amound/duration may narrow a search substantially – making identification of individuals not unthinkable. \n",
    "\n",
    "<strong> In order to protect the identity of \"our\" participants, we here outline the development process of a general procedure: </strong>"
   ]
  },
  {
   "cell_type": "markdown",
   "metadata": {},
   "source": [
    "## Step 1: Protecting the existing individuals"
   ]
  },
  {
   "cell_type": "markdown",
   "metadata": {},
   "source": [
    "The first thing that should be done is to locate _sensitive_ features in the dataset, which will be of more discussion in the fairness-section. From the columns, we found 7 columns that we thought could easily be removed without having too much of an effect on the dataset:\n",
    "\n",
    "* marital status\n",
    "* residence time\n",
    "* age\n",
    "* other installments\n",
    "* persons\n",
    "* phone\n",
    "* foreign\n",
    "\n",
    "To see the differences in the classifier without these features, we ran a test:"
   ]
  },
  {
   "cell_type": "code",
   "execution_count": 54,
   "metadata": {},
   "outputs": [],
   "source": [
    "def train_without_some_features():\n",
    "    X, enc, t = get_data(TRAIN_PATH)\n",
    "    X_te, _, _ = get_data(VALID_PATH)\n",
    "    ir = 0.017\n",
    "    dm = AdrianSondreBanker(MultinomialNB())\n",
    "    ignore_list = [\n",
    "        \"marital status\",\n",
    "        \"residence time\",\n",
    "        \"age\",\n",
    "        \"other installments\",\n",
    "        \"persons\",\n",
    "        \"phone\",\n",
    "        \"foreign\"\n",
    "    ]\n",
    "    \n",
    "    def check_if_in(x):\n",
    "        for ig in ignore_list:\n",
    "            if x in ig:\n",
    "                return True\n",
    "        return False\n",
    "    \n",
    "    fixed_enc = list(filter(lambda x: not check_if_in(x), enc))\n",
    "    dm.fit(X[fixed_enc], X[t])\n",
    "    uti, avg = test_decision_maker(X_te[fixed_enc], X_te[t], ir, dm)\n",
    "    return uti, avg"
   ]
  },
  {
   "cell_type": "code",
   "execution_count": 55,
   "metadata": {},
   "outputs": [
    {
     "name": "stdout",
     "output_type": "stream",
     "text": [
      "Total utility: 23557298.672290996\n",
      "Average investment return: 723.9370941809223\n"
     ]
    }
   ],
   "source": [
    "uti, avg = train_without_some_features()\n",
    "print(f\"Total utility: {uti}\")\n",
    "print(f\"Average investment return: {avg}\")"
   ]
  },
  {
   "cell_type": "markdown",
   "metadata": {},
   "source": [
    "We can see that the difference in total utility is negligible, and it is safe to remove them.\n",
    "\n",
    "The next thing that would be interesting to see, is if we can achieve _k_-anonymity for a respectable value of _k_. We fetch the data in its original form, bin the numerical values, and count the differences between the rows, in order to see if that is achievable:"
   ]
  },
  {
   "cell_type": "code",
   "execution_count": 56,
   "metadata": {},
   "outputs": [],
   "source": [
    "def get_data_without_cols(path, drop_cols=[]):\n",
    "    features = ['checking account balance', 'duration', 'credit history',\n",
    "            'purpose', 'amount', 'savings', 'employment', 'installment',\n",
    "            'marital status', 'other debtors', 'residence time',\n",
    "            'property', 'age', 'other installments', 'housing', 'credits',\n",
    "            'job', 'persons', 'phone', 'foreign']\n",
    "\n",
    "    df = pandas.read_csv(path, sep=' ', names=features+[\"repaid\"])\n",
    "    df = df.drop([\"marital status\", \"residence time\", \"age\",\n",
    "        \"other installments\", \"persons\", \"phone\", \"foreign\"], axis=1)\n",
    "    numerical_features = ['duration', 'installment', 'amount', 'credits']\n",
    "    quantitative_features = list(filter(lambda x: x not in numerical_features, features))\n",
    "\n",
    "    return df, quantitative_features, numerical_features\n",
    "\n",
    "\n",
    "def transform_numericals(X, numerical_features):\n",
    "    \"\"\"\n",
    "    Bins numerical values in a dataframe to 3 ranges that correlate to the \n",
    "    percentages of the values\n",
    "    \"\"\"\n",
    "    for f in numerical_features:\n",
    "\n",
    "        fix_amounts = np.percentile(X[f], [25, 50, 75])\n",
    "\n",
    "        def replace_val(x):\n",
    "            if x <= fix_amounts[0]:\n",
    "                return fix_amounts[0] + 1 \n",
    "            if x >= fix_amounts[-1]:\n",
    "                return fix_amounts[-1] - 1 \n",
    "            return x\n",
    "\n",
    "        X[f] = X[f].apply(replace_val)\n",
    "        X[f] = pandas.cut(X[f], fix_amounts)\n",
    "    return X\n",
    "\n",
    "\n",
    "def fetch_distances(X):\n",
    "    \"\"\"\n",
    "    Calculates how many rows have a certain amount of differences from all other rows.\n",
    "    example:\n",
    "    if 200 rows have 8 unique combinations, then result will have the key-value combination\n",
    "    \n",
    "    8: 200\n",
    "    \n",
    "    \"\"\"\n",
    "    result = {}\n",
    "    for idx_1, row in X.iterrows():\n",
    "        distances = []\n",
    "        for idx_2, comparerow in X.iterrows():\n",
    "            distance = 0\n",
    "            if idx_1 == idx_2:\n",
    "                continue\n",
    "            for col in X.columns:\n",
    "                if row[col] != comparerow[col]:\n",
    "                    distance += 1\n",
    "            distances.append(distance)\n",
    "        tot = str(sum(distances)//len(distances))\n",
    "        if tot not in result:\n",
    "            result[tot] = 0\n",
    "        result[tot] += 1\n",
    "    return result"
   ]
  },
  {
   "cell_type": "code",
   "execution_count": 57,
   "metadata": {},
   "outputs": [],
   "source": [
    "fixed_data, enc, num = get_data_without_cols(TRAIN_PATH)\n",
    "new_data = transform_numericals(fixed_data, num)\n",
    "dists = fetch_distances(new_data)"
   ]
  },
  {
   "cell_type": "code",
   "execution_count": 58,
   "metadata": {
    "scrolled": true
   },
   "outputs": [
    {
     "data": {
      "text/html": [
       "<div>\n",
       "<style scoped>\n",
       "    .dataframe tbody tr th:only-of-type {\n",
       "        vertical-align: middle;\n",
       "    }\n",
       "\n",
       "    .dataframe tbody tr th {\n",
       "        vertical-align: top;\n",
       "    }\n",
       "\n",
       "    .dataframe thead th {\n",
       "        text-align: right;\n",
       "    }\n",
       "</style>\n",
       "<table border=\"1\" class=\"dataframe\">\n",
       "  <thead>\n",
       "    <tr style=\"text-align: right;\">\n",
       "      <th></th>\n",
       "      <th>Differences</th>\n",
       "      <th>Count</th>\n",
       "    </tr>\n",
       "  </thead>\n",
       "  <tbody>\n",
       "    <tr>\n",
       "      <th>0</th>\n",
       "      <td>8</td>\n",
       "      <td>608</td>\n",
       "    </tr>\n",
       "    <tr>\n",
       "      <th>1</th>\n",
       "      <td>7</td>\n",
       "      <td>183</td>\n",
       "    </tr>\n",
       "    <tr>\n",
       "      <th>2</th>\n",
       "      <td>9</td>\n",
       "      <td>201</td>\n",
       "    </tr>\n",
       "    <tr>\n",
       "      <th>3</th>\n",
       "      <td>10</td>\n",
       "      <td>8</td>\n",
       "    </tr>\n",
       "  </tbody>\n",
       "</table>\n",
       "</div>"
      ],
      "text/plain": [
       "  Differences  Count\n",
       "0           8    608\n",
       "1           7    183\n",
       "2           9    201\n",
       "3          10      8"
      ]
     },
     "execution_count": 58,
     "metadata": {},
     "output_type": "execute_result"
    }
   ],
   "source": [
    "df_dists = pandas.DataFrame(dists.items(), columns=[\"Differences\", \"Count\"])\n",
    "df_dists.head()"
   ]
  },
  {
   "cell_type": "markdown",
   "metadata": {},
   "source": [
    "We see that there are still no indistinguishable rows in the dataset. We would have to remove at least 7 more columns in order to achieve k-anonymity for k > 1. That is very likely not worth it. We do think that we have achieved good enough privacy by removing the sensitive features."
   ]
  },
  {
   "cell_type": "markdown",
   "metadata": {},
   "source": [
    "## Step 2: Randomised Response mechanism"
   ]
  },
  {
   "cell_type": "markdown",
   "metadata": {},
   "source": [
    "We here try to randomise the response for the feature \"Repaid\", as this feature could potentially incriminate an individual associated with a negative record. We start of by randomising the repaid column with a theta of `0.5`. We then present the mean of the actual values and the randomised values. After that, we show a histogram of different samples.\n",
    "\n",
    "<strong> Obs: This is also greatly inspired by Dirk's lab sessions. </strong>"
   ]
  },
  {
   "cell_type": "code",
   "execution_count": 59,
   "metadata": {},
   "outputs": [],
   "source": [
    "def randomized_response(a, theta=0.5):\n",
    "    \"\"\"\n",
    "    Performs a randomized response mechanism on some array of values a\n",
    "    \"\"\"\n",
    "    repaids = np.random.choice([True, False], len(a), p=(theta, 1-theta))\n",
    "    response = a.copy()\n",
    "    noise = np.random.choice([0, 1], len(a))\n",
    "    response[~repaids] = noise[~repaids]\n",
    "    return response"
   ]
  },
  {
   "cell_type": "code",
   "execution_count": 60,
   "metadata": {},
   "outputs": [],
   "source": [
    "X, encoded_f, tar = get_data(VALID_PATH)\n",
    "res = {}\n",
    "data = np.asarray(X[\"repaid\"])\n",
    "# 2 == bad loan, 1 == good\n",
    "data = np.where(data == 2, 0, 1)\n",
    "res[\"actual\"] = data.mean()\n",
    "res[\"randomised\"] = randomized_response(data).mean()"
   ]
  },
  {
   "cell_type": "code",
   "execution_count": 61,
   "metadata": {},
   "outputs": [
    {
     "data": {
      "text/html": [
       "<div>\n",
       "<style scoped>\n",
       "    .dataframe tbody tr th:only-of-type {\n",
       "        vertical-align: middle;\n",
       "    }\n",
       "\n",
       "    .dataframe tbody tr th {\n",
       "        vertical-align: top;\n",
       "    }\n",
       "\n",
       "    .dataframe thead th {\n",
       "        text-align: right;\n",
       "    }\n",
       "</style>\n",
       "<table border=\"1\" class=\"dataframe\">\n",
       "  <thead>\n",
       "    <tr style=\"text-align: right;\">\n",
       "      <th></th>\n",
       "      <th>Set</th>\n",
       "      <th>Results</th>\n",
       "    </tr>\n",
       "  </thead>\n",
       "  <tbody>\n",
       "    <tr>\n",
       "      <th>0</th>\n",
       "      <td>actual</td>\n",
       "      <td>0.365</td>\n",
       "    </tr>\n",
       "    <tr>\n",
       "      <th>1</th>\n",
       "      <td>randomised</td>\n",
       "      <td>0.449</td>\n",
       "    </tr>\n",
       "  </tbody>\n",
       "</table>\n",
       "</div>"
      ],
      "text/plain": [
       "          Set  Results\n",
       "0      actual    0.365\n",
       "1  randomised    0.449"
      ]
     },
     "execution_count": 61,
     "metadata": {},
     "output_type": "execute_result"
    }
   ],
   "source": [
    "df = pandas.DataFrame(res.items(), columns=[\"Set\", \"Results\"])\n",
    "df"
   ]
  },
  {
   "cell_type": "code",
   "execution_count": 62,
   "metadata": {},
   "outputs": [],
   "source": [
    "def gen_sample(p, n=1000):\n",
    "    return np.random.choice([0, 1], 1000, p=(1-p, p))\n",
    "def show_hists(p, theta):\n",
    "    approx = [approx_p(gen_sample(p), theta) for _ in range(1000)]\n",
    "    true_v = [gen_sample(p).mean() for _ in range(1000)]\n",
    "    plt.hist(approx, bins=15, alpha=0.5, label=\"noisy dist\")\n",
    "    plt.hist(true_v, bins=15, alpha=0.5, label=\"actual dist\")\n",
    "    plt.legend()\n",
    "def approx_p(sample, theta=0.5):\n",
    "    return (randomized_response(sample, theta).mean() - (1-theta)*0.5)/theta"
   ]
  },
  {
   "cell_type": "code",
   "execution_count": 63,
   "metadata": {},
   "outputs": [
    {
     "data": {
      "image/png": "[encoded data removed]",
      "text/plain": [
       "<Figure size 432x288 with 1 Axes>"
      ]
     },
     "metadata": {
      "needs_background": "light"
     },
     "output_type": "display_data"
    }
   ],
   "source": [
    "p = approx_p(data)\n",
    "show_hists(p, 0.5)"
   ]
  },
  {
   "cell_type": "markdown",
   "metadata": {},
   "source": [
    "As one can see from the histogram, having a randomised response mechanism creates some noise around values, and one gets a more spread distribution. However, the noisy and actual distributions both have similar averages. However, since our data is extremely sensitive to a false label due to the vast differences in potential utilities, even a few wrong labels might bring the classifier from good to terrible."
   ]
  },
  {
   "cell_type": "markdown",
   "metadata": {},
   "source": [
    "## Step 3:  Outline of a $\\epsilon$ -DP rutine on the \"repaid\" column\n"
   ]
  },
  {
   "cell_type": "markdown",
   "metadata": {},
   "source": [
    "The formula for any algorithm being differentially private:"
   ]
  },
  {
   "cell_type": "markdown",
   "metadata": {},
   "source": [
    "$$\\left|\\log\\frac{\\pi(a, x)}{\\pi(a, x')}\\right| \\leq \\epsilon$$"
   ]
  },
  {
   "cell_type": "code",
   "execution_count": 64,
   "metadata": {},
   "outputs": [],
   "source": [
    "data_reg = np.asarray(data[1:10])\n",
    "data_prime = data_reg.copy()\n",
    "data_prime[-1] = 1 if data_prime[-1] == 0 else 0"
   ]
  },
  {
   "cell_type": "code",
   "execution_count": 65,
   "metadata": {},
   "outputs": [],
   "source": [
    "thetas = np.linspace(0.1, 0.5, 20)\n",
    "ratios = [\n",
    "    np.fromiter(((randomized_response(data_reg, theta) == data_reg).all() for _ in range(1000)), bool).mean() /\n",
    "    np.fromiter(((randomized_response(data_prime, theta) == data_reg).all() for _ in range(1000)), bool).mean()\n",
    "    for theta in thetas\n",
    "]"
   ]
  },
  {
   "cell_type": "code",
   "execution_count": 66,
   "metadata": {},
   "outputs": [],
   "source": [
    "%matplotlib inline"
   ]
  },
  {
   "cell_type": "code",
   "execution_count": 67,
   "metadata": {},
   "outputs": [
    {
     "data": {
      "image/png": "[encoded data removed]",
      "text/plain": [
       "<Figure size 432x288 with 1 Axes>"
      ]
     },
     "metadata": {
      "needs_background": "light"
     },
     "output_type": "display_data"
    }
   ],
   "source": [
    "plt.scatter(thetas, np.log(ratios))\n",
    "plt.xlabel(\"Thetas\")\n",
    "plt.ylabel(\"Information loss\")\n",
    "None"
   ]
  },
  {
   "cell_type": "code",
   "execution_count": 68,
   "metadata": {},
   "outputs": [],
   "source": [
    "import random"
   ]
  },
  {
   "cell_type": "markdown",
   "metadata": {},
   "source": [
    "An attempt at finding some epsilon. Not very successful."
   ]
  },
  {
   "cell_type": "code",
   "execution_count": 69,
   "metadata": {},
   "outputs": [],
   "source": [
    "def check_if_dp_matters(n=100, k=25):\n",
    "    X, enc, tar = get_data(TRAIN_PATH, drop_cols=True)\n",
    "    X_te, _, _ = get_data(VALID_PATH, drop_cols=True)\n",
    "    ir = .017\n",
    "    dm = AdrianSondreBanker(MultinomialNB())\n",
    "    dm.set_interest_rate(ir)\n",
    "    dm.fit(X[enc], X[tar])\n",
    "    results = []\n",
    "    random_results = []\n",
    "    for _ in range(n):\n",
    "        chunk = X_te.sample(k)\n",
    "        rand_chunk = chunk.copy()\n",
    "        idx_to_replace = random.randint(0, k-1)\n",
    "        rand_chunk.iloc[idx_to_replace] = X_te[~X_te.isin(rand_chunk)].dropna().sample(1).squeeze()\n",
    "        \n",
    "        tot_norm, tot_rand = [], []\n",
    "        tot_norm = dm.model.predict_proba([row for _, row in chunk[enc].iterrows()])\n",
    "        tot_rand = dm.model.predict_proba([row for _, row in rand_chunk[enc].iterrows()])\n",
    "        \n",
    "        norm_class_1, norm_class_2 = np.array(tot_norm)[:,0], np.array(tot_norm)[:,1]\n",
    "        rand_class_1, rand_class_2 = np.array(tot_rand)[:,0], np.array(tot_rand)[:,1]\n",
    "        \n",
    "        results.append(np.log(norm_class_1 / rand_class_1))\n",
    "        random_results.append(np.log(norm_class_2 / rand_class_2))\n",
    "    \n",
    "    return results, random_results"
   ]
  },
  {
   "cell_type": "code",
   "execution_count": 70,
   "metadata": {},
   "outputs": [],
   "source": [
    "logs, randlogs = check_if_dp_matters()"
   ]
  },
  {
   "cell_type": "code",
   "execution_count": 71,
   "metadata": {},
   "outputs": [
    {
     "data": {
      "text/plain": [
       "38.86441263188985"
      ]
     },
     "execution_count": 71,
     "metadata": {},
     "output_type": "execute_result"
    }
   ],
   "source": [
    "max([max(l) for l in logs])"
   ]
  },
  {
   "cell_type": "markdown",
   "metadata": {},
   "source": [
    "\\pagebreak"
   ]
  },
  {
   "cell_type": "markdown",
   "metadata": {},
   "source": [
    "# Possible Deficiencies <a id=\"discussion\"></a>"
   ]
  },
  {
   "cell_type": "markdown",
   "metadata": {},
   "source": [
    "Deploying this model as it is, would pose several problems, of which the biggest are:\n",
    "- As the data is multiple decades old, it might not be representative of today's loans applicants.\n",
    "- The distributions of some of the variables were especially uneven. For example, the gender distribution of the training set was ~33% female and ~67% male. In the section on fairness we explain how this did not affect the total utility, but we do not know how it might behave with other data. The same goes for the foreign worker status; ~80% of the records used to train the model were foreign workers, and even though we tried to account for these discrepancies – we cannot guarantee that it will hold in all use cases. Any usage of this model should therefore monitor these things closely to ensure that sensitive variables are not used in credit scores.\n",
    "- The model development focused on utility. This is of course advantageous from a business point of view, but as a financial institution one might want to adjust the approach so that the decisions fit in a more long-term strategy. \n",
    "- Our model, the MultinomailNB, received the highest total utility in our comparison, but not high accuracy in its classifications. This might influence the fairness of the model when the total amount of loan one can grant is limited: Rejecting someone in favor of accepting someone else that might give higher returns is perhaps an economically viable solution, but perhaps not so for the brand of the bank.\n",
    "\n",
    "Furthermore, although multiple privacy measures were implemented, we cannot guarantee for the privacy of the participants. The routine for k-anonymity (see section) showed that the data contained a lot of distinguishable records. The discussion on privacy shows that implementing K-anonymity in this case was not feasible while at the same time achieving some utility. This is a clear model deficiency that any users should take into account."
   ]
  },
  {
   "cell_type": "markdown",
   "metadata": {},
   "source": [
    "# Results"
   ]
  },
  {
   "cell_type": "code",
   "execution_count": 72,
   "metadata": {},
   "outputs": [],
   "source": [
    "def test_final_model():\n",
    "    tr_data, enc, tar = get_data(TRAIN_PATH)\n",
    "    val_data, _, _ = get_data(VALID_PATH)\n",
    "    test_data, _, _ = get_data(TEST_PATH)\n",
    "    \n",
    "    dm = AdrianSondreBanker(MultinomialNB())\n",
    "    X = pandas.concat([tr_data, val_data])\n",
    "    X = tr_data\n",
    "    dm.fit(X[enc], X[tar])\n",
    "    uti, avg = test_decision_maker(test_data[enc], test_data[tar], 0.017, dm)\n",
    "    acc = dm.model.score(test_data[enc], test_data[tar])\n",
    "    return uti, avg, acc"
   ]
  },
  {
   "cell_type": "code",
   "execution_count": 73,
   "metadata": {},
   "outputs": [
    {
     "name": "stdout",
     "output_type": "stream",
     "text": [
      "Total utility: 54108920.2440422\n",
      "Average return: 1227.2177919017788\n",
      "Model accuracy: 0.604\n"
     ]
    }
   ],
   "source": [
    "uti, avg, acc = test_final_model()\n",
    "print(f\"Total utility: {uti}\")\n",
    "print(f\"Average return: {avg}\")\n",
    "print(f\"Model accuracy: {acc}\")"
   ]
  },
  {
   "cell_type": "markdown",
   "metadata": {},
   "source": [
    "We concatenate the train and validation datasets in order to get more training data before the final test. We have outlined this in the section about reproducibility and reliability. The reason that the total utility is so much higher than the other sets is probably due to a couple of people that loaned money over a very long duration. Our formula results in some extremely high numbers, and it's very possible that up to 30% of the total utility came from a single person, as there are multiple people labelled with _1_ that could potentially do that"
   ]
  },
  {
   "cell_type": "markdown",
   "metadata": {},
   "source": [
    "# References"
   ]
  },
  {
   "cell_type": "markdown",
   "metadata": {},
   "source": [
    "Zafar, M. B., Valera, I., Gomez-Rodriguez, M., & Gummadi, K. P. (2019). Fairness Constraints: A Flexible Approach for Fair Classification. J. Mach. Learn. Res., 20(75), 1-42."
   ]
  },
  {
   "cell_type": "code",
   "execution_count": null,
   "metadata": {},
   "outputs": [],
   "source": []
  }
 ],
 "metadata": {
  "kernelspec": {
   "display_name": "Python 3",
   "language": "python",
   "name": "python3"
  },
  "language_info": {
   "codemirror_mode": {
    "name": "ipython",
    "version": 3
   },
   "file_extension": ".py",
   "mimetype": "text/x-python",
   "name": "python",
   "nbconvert_exporter": "python",
   "pygments_lexer": "ipython3",
   "version": "3.7.7"
  },
  "title": "AdrianSondreBanker: A bank credit policy using Multinomial Naive Bayes"
 },
 "nbformat": 4,
 "nbformat_minor": 4
}
